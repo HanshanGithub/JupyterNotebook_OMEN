{
 "cells": [
  {
   "cell_type": "code",
   "execution_count": 8,
   "id": "d79d2f7e",
   "metadata": {},
   "outputs": [
    {
     "ename": "ModuleNotFoundError",
     "evalue": "No module named 'dearpygui.core'",
     "output_type": "error",
     "traceback": [
      "\u001b[1;31m---------------------------------------------------------------------------\u001b[0m",
      "\u001b[1;31mModuleNotFoundError\u001b[0m                       Traceback (most recent call last)",
      "Cell \u001b[1;32mIn[8], line 1\u001b[0m\n\u001b[1;32m----> 1\u001b[0m \u001b[38;5;28;01mfrom\u001b[39;00m \u001b[38;5;21;01mdearpygui\u001b[39;00m\u001b[38;5;21;01m.\u001b[39;00m\u001b[38;5;21;01mcore\u001b[39;00m \u001b[38;5;28;01mimport\u001b[39;00m \u001b[38;5;241m*\u001b[39m\n\u001b[0;32m      2\u001b[0m \u001b[38;5;28;01mfrom\u001b[39;00m \u001b[38;5;21;01mdearpygui\u001b[39;00m\u001b[38;5;21;01m.\u001b[39;00m\u001b[38;5;21;01msimple\u001b[39;00m \u001b[38;5;28;01mimport\u001b[39;00m \u001b[38;5;241m*\u001b[39m\n",
      "\u001b[1;31mModuleNotFoundError\u001b[0m: No module named 'dearpygui.core'"
     ]
    }
   ],
   "source": [
    "from dearpygui.core import *\n",
    "from dearpygui.simple import *"
   ]
  },
  {
   "cell_type": "code",
   "execution_count": 9,
   "id": "7e891f4d",
   "metadata": {},
   "outputs": [],
   "source": [
    "import dearpygui\n",
    "# from dearpygui.core import *\n",
    "# from dearpygui.simple import *"
   ]
  },
  {
   "cell_type": "code",
   "execution_count": 3,
   "id": "324a27bc",
   "metadata": {},
   "outputs": [],
   "source": [
    "import math"
   ]
  },
  {
   "cell_type": "code",
   "execution_count": 4,
   "id": "7b1f722a",
   "metadata": {},
   "outputs": [],
   "source": [
    "import numpy as np"
   ]
  },
  {
   "cell_type": "code",
   "execution_count": 5,
   "id": "c5a9727d",
   "metadata": {},
   "outputs": [],
   "source": [
    "from scipy import interpolate"
   ]
  },
  {
   "cell_type": "code",
   "execution_count": 7,
   "id": "28851f51",
   "metadata": {},
   "outputs": [
    {
     "ename": "ImportError",
     "evalue": "Error loading librtlsdr. Make sure librtlsdr (and all of its dependencies) are in your path",
     "output_type": "error",
     "traceback": [
      "\u001b[1;31m---------------------------------------------------------------------------\u001b[0m",
      "\u001b[1;31mImportError\u001b[0m                               Traceback (most recent call last)",
      "Cell \u001b[1;32mIn[7], line 1\u001b[0m\n\u001b[1;32m----> 1\u001b[0m \u001b[38;5;28;01mfrom\u001b[39;00m \u001b[38;5;21;01mpyrtlsdr\u001b[39;00m\u001b[38;5;21;01m.\u001b[39;00m\u001b[38;5;21;01mrtlsdr\u001b[39;00m \u001b[38;5;28;01mimport\u001b[39;00m RtlSdr\n",
      "File \u001b[1;32mE:\\soft\\anaconda\\envs\\OMEN\\lib\\site-packages\\pyrtlsdr\\rtlsdr\\__init__.py:56\u001b[0m\n\u001b[0;32m     54\u001b[0m     AIO_AVAILABLE \u001b[38;5;241m=\u001b[39m \u001b[38;5;28;01mFalse\u001b[39;00m\n\u001b[0;32m     55\u001b[0m \u001b[38;5;28;01melse\u001b[39;00m:\n\u001b[1;32m---> 56\u001b[0m     \u001b[38;5;28;01mfrom\u001b[39;00m \u001b[38;5;21;01m.\u001b[39;00m\u001b[38;5;21;01mlibrtlsdr\u001b[39;00m \u001b[38;5;28;01mimport\u001b[39;00m librtlsdr\n\u001b[0;32m     57\u001b[0m     \u001b[38;5;28;01mfrom\u001b[39;00m \u001b[38;5;21;01m.\u001b[39;00m\u001b[38;5;21;01mrtlsdr\u001b[39;00m \u001b[38;5;28;01mimport\u001b[39;00m RtlSdr\n\u001b[0;32m     58\u001b[0m     \u001b[38;5;28;01mfrom\u001b[39;00m \u001b[38;5;21;01m.\u001b[39;00m\u001b[38;5;21;01mrtlsdrtcp\u001b[39;00m \u001b[38;5;28;01mimport\u001b[39;00m RtlSdrTcpServer, RtlSdrTcpClient\n",
      "File \u001b[1;32mE:\\soft\\anaconda\\envs\\OMEN\\lib\\site-packages\\pyrtlsdr\\rtlsdr\\librtlsdr.py:52\u001b[0m\n\u001b[0;32m     47\u001b[0m         \u001b[38;5;28;01mraise\u001b[39;00m \u001b[38;5;167;01mImportError\u001b[39;00m(\u001b[38;5;124m'\u001b[39m\u001b[38;5;124mError loading librtlsdr. Make sure librtlsdr \u001b[39m\u001b[38;5;124m'\u001b[39m\\\n\u001b[0;32m     48\u001b[0m                           \u001b[38;5;124m'\u001b[39m\u001b[38;5;124m(and all of its dependencies) are in your path\u001b[39m\u001b[38;5;124m'\u001b[39m)\n\u001b[0;32m     50\u001b[0m     \u001b[38;5;28;01mreturn\u001b[39;00m dll\n\u001b[1;32m---> 52\u001b[0m librtlsdr \u001b[38;5;241m=\u001b[39m \u001b[43mload_librtlsdr\u001b[49m\u001b[43m(\u001b[49m\u001b[43m)\u001b[49m\n\u001b[0;32m     54\u001b[0m \u001b[38;5;66;03m# we don't care about the rtlsdr_dev struct and it's allocated by librtlsdr, so\u001b[39;00m\n\u001b[0;32m     55\u001b[0m \u001b[38;5;66;03m# we won't even bother filling it in\u001b[39;00m\n\u001b[0;32m     56\u001b[0m p_rtlsdr_dev \u001b[38;5;241m=\u001b[39m c_void_p\n",
      "File \u001b[1;32mE:\\soft\\anaconda\\envs\\OMEN\\lib\\site-packages\\pyrtlsdr\\rtlsdr\\librtlsdr.py:47\u001b[0m, in \u001b[0;36mload_librtlsdr\u001b[1;34m()\u001b[0m\n\u001b[0;32m     45\u001b[0m         \u001b[38;5;28;01mpass\u001b[39;00m\n\u001b[0;32m     46\u001b[0m \u001b[38;5;28;01melse\u001b[39;00m:\n\u001b[1;32m---> 47\u001b[0m     \u001b[38;5;28;01mraise\u001b[39;00m \u001b[38;5;167;01mImportError\u001b[39;00m(\u001b[38;5;124m'\u001b[39m\u001b[38;5;124mError loading librtlsdr. Make sure librtlsdr \u001b[39m\u001b[38;5;124m'\u001b[39m\\\n\u001b[0;32m     48\u001b[0m                       \u001b[38;5;124m'\u001b[39m\u001b[38;5;124m(and all of its dependencies) are in your path\u001b[39m\u001b[38;5;124m'\u001b[39m)\n\u001b[0;32m     50\u001b[0m \u001b[38;5;28;01mreturn\u001b[39;00m dll\n",
      "\u001b[1;31mImportError\u001b[0m: Error loading librtlsdr. Make sure librtlsdr (and all of its dependencies) are in your path"
     ]
    }
   ],
   "source": [
    "from pyrtlsdr.rtlsdr import RtlSdr"
   ]
  },
  {
   "cell_type": "code",
   "execution_count": null,
   "id": "0258d257",
   "metadata": {},
   "outputs": [],
   "source": []
  },
  {
   "cell_type": "code",
   "execution_count": null,
   "id": "818dc9ad",
   "metadata": {},
   "outputs": [],
   "source": []
  },
  {
   "cell_type": "code",
   "execution_count": null,
   "id": "4a521369",
   "metadata": {},
   "outputs": [],
   "source": []
  },
  {
   "cell_type": "code",
   "execution_count": null,
   "id": "23b55ace",
   "metadata": {},
   "outputs": [],
   "source": []
  },
  {
   "cell_type": "code",
   "execution_count": null,
   "id": "a637218d",
   "metadata": {},
   "outputs": [],
   "source": []
  },
  {
   "cell_type": "code",
   "execution_count": null,
   "id": "906d597b",
   "metadata": {},
   "outputs": [],
   "source": []
  },
  {
   "cell_type": "code",
   "execution_count": null,
   "id": "3f1274a7",
   "metadata": {},
   "outputs": [],
   "source": []
  },
  {
   "cell_type": "code",
   "execution_count": null,
   "id": "b729247f",
   "metadata": {},
   "outputs": [],
   "source": []
  },
  {
   "cell_type": "code",
   "execution_count": null,
   "id": "7ddae198",
   "metadata": {},
   "outputs": [],
   "source": []
  }
 ],
 "metadata": {
  "kernelspec": {
   "display_name": "Python 3 (ipykernel)",
   "language": "python",
   "name": "python3"
  },
  "language_info": {
   "codemirror_mode": {
    "name": "ipython",
    "version": 3
   },
   "file_extension": ".py",
   "mimetype": "text/x-python",
   "name": "python",
   "nbconvert_exporter": "python",
   "pygments_lexer": "ipython3",
   "version": "3.8.15"
  }
 },
 "nbformat": 4,
 "nbformat_minor": 5
}
