{
 "cells": [
  {
   "cell_type": "markdown",
   "id": "f19d46ae",
   "metadata": {},
   "source": [
    "### 信息查看"
   ]
  },
  {
   "cell_type": "code",
   "execution_count": 1,
   "id": "348b6745",
   "metadata": {},
   "outputs": [],
   "source": [
    "import os"
   ]
  },
  {
   "cell_type": "code",
   "execution_count": 2,
   "id": "0eb62882",
   "metadata": {},
   "outputs": [],
   "source": [
    "env_dist = os.environ # environ是在os.py中定义的一个dict environ = {}"
   ]
  },
  {
   "cell_type": "code",
   "execution_count": 3,
   "id": "dd352f60",
   "metadata": {},
   "outputs": [
    {
     "data": {
      "text/plain": [
       "os._Environ"
      ]
     },
     "execution_count": 3,
     "metadata": {},
     "output_type": "execute_result"
    }
   ],
   "source": [
    "type(env_dist)"
   ]
  },
  {
   "cell_type": "code",
   "execution_count": 4,
   "id": "4e9b7349",
   "metadata": {},
   "outputs": [
    {
     "name": "stdout",
     "output_type": "stream",
     "text": [
      "ALLUSERSPROFILE : C:\\ProgramData\n",
      "APPDATA : C:\\Users\\16340\\AppData\\Roaming\n",
      "CHOCOLATEYINSTALL : C:\\ProgramData\\chocolatey\n",
      "CHOCOLATEYLASTPATHUPDATE : 133146282998094300\n",
      "COMMONPROGRAMFILES : C:\\Program Files\\Common Files\n",
      "COMMONPROGRAMFILES(X86) : C:\\Program Files (x86)\\Common Files\n",
      "COMMONPROGRAMW6432 : C:\\Program Files\\Common Files\n",
      "COMPUTERNAME : OMEN\n",
      "COMSPEC : C:\\Windows\\system32\\cmd.exe\n",
      "CUDA_PATH : C:\\Program Files\\NVIDIA GPU Computing Toolkit\\CUDA\\v8.0\n",
      "CUDA_PATH_V11_2 : C:\\Program Files\\NVIDIA GPU Computing Toolkit\\CUDA\\v11.2\n",
      "CUDA_PATH_V8_0 : C:\\Program Files\\NVIDIA GPU Computing Toolkit\\CUDA\\v8.0\n",
      "DRIVERDATA : C:\\Windows\\System32\\Drivers\\DriverData\n",
      "HADOOP_HOME : E:\\Python\\Radio_dll\\rtlsdr-bin-w64_dlldep\n",
      "HOMEDRIVE : C:\n",
      "HOMEPATH : \\Users\\16340\n",
      "INTELLIJ IDEA : E:\\soft\\IDEA2021Pro\\IntelliJ IDEA 2021.1\\bin;\n",
      "INTELLIJ IDEA COMMUNITY EDITION : D:\\nit_software\\IDEA\\IntelliJ IDEA Community Edition 2021.2.2\\bin;\n",
      "LOCALAPPDATA : C:\\Users\\16340\\AppData\\Local\n",
      "LOGONSERVER : \\\\OMEN\n",
      "MAVEN_HOME : E:\\Hadoop\\Maven\\apache-maven-3.8.1\n",
      "MONGODB_HOME : E:\\Hadoop\\MongoDB\n",
      "MYSQL_HOME : E:\\Hadoop\\MySQL\\mysql-8.0.27-winx64\n",
      "NUMBER_OF_PROCESSORS : 12\n",
      "NVCUDASAMPLES11_2_ROOT : C:\\ProgramData\\NVIDIA Corporation\\CUDA Samples\\v11.2\n",
      "NVCUDASAMPLES8_0_ROOT : C:\\ProgramData\\NVIDIA Corporation\\CUDA Samples\\v8.0\n",
      "NVCUDASAMPLES_ROOT : C:\\ProgramData\\NVIDIA Corporation\\CUDA Samples\\v8.0\n",
      "NVTOOLSEXT_PATH : C:\\Program Files\\NVIDIA Corporation\\NvToolsExt\\\n",
      "ONEDRIVE : E:\\OneDrive365\\OneDrive\n",
      "ONEDRIVECONSUMER : E:\\OneDrive365\\OneDrive\n",
      "ONLINESERVICES : Online Services\n",
      "OS : Windows_NT\n",
      "PATH : E:\\soft\\anaconda\\envs\\OMEN;E:\\soft\\anaconda\\envs\\OMEN\\Library\\mingw-w64\\bin;E:\\soft\\anaconda\\envs\\OMEN\\Library\\usr\\bin;E:\\soft\\anaconda\\envs\\OMEN\\Library\\bin;E:\\soft\\anaconda\\envs\\OMEN\\Scripts;C:\\Program Files\\NVIDIA GPU Computing Toolkit\\CUDA\\v11.2\\bin;C:\\Program Files\\NVIDIA GPU Computing Toolkit\\CUDA\\v11.2\\libnvvp;D:\\nit_software\\python\\python3810\\Scripts\\;D:\\nit_software\\python\\python3810\\;D:\\nit_software\\vm\\bin\\;C:\\Program Files\\Common Files\\Oracle\\Java\\javapath;C:\\Program Files (x86)\\Common Files\\Oracle\\Java\\javapath;C:\\windows\\system32;C:\\windows;C:\\windows\\System32\\Wbem;C:\\windows\\System32\\WindowsPowerShell\\v1.0\\;C:\\windows\\System32\\OpenSSH\\;C:\\Program Files (x86)\\NVIDIA Corporation\\PhysX\\Common;C:\\Program Files\\NVIDIA Corporation\\NVIDIA NvDLISR;C:\\Windows\\system32;C:\\Windows;C:\\Windows\\System32\\Wbem;C:\\Windows\\System32\\WindowsPowerShell\\v1.0\\;C:\\Windows\\System32\\OpenSSH\\;D:\\nit_software\\matlab\\matlab_R2020b\\runtime\\win64;D:\\nit_software\\matlab\\matlab_R2020b\\bin;D:\\nit_software\\matlab\\matlab_R2020b\\polyspace\\bin;E:\\VisualStudio\\oepncv3415\\opencv\\build\\x64\\vc14\\bin;E:\\VisualStudio\\oepncv3414\\opencv\\build\\x64\\vc14\\bin;D:\\nit_software\\Git\\cmd;D:\\nit_software\\Xsehll_Xftp\\Xshell 7\\;D:\\nit_software\\Xsehll_Xftp\\Xftp 7\\;E:\\Hadoop\\Maven\\apache-maven-3.8.1\\bin;C:\\Program Files\\Microsoft SQL Server\\120\\Tools\\Binn\\;E:\\Hadoop\\hadoop-3.3.1\\bin;E:\\Hadoop\\Scala\\scala-2.12.10\\bin;E:\\Hadoop\\MongoDB\\bin;E:\\JupyterNotebook;E:\\VisualStudio\\CMake\\build\\bin;C:\\Program Files (x86)\\Microsoft SQL Server\\100\\Tools\\Binn\\;C:\\Program Files\\Microsoft SQL Server\\100\\Tools\\Binn\\;C:\\Program Files\\Microsoft SQL Server\\100\\DTS\\Binn\\;E:\\soft\\CMake\\bin;E:\\soft\\CMake2\\bin;C:\\Program Files\\Microsoft SQL Server\\130\\Tools\\Binn\\;E:\\Hadoop\\MySQL\\mysql-8.0.27-winx64\\bin;C:\\Program Files\\NVIDIA Corporation\\Nsight Compute 2020.3.1\\;E:\\soft\\Xmanager\\Xmanager 7\\;E:\\soft\\Xmanager\\Xlpd 7\\;C:\\Program Files\\Microsoft SQL Server\\150\\Tools\\Binn\\;C:\\Program Files\\dotnet\\;E:\\soft\\DeepLearn\\cuda\\bin;E:\\soft\\DeepLearn\\cuda\\lib\\x64;C:\\Program Files\\Microsoft SQL Server\\Client SDK\\ODBC\\170\\Tools\\Binn\\;E:\\soft\\anaconda3\\envs\\Pytorch38;E:\\VisualStudio\\oepncv3414\\opencv\\build\\include\\opencv2;C:\\Program Files\\Microsoft\\Web Platform Installer\\;C:\\Program Files (x86)\\Microsoft ASP.NET\\ASP.NET Web Pages\\v1.0\\;C:\\Program Files\\Microsoft SQL Server\\110\\Tools\\Binn\\;C:\\ProgramData\\chocolatey\\bin;E:\\soft\\nodejs\\;E:\\soft\\python39\\Scripts\\;E:\\soft\\python39\\;E:\\soft\\python311\\Scripts\\;E:\\soft\\python311\\;C:\\Program Files\\MySQL\\MySQL Shell 8.0\\bin\\;C:\\Users\\16340\\AppData\\Local\\Microsoft\\WindowsApps;D:\\nit_software\\IDEA\\IntelliJ IDEA Community Edition 2021.2.2\\bin;D:\\nit_software\\pycharm\\PyCharm Community Edition 2021.2.2\\bin;D:\\nit_software\\vsCode\\Microsoft VS Code\\bin;E:\\soft\\Pycharm2021Pro\\PyCharm 2021.1.1\\bin;E:\\soft\\IDEA2021Pro\\IntelliJ IDEA 2021.1\\bin;C:\\Users\\16340\\.dotnet\\tools;C:\\Users\\16340\\AppData\\Local\\GitHubDesktop\\bin;E:\\soft\\Fiddler;C:\\Users\\16340\\.dotnet\\tools;C:\\Users\\16340\\AppData\\Roaming\\npm;E:\\soft\\pycharm2021\\PyCharm Community Edition 2022.3\\bin;;E:\\soft\\PyCharm\\PyCharm 2022.3\\bin;;E:\\my_add_path;\n",
      "PATHEXT : .COM;.EXE;.BAT;.CMD;.VBS;.VBE;.JS;.JSE;.WSF;.WSH;.MSC\n",
      "PLATFORMCODE : KV\n",
      "PROCESSOR_ARCHITECTURE : AMD64\n",
      "PROCESSOR_IDENTIFIER : Intel64 Family 6 Model 158 Stepping 13, GenuineIntel\n",
      "PROCESSOR_LEVEL : 6\n",
      "PROCESSOR_REVISION : 9e0d\n",
      "PROGRAMDATA : C:\\ProgramData\n",
      "PROGRAMFILES : C:\\Program Files\n",
      "PROGRAMFILES(X86) : C:\\Program Files (x86)\n",
      "PROGRAMW6432 : C:\\Program Files\n",
      "PSMODULEPATH : C:\\Program Files\\WindowsPowerShell\\Modules;C:\\Windows\\system32\\WindowsPowerShell\\v1.0\\Modules\n",
      "PUBLIC : C:\\Users\\Public\n",
      "PYCHARM : E:\\soft\\PyCharm\\PyCharm 2022.3\\bin;\n",
      "PYCHARM COMMUNITY EDITION : E:\\soft\\pycharm2021\\PyCharm Community Edition 2022.3\\bin;\n",
      "PYRTLSDR_PATH : E:\\Python\\Radio_dll\\rtlsdr-bin-w64_dlldep\n",
      "QTMSBUILD : C:\\Users\\16340\\AppData\\Local\\QtMsBuild\n",
      "REGIONCODE : APJ\n",
      "SCALA_HOME : E:\\Hadoop\\Scala\\scala-2.12.10\n",
      "SESSIONNAME : Console\n",
      "SYSTEMDRIVE : C:\n",
      "SYSTEMROOT : C:\\Windows\n",
      "TEMP : C:\\Users\\16340\\AppData\\Local\\Temp\n",
      "TMP : C:\\Users\\16340\\AppData\\Local\\Temp\n",
      "USERDOMAIN : OMEN\n",
      "USERDOMAIN_ROAMINGPROFILE : OMEN\n",
      "USERNAME : 16340\n",
      "USERPROFILE : C:\\Users\\16340\n",
      "VS110COMNTOOLS : E:\\soft\\vs2012\\Common7\\Tools\\\n",
      "VS120COMNTOOLS : E:\\soft\\vs2013\\Common7\\Tools\\\n",
      "VS140COMNTOOLS : E:\\soft\\VisualStudio2015\\Common7\\Tools\\\n",
      "WINDIR : C:\\Windows\n",
      "CONDA_PREFIX : E:\\soft\\anaconda\\envs\\OMEN\n",
      "PYDEVD_USE_FRAME_EVAL : NO\n",
      "JPY_INTERRUPT_EVENT : 2612\n",
      "IPY_INTERRUPT_EVENT : 2612\n",
      "JPY_PARENT_PID : 2608\n",
      "TERM : xterm-color\n",
      "CLICOLOR : 1\n",
      "PAGER : cat\n",
      "GIT_PAGER : cat\n",
      "MPLBACKEND : module://matplotlib_inline.backend_inline\n"
     ]
    }
   ],
   "source": [
    "for key in env_dist:\n",
    "    print (key + ' : ' + env_dist[key])"
   ]
  },
  {
   "cell_type": "code",
   "execution_count": null,
   "id": "1198980a",
   "metadata": {},
   "outputs": [],
   "source": []
  }
 ],
 "metadata": {
  "kernelspec": {
   "display_name": "Python 3 (ipykernel)",
   "language": "python",
   "name": "python3"
  },
  "language_info": {
   "codemirror_mode": {
    "name": "ipython",
    "version": 3
   },
   "file_extension": ".py",
   "mimetype": "text/x-python",
   "name": "python",
   "nbconvert_exporter": "python",
   "pygments_lexer": "ipython3",
   "version": "3.8.15"
  }
 },
 "nbformat": 4,
 "nbformat_minor": 5
}
