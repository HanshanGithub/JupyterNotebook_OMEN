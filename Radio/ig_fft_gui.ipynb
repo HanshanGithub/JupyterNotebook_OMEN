{
 "cells": [
  {
   "cell_type": "code",
   "execution_count": 2,
   "metadata": {},
   "outputs": [],
   "source": [
    "import dearpygui"
   ]
  },
  {
   "cell_type": "code",
   "execution_count": 3,
   "metadata": {},
   "outputs": [],
   "source": [
    "import math\n",
    "import numpy as np\n",
    "from scipy import interpolate"
   ]
  },
  {
   "cell_type": "code",
   "execution_count": 6,
   "metadata": {},
   "outputs": [
    {
     "ename": "ModuleNotFoundError",
     "evalue": "No module named 'pyrltsdr'",
     "output_type": "error",
     "traceback": [
      "\u001b[1;31m---------------------------------------------------------------------------\u001b[0m",
      "\u001b[1;31mModuleNotFoundError\u001b[0m                       Traceback (most recent call last)",
      "Cell \u001b[1;32mIn[6], line 1\u001b[0m\n\u001b[1;32m----> 1\u001b[0m \u001b[38;5;28;01mimport\u001b[39;00m \u001b[38;5;21;01mpyrltsdr\u001b[39;00m\n",
      "\u001b[1;31mModuleNotFoundError\u001b[0m: No module named 'pyrltsdr'"
     ]
    }
   ],
   "source": [
    "import pyrltsdr"
   ]
  },
  {
   "cell_type": "code",
   "execution_count": 7,
   "metadata": {},
   "outputs": [
    {
     "ename": "ImportError",
     "evalue": "Error loading librtlsdr. Make sure librtlsdr (and all of its dependencies) are in your path",
     "output_type": "error",
     "traceback": [
      "\u001b[1;31m---------------------------------------------------------------------------\u001b[0m",
      "\u001b[1;31mImportError\u001b[0m                               Traceback (most recent call last)",
      "Cell \u001b[1;32mIn[7], line 1\u001b[0m\n\u001b[1;32m----> 1\u001b[0m \u001b[38;5;28;01mfrom\u001b[39;00m \u001b[38;5;21;01mrtlsdr\u001b[39;00m \u001b[38;5;28;01mimport\u001b[39;00m RtlSdr\n",
      "File \u001b[1;32mE:\\soft\\anaconda\\envs\\OMEN\\lib\\site-packages\\rtlsdr\\__init__.py:56\u001b[0m\n\u001b[0;32m     54\u001b[0m     AIO_AVAILABLE \u001b[38;5;241m=\u001b[39m \u001b[38;5;28;01mFalse\u001b[39;00m\n\u001b[0;32m     55\u001b[0m \u001b[38;5;28;01melse\u001b[39;00m:\n\u001b[1;32m---> 56\u001b[0m     \u001b[38;5;28;01mfrom\u001b[39;00m \u001b[38;5;21;01m.\u001b[39;00m\u001b[38;5;21;01mlibrtlsdr\u001b[39;00m \u001b[38;5;28;01mimport\u001b[39;00m librtlsdr\n\u001b[0;32m     57\u001b[0m     \u001b[38;5;28;01mfrom\u001b[39;00m \u001b[38;5;21;01m.\u001b[39;00m\u001b[38;5;21;01mrtlsdr\u001b[39;00m \u001b[38;5;28;01mimport\u001b[39;00m RtlSdr\n\u001b[0;32m     58\u001b[0m     \u001b[38;5;28;01mfrom\u001b[39;00m \u001b[38;5;21;01m.\u001b[39;00m\u001b[38;5;21;01mrtlsdrtcp\u001b[39;00m \u001b[38;5;28;01mimport\u001b[39;00m RtlSdrTcpServer, RtlSdrTcpClient\n",
      "File \u001b[1;32mE:\\soft\\anaconda\\envs\\OMEN\\lib\\site-packages\\rtlsdr\\librtlsdr.py:52\u001b[0m\n\u001b[0;32m     47\u001b[0m         \u001b[38;5;28;01mraise\u001b[39;00m \u001b[38;5;167;01mImportError\u001b[39;00m(\u001b[38;5;124m'\u001b[39m\u001b[38;5;124mError loading librtlsdr. Make sure librtlsdr \u001b[39m\u001b[38;5;124m'\u001b[39m\\\n\u001b[0;32m     48\u001b[0m                           \u001b[38;5;124m'\u001b[39m\u001b[38;5;124m(and all of its dependencies) are in your path\u001b[39m\u001b[38;5;124m'\u001b[39m)\n\u001b[0;32m     50\u001b[0m     \u001b[38;5;28;01mreturn\u001b[39;00m dll\n\u001b[1;32m---> 52\u001b[0m librtlsdr \u001b[38;5;241m=\u001b[39m \u001b[43mload_librtlsdr\u001b[49m\u001b[43m(\u001b[49m\u001b[43m)\u001b[49m\n\u001b[0;32m     54\u001b[0m \u001b[38;5;66;03m# we don't care about the rtlsdr_dev struct and it's allocated by librtlsdr, so\u001b[39;00m\n\u001b[0;32m     55\u001b[0m \u001b[38;5;66;03m# we won't even bother filling it in\u001b[39;00m\n\u001b[0;32m     56\u001b[0m p_rtlsdr_dev \u001b[38;5;241m=\u001b[39m c_void_p\n",
      "File \u001b[1;32mE:\\soft\\anaconda\\envs\\OMEN\\lib\\site-packages\\rtlsdr\\librtlsdr.py:47\u001b[0m, in \u001b[0;36mload_librtlsdr\u001b[1;34m()\u001b[0m\n\u001b[0;32m     45\u001b[0m         \u001b[38;5;28;01mpass\u001b[39;00m\n\u001b[0;32m     46\u001b[0m \u001b[38;5;28;01melse\u001b[39;00m:\n\u001b[1;32m---> 47\u001b[0m     \u001b[38;5;28;01mraise\u001b[39;00m \u001b[38;5;167;01mImportError\u001b[39;00m(\u001b[38;5;124m'\u001b[39m\u001b[38;5;124mError loading librtlsdr. Make sure librtlsdr \u001b[39m\u001b[38;5;124m'\u001b[39m\\\n\u001b[0;32m     48\u001b[0m                       \u001b[38;5;124m'\u001b[39m\u001b[38;5;124m(and all of its dependencies) are in your path\u001b[39m\u001b[38;5;124m'\u001b[39m)\n\u001b[0;32m     50\u001b[0m \u001b[38;5;28;01mreturn\u001b[39;00m dll\n",
      "\u001b[1;31mImportError\u001b[0m: Error loading librtlsdr. Make sure librtlsdr (and all of its dependencies) are in your path"
     ]
    }
   ],
   "source": [
    "from rtlsdr import RtlSdr"
   ]
  },
  {
   "cell_type": "code",
   "execution_count": 4,
   "metadata": {
    "pycharm": {
     "name": "#%%\n"
    }
   },
   "outputs": [
    {
     "ename": "ModuleNotFoundError",
     "evalue": "No module named 'dearpygui.core'",
     "output_type": "error",
     "traceback": [
      "\u001b[1;31m---------------------------------------------------------------------------\u001b[0m",
      "\u001b[1;31mModuleNotFoundError\u001b[0m                       Traceback (most recent call last)",
      "Cell \u001b[1;32mIn[4], line 2\u001b[0m\n\u001b[0;32m      1\u001b[0m \u001b[38;5;66;03m#Imports\u001b[39;00m\n\u001b[1;32m----> 2\u001b[0m \u001b[38;5;28;01mfrom\u001b[39;00m \u001b[38;5;21;01mdearpygui\u001b[39;00m\u001b[38;5;21;01m.\u001b[39;00m\u001b[38;5;21;01mcore\u001b[39;00m \u001b[38;5;28;01mimport\u001b[39;00m \u001b[38;5;241m*\u001b[39m\n\u001b[0;32m      3\u001b[0m \u001b[38;5;28;01mfrom\u001b[39;00m \u001b[38;5;21;01mdearpygui\u001b[39;00m\u001b[38;5;21;01m.\u001b[39;00m\u001b[38;5;21;01msimple\u001b[39;00m \u001b[38;5;28;01mimport\u001b[39;00m \u001b[38;5;241m*\u001b[39m\n\u001b[0;32m      4\u001b[0m \u001b[38;5;28;01mimport\u001b[39;00m \u001b[38;5;21;01mmath\u001b[39;00m\n",
      "\u001b[1;31mModuleNotFoundError\u001b[0m: No module named 'dearpygui.core'"
     ]
    }
   ],
   "source": [
    "#Imports\n",
    "from dearpygui.core import *\n",
    "from dearpygui.simple import *\n",
    "import math\n",
    "import numpy as np\n",
    "from scipy import interpolate\n",
    "from rtlsdr import RtlSdr"
   ]
  },
  {
   "cell_type": "code",
   "execution_count": 2,
   "metadata": {
    "pycharm": {
     "name": "#%%\n"
    }
   },
   "outputs": [],
   "source": [
    "#Default Variables\n",
    "fs = 2.048e6\n",
    "fc = 915e6\n",
    "fft_len = 4096\n",
    "fft_div = 8\n",
    "mag_steps = 300\n",
    "max_m = 0\n",
    "min_m = 0\n",
    "decay = 0.04\n",
    "sdr_open = False"
   ]
  },
  {
   "cell_type": "code",
   "execution_count": 3,
   "metadata": {
    "pycharm": {
     "name": "#%%\n"
    }
   },
   "outputs": [],
   "source": [
    "#FFT Function\n",
    "def fft_intensity_gui(samples: np.ndarray, fft_len: int = 256, fft_div: int = 2, mag_steps: int = 100):\n",
    "    \n",
    "    num_ffts = math.floor(len(samples)/fft_len)\n",
    "    \n",
    "    fft_array = []\n",
    "    for i in range(num_ffts):\n",
    "        temp = np.fft.fftshift(np.fft.fft(samples[i*fft_len:(i+1)*fft_len]))\n",
    "        temp_mag = 20.0 * np.log10(np.abs(temp))\n",
    "        fft_array.append(temp_mag)\n",
    "        \n",
    "    max_mag = np.amax(fft_array)\n",
    "    min_mag = np.abs(np.amin(fft_array))\n",
    "        \n",
    "    return(fft_array, max_mag, min_mag)"
   ]
  },
  {
   "cell_type": "code",
   "execution_count": 4,
   "metadata": {
    "pycharm": {
     "name": "#%%\n"
    }
   },
   "outputs": [],
   "source": [
    "#Open RTLSDR\n",
    "try:\n",
    "    sdr = RtlSdr()\n",
    "    sdr.sample_rate = fs\n",
    "    sdr.center_freq = fc\n",
    "    sdr.gain = 'auto'\n",
    "    sdr_open = True\n",
    "except:\n",
    "    print(\"No RTLSDR found\")\n",
    "    sdr_open = False\n"
   ]
  },
  {
   "cell_type": "code",
   "execution_count": 5,
   "metadata": {
    "pycharm": {
     "name": "#%%\n"
    }
   },
   "outputs": [],
   "source": [
    "#Callbacks\n",
    "def retune_callback(sender, data):\n",
    "    global max_m, min_m, sdr, fs, fc\n",
    "    \n",
    "    max_m = 0\n",
    "    min_m = 0\n",
    "    \n",
    "    fs = float(get_value(\"fs\"))\n",
    "    fc = float(get_value(\"fc\"))\n",
    "    \n",
    "    sdr.sample_rate = fs\n",
    "    sdr.center_freq = fc\n",
    "    \n",
    "def ig_fft_callback(sender, data):\n",
    "    global max_m, min_m, sdr, sdr_open\n",
    "    \n",
    "    if sdr_open:\n",
    "        samples = sdr.read_samples(fft_len)\n",
    "        fft_array, max_mag, min_mag = fft_intensity_gui(samples, fft_len, fft_div, mag_steps)\n",
    "    \n",
    "        if max_mag > max_m:\n",
    "            max_m = max_mag\n",
    "        if min_mag > min_m:\n",
    "            min_m = min_mag\n",
    "        \n",
    "        norm_fft_array = fft_array\n",
    "        norm_fft_array[0] = (fft_array[0]+min_m)/(max_m+min_m)\n",
    "       \n",
    "        #update data\n",
    "        hitmap_array = get_data(\"hitmap\")*np.exp(-decay)\n",
    "\n",
    "        mag_step = 1/mag_steps\n",
    "        \n",
    "        for m in range(fft_len):\n",
    "            hit_mag = int(norm_fft_array[0][m]/mag_step)\n",
    "            hitmap_array[hit_mag][int(m/fft_div)] = hitmap_array[hit_mag][int(m/fft_div)] + .8  \n",
    "    \n",
    "        max_hit = np.amax(hitmap_array)/2\n",
    "    \n",
    "        add_heat_series(\"Spectrum\", \"\", hitmap_array, (mag_steps+1), (int(fft_len/fft_div)), 0, max_hit, format='')\n",
    "        add_data(\"hitmap\", hitmap_array)\n",
    "    \n",
    "def fft_plus_callback(sender, data):\n",
    "    global fft_len, fft_div, mag_steps\n",
    "    \n",
    "    temp = int(np.log2(fft_len))\n",
    "    fft_len = int(2**(temp+1))\n",
    "    fft_div = int(fft_div*2)\n",
    "    hitmap_array = np.random.random((mag_steps+1,int(fft_len/fft_div)))*np.exp(-10)   \n",
    "    add_data(\"hitmap\", hitmap_array)\n",
    "    set_value(\"fft_size\", str(fft_len))\n",
    "         \n",
    "def fft_min_callback(sender, data):\n",
    "    global fft_len, fft_div, mag_steps\n",
    "    \n",
    "    temp = int(np.log2(fft_len))\n",
    "    fft_len = int(2**(temp-1))\n",
    "    fft_div = int(fft_div/2)\n",
    "    hitmap_array = np.random.random((mag_steps+1,int(fft_len/fft_div)))*np.exp(-10)   \n",
    "    add_data(\"hitmap\", hitmap_array)\n",
    "    set_value(\"fft_size\", str(fft_len))\n",
    "    \n",
    "def time_plus_callback(sender, data):\n",
    "    global decay\n",
    "    \n",
    "    decay = decay/2\n",
    "    set_value(\"per_decay\", str(decay))\n",
    "    \n",
    "def time_min_callback(sender, data):\n",
    "    global decay\n",
    "    \n",
    "    decay = decay*2\n",
    "    set_value(\"per_decay\", str(decay))\n",
    "       \n",
    "def set_color_viridis_callback(sender, data):\n",
    "    set_color_map(\"Spectrum\", 5)    \n",
    "def set_color_plasma_callback(sender, data):\n",
    "    set_color_map(\"Spectrum\", 6)\n",
    "def set_color_hot_callback(sender, data):\n",
    "    set_color_map(\"Spectrum\", 7)\n",
    "def set_color_pink_callback(sender, data):\n",
    "    set_color_map(\"Spectrum\", 9)\n",
    "def set_color_jet_callback(sender, data):\n",
    "    set_color_map(\"Spectrum\", 10)\n",
    "    \n",
    "def close_gui_callback(sender, data):\n",
    "    stop_dearpygui()"
   ]
  },
  {
   "cell_type": "code",
   "execution_count": 6,
   "metadata": {
    "pycharm": {
     "name": "#%%\n"
    }
   },
   "outputs": [],
   "source": [
    "#GUI\n",
    "with window(\"Settings\", width=300, height=500):\n",
    "    set_window_pos(\"Settings\", 700, 0)\n",
    "    add_text(\"RTLSDR Tuning\")\n",
    "    add_input_text(\"fs\", default_value=str(fs))\n",
    "    add_input_text(\"fc\", default_value=str(fc))\n",
    "    add_button(\"Retune\", callback=retune_callback)\n",
    "    add_text(\"FFT Resolution\")\n",
    "    with group(\"updown1\", horizontal=True):\n",
    "        add_button(\"FFT +\", label=\"+\", callback=fft_plus_callback)\n",
    "        add_button(\"FFT -\", label=\"-\", callback=fft_min_callback)\n",
    "    add_label_text(\"fft_size\", label=\"FFT Length\", default_value=str(fft_len))\n",
    "    add_text(\"Persistance\")\n",
    "    with group(\"updown2\", horizontal=True):\n",
    "        add_button(\"Time +\", label=\"+\", callback=time_plus_callback)\n",
    "        add_button(\"Time -\", label=\"-\", callback=time_min_callback)\n",
    "    add_label_text(\"per_decay\", label=\"Decay\", default_value=str(decay))\n",
    "    \n",
    "    \n",
    "    \n",
    "with window(\"Py-Digital Phosphor\", width=700, height=500):\n",
    "    set_window_pos(\"Py-Digital Phosphor\", 0, 0)\n",
    "    add_plot(\"Spectrum\", height=-1, yaxis_invert=True, xaxis_no_tick_labels=True, yaxis_no_tick_labels=True)\n",
    "    set_color_map(\"Spectrum\", 6)\n",
    "    \n",
    "    hitmap_array = np.random.random((mag_steps+1,int(fft_len/fft_div)))*np.exp(-10)\n",
    "    add_data(\"hitmap\", hitmap_array)\n",
    "    \n",
    "    with menu_bar(\"Main Menu Bar\"):\n",
    "        with menu(\"Main\"):\n",
    "            with menu(\"Color Map\"):\n",
    "                add_menu_item(\"Plasma\", callback=set_color_plasma_callback)\n",
    "                add_menu_item(\"Hot\", callback=set_color_hot_callback)\n",
    "                add_menu_item(\"Viridis\", callback=set_color_viridis_callback)\n",
    "                add_menu_item(\"Jet\", callback=set_color_jet_callback)\n",
    "                add_menu_item(\"Pink\", callback=set_color_pink_callback)\n",
    "            \n",
    "    set_render_callback(ig_fft_callback)\n",
    "\n",
    "if not sdr_open:\n",
    "    with window(\"RTLSDR Error\", width=1000, height=500):\n",
    "        set_window_pos(\"RTLSDR Error\", 0, 0)\n",
    "        add_text(\"No RTLSDR device was found\")\n",
    "        add_button(\"Exit\", callback=close_gui_callback)\n",
    "    \n",
    "start_dearpygui()"
   ]
  },
  {
   "cell_type": "code",
   "execution_count": 7,
   "metadata": {
    "pycharm": {
     "name": "#%%\n"
    }
   },
   "outputs": [],
   "source": [
    "#Close SDR\n",
    "if sdr_open:\n",
    "    sdr.close()"
   ]
  }
 ],
 "metadata": {
  "kernelspec": {
   "display_name": "Python 3 (ipykernel)",
   "language": "python",
   "name": "python3"
  },
  "language_info": {
   "codemirror_mode": {
    "name": "ipython",
    "version": 3
   },
   "file_extension": ".py",
   "mimetype": "text/x-python",
   "name": "python",
   "nbconvert_exporter": "python",
   "pygments_lexer": "ipython3",
   "version": "3.8.15"
  }
 },
 "nbformat": 4,
 "nbformat_minor": 4
}
