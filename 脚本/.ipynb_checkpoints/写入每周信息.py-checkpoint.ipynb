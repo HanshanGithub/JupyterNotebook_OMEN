{
 "cells": [
  {
   "cell_type": "code",
   "execution_count": 1,
   "id": "4e23f84e",
   "metadata": {},
   "outputs": [],
   "source": [
    "import os\n",
    "import shutil\n",
    "import json"
   ]
  },
  {
   "cell_type": "code",
   "execution_count": 10,
   "id": "c56bdf90",
   "metadata": {},
   "outputs": [],
   "source": [
    "path = r'E:\\_Files\\week 52'\n",
    "weekday={\n",
    "    '0':'Sunday',\n",
    "    '1':'Monday',\n",
    "    '2':'Tuesday',\n",
    "    '3':'Wednesday',\n",
    "    '4':'Thursday',\n",
    "    '5':'Friday',\n",
    "    '6':'Saturday'\n",
    "}\n",
    "file1 = os.listdir(path)\n",
    "file2 = []\n",
    "file3 = []"
   ]
  },
  {
   "cell_type": "code",
   "execution_count": 11,
   "id": "19fdec98",
   "metadata": {},
   "outputs": [],
   "source": [
    "for f2 in file1:\n",
    "    file2.append(os.listdir(path+'\\\\'+f2))\n",
    "\n",
    "for f3 in file2:\n",
    "    tem = []\n",
    "    for f33 in f3:\n",
    "        if len(f33)==6:\n",
    "            continue\n",
    "        tem.append(os.listdir(path+'\\\\'+f33[:10]+'\\\\'+f33))\n",
    "    file3.append(tem)\n",
    "\n",
    "week_summary = []\n",
    "for s in file2:\n",
    "    summary= []\n",
    "    for line2 in open(path+'\\\\'+s[-2][:10]+'\\\\'+s[-1], encoding='UTF-8'):\n",
    "        summary.append(line2)\n",
    "    week_summary.append(summary)"
   ]
  },
  {
   "cell_type": "code",
   "execution_count": 15,
   "id": "ff9b07bf",
   "metadata": {},
   "outputs": [
    {
     "data": {
      "text/plain": [
       "[['1 打字速度有点不合理'],\n",
       " ['1 文件有点多\\n', '2 费时，没有把握重点'],\n",
       " ['1 还行\\n', '2 费时，不划算\\n', '3 导入失败\\n', '4 无必要'],\n",
       " ['1 意义在哪里呢\\n', '2 打包速度还行\\n', '3 导入暂无必要\\n', '4 数据太多，只需要少量即可\\n', '5 设计不太合理'],\n",
       " ['1 能用就凑合，到需要的时候再打包发布\\n', '2 速度正常\\n', '3 实践查看'],\n",
       " ['1 账单超标\\n',\n",
       "  '2 无趣\\n',\n",
       "  '3 绘制图像数据点错误\\n',\n",
       "  '4 能用就先凑合\\n',\n",
       "  '5 用Jupyter调试太舒服了\\n',\n",
       "  '6 调试内容用Jupyter（比较大型的内容）']]"
      ]
     },
     "execution_count": 15,
     "metadata": {},
     "output_type": "execute_result"
    }
   ],
   "source": [
    "week_summary"
   ]
  },
  {
   "cell_type": "code",
   "execution_count": 27,
   "id": "e803f8da",
   "metadata": {},
   "outputs": [
    {
     "data": {
      "text/plain": [
       "'2022-12-30'"
      ]
     },
     "execution_count": 27,
     "metadata": {},
     "output_type": "execute_result"
    }
   ],
   "source": [
    "file3[i][-1][0][:10]"
   ]
  },
  {
   "cell_type": "code",
   "execution_count": 34,
   "id": "4c4f4e3c",
   "metadata": {},
   "outputs": [],
   "source": [
    "week_dict = {}\n",
    "week_dict['week']=path[-2:]\n",
    "for i in range(6):\n",
    "    day_dict={}\n",
    "    day_dict['日期']=file3[i][-1][0][:10]\n",
    "    day_dict['总时长']=str(len(file3[i][-1])-1)+'分钟'\n",
    "    day_dict['任务数']=str(len(file3[i])-1)\n",
    "    for j in range(len(file3[i])-1):\n",
    "        item_dict = {}\n",
    "        item_dict['开始时间'] = file3[i][j][0][:19]\n",
    "        item_dict['结束时间'] = file3[i][j][-1][:19]\n",
    "        item_dict['用时'] = str(len(file3[i][j])-1)+'分钟'\n",
    "        item_dict['批注'] = week_summary[i][j][2:]\n",
    "        day_dict[file2[i][j][11:]]=item_dict\n",
    "    week_dict[weekday[str(i)]]=day_dict\n",
    "# print(json.dumps(week_dict, indent=4, ensure_ascii=False))"
   ]
  },
  {
   "cell_type": "code",
   "execution_count": 35,
   "id": "788b4d0a",
   "metadata": {},
   "outputs": [],
   "source": [
    "with open(path+'\\\\汇总信息.json', 'w') as write_f:\n",
    "    write_f.write(json.dumps(week_dict, indent=4, ensure_ascii=False))"
   ]
  },
  {
   "cell_type": "code",
   "execution_count": null,
   "id": "1a7a96f3",
   "metadata": {},
   "outputs": [],
   "source": []
  },
  {
   "cell_type": "code",
   "execution_count": null,
   "id": "577411e2",
   "metadata": {},
   "outputs": [],
   "source": []
  },
  {
   "cell_type": "code",
   "execution_count": null,
   "id": "905de8e4",
   "metadata": {},
   "outputs": [],
   "source": []
  },
  {
   "cell_type": "code",
   "execution_count": null,
   "id": "a2e2d919",
   "metadata": {},
   "outputs": [],
   "source": []
  },
  {
   "cell_type": "code",
   "execution_count": null,
   "id": "8b364933",
   "metadata": {},
   "outputs": [],
   "source": []
  },
  {
   "cell_type": "code",
   "execution_count": null,
   "id": "cc097356",
   "metadata": {},
   "outputs": [],
   "source": []
  }
 ],
 "metadata": {
  "kernelspec": {
   "display_name": "Python 3 (ipykernel)",
   "language": "python",
   "name": "python3"
  },
  "language_info": {
   "codemirror_mode": {
    "name": "ipython",
    "version": 3
   },
   "file_extension": ".py",
   "mimetype": "text/x-python",
   "name": "python",
   "nbconvert_exporter": "python",
   "pygments_lexer": "ipython3",
   "version": "3.8.15"
  }
 },
 "nbformat": 4,
 "nbformat_minor": 5
}
