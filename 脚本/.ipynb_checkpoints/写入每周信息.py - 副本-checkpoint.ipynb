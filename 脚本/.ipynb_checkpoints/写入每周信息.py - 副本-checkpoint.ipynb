{
 "cells": [
  {
   "cell_type": "code",
   "execution_count": 1,
   "id": "4e23f84e",
   "metadata": {},
   "outputs": [],
   "source": [
    "import os\n",
    "import shutil\n",
    "import json\n",
    "from datetime import datetime"
   ]
  },
  {
   "cell_type": "code",
   "execution_count": 2,
   "id": "253e13fd",
   "metadata": {},
   "outputs": [],
   "source": [
    "def getTime():\n",
    "    currentDateAndTime = datetime.now()\n",
    "    time_str = currentDateAndTime.strftime(\"%Y-%m-%d_%H-%M-%S\")\n",
    "    return time_str"
   ]
  },
  {
   "cell_type": "code",
   "execution_count": 8,
   "id": "c56bdf90",
   "metadata": {},
   "outputs": [],
   "source": [
    "path = r'E:\\OneDrive365\\OneDrive\\omen_ weeks_time_log\\_week 02'\n",
    "folder = os.path.exists(path)\n",
    "if not folder:\n",
    "    print('没有'+path+'文件夹','\\n正在退出...')\n",
    "weekday={\n",
    "    '0':'Sunday',\n",
    "    '1':'Monday',\n",
    "    '2':'Tuesday',\n",
    "    '3':'Wednesday',\n",
    "    '4':'Thursday',\n",
    "    '5':'Friday',\n",
    "    '6':'Saturday'\n",
    "}\n",
    "file_c = os.listdir(path)\n",
    "file1 = []\n",
    "for file in file_c:\n",
    "    if file[-5:] == '.json':\n",
    "        continue\n",
    "    file1.append(file)\n",
    "file2 = []\n",
    "file3 = []"
   ]
  },
  {
   "cell_type": "code",
   "execution_count": 9,
   "id": "5903e99e",
   "metadata": {},
   "outputs": [
    {
     "data": {
      "text/plain": [
       "['2023-01-08',\n",
       " '2023-01-09',\n",
       " '2023-01-10',\n",
       " '2023-01-11',\n",
       " '2023-01-12',\n",
       " '2023-01-13',\n",
       " '2023-01-14']"
      ]
     },
     "execution_count": 9,
     "metadata": {},
     "output_type": "execute_result"
    }
   ],
   "source": [
    "file1"
   ]
  },
  {
   "cell_type": "code",
   "execution_count": 12,
   "id": "19fdec98",
   "metadata": {},
   "outputs": [],
   "source": [
    "for f2 in file1:\n",
    "    file2.append(os.listdir(path+'\\\\'+f2))\n",
    "for f3 in file2:\n",
    "    tem = []\n",
    "    for f33 in f3:\n",
    "        if f33[-4:] == '.txt':\n",
    "            continue\n",
    "        tem.append(os.listdir(path+'\\\\'+f33[:10]+'\\\\'+f33))\n",
    "    file3.append(tem)\n",
    "\n",
    "week_summary = []\n",
    "for s in file2:#s:file2[0]\n",
    "    summary= []\n",
    "    for line2 in open(path+'\\\\'+s[-2][:10]+'\\\\'+s[-1], encoding='UTF-8'):\n",
    "        summary.append(line2)\n",
    "    week_summary.append(summary)"
   ]
  },
  {
   "cell_type": "code",
   "execution_count": 13,
   "id": "ff9b07bf",
   "metadata": {},
   "outputs": [
    {
     "data": {
      "text/plain": [
       "[['国考的一天，漫长~'],\n",
       " ['1 问题计算不知道改，没有价值'],\n",
       " ['1 还是要每天写入信息，不过哪里能每天写入信息呢？第二天早上先写记录？\\n',\n",
       "  '2 记住先上传两人照片，再传入8P相簿\\n',\n",
       "  '3 安装简单，关键是要找对教程\\n',\n",
       "  '4 刚开始还挻顺畅，用着用着就卡起来了\\n',\n",
       "  '5 远程配置效果太差'],\n",
       " ['1 越来越夸张了，欠了2700多\\n',\n",
       "  '2 找到问题所在了，应该能在一天内解决\\n',\n",
       "  '3 配置系统环境变量怎么会有那么多问题\\n',\n",
       "  '4 有问题尝试几次没解决，就在jupyter里面去处理\\n',\n",
       "  '5 好像是版本的问题，在之前怎么没想到要兼容下版本呢\\n',\n",
       "  '6 没啥用'],\n",
       " ['1 没有相应的配置文件[.so etc..]，不找了\\n',\n",
       "  '2 反馈了游戏的价值：高层人打消低层突破层次的念头\\n',\n",
       "  '3 能及时看自己的情况，也算将就\\n',\n",
       "  '4 在notebook查看效率确实挻高'],\n",
       " ['1 玩游戏三个多小时，也不知道怎么想的，也想不明白，可能就是---就是想逃避现实，不想做力扣练习，也不想做毕业设计'],\n",
       " ['1 时间有点久了，直接用原文件进行测试，哪里有问题就直接改了。找文件信息先输出找到结点，再进行下一步分析。\\n',\n",
       "  '2 解题效率有点慢，我就当第一天有点慢，能理解。'],\n",
       " ['国考的一天，漫长~'],\n",
       " ['1 问题计算不知道改，没有价值'],\n",
       " ['1 还是要每天写入信息，不过哪里能每天写入信息呢？第二天早上先写记录？\\n',\n",
       "  '2 记住先上传两人照片，再传入8P相簿\\n',\n",
       "  '3 安装简单，关键是要找对教程\\n',\n",
       "  '4 刚开始还挻顺畅，用着用着就卡起来了\\n',\n",
       "  '5 远程配置效果太差'],\n",
       " ['1 越来越夸张了，欠了2700多\\n',\n",
       "  '2 找到问题所在了，应该能在一天内解决\\n',\n",
       "  '3 配置系统环境变量怎么会有那么多问题\\n',\n",
       "  '4 有问题尝试几次没解决，就在jupyter里面去处理\\n',\n",
       "  '5 好像是版本的问题，在之前怎么没想到要兼容下版本呢\\n',\n",
       "  '6 没啥用'],\n",
       " ['1 没有相应的配置文件[.so etc..]，不找了\\n',\n",
       "  '2 反馈了游戏的价值：高层人打消低层突破层次的念头\\n',\n",
       "  '3 能及时看自己的情况，也算将就\\n',\n",
       "  '4 在notebook查看效率确实挻高'],\n",
       " ['1 玩游戏三个多小时，也不知道怎么想的，也想不明白，可能就是---就是想逃避现实，不想做力扣练习，也不想做毕业设计'],\n",
       " ['1 时间有点久了，直接用原文件进行测试，哪里有问题就直接改了。找文件信息先输出找到结点，再进行下一步分析。\\n',\n",
       "  '2 解题效率有点慢，我就当第一天有点慢，能理解。'],\n",
       " ['国考的一天，漫长~'],\n",
       " ['1 问题计算不知道改，没有价值'],\n",
       " ['1 还是要每天写入信息，不过哪里能每天写入信息呢？第二天早上先写记录？\\n',\n",
       "  '2 记住先上传两人照片，再传入8P相簿\\n',\n",
       "  '3 安装简单，关键是要找对教程\\n',\n",
       "  '4 刚开始还挻顺畅，用着用着就卡起来了\\n',\n",
       "  '5 远程配置效果太差'],\n",
       " ['1 越来越夸张了，欠了2700多\\n',\n",
       "  '2 找到问题所在了，应该能在一天内解决\\n',\n",
       "  '3 配置系统环境变量怎么会有那么多问题\\n',\n",
       "  '4 有问题尝试几次没解决，就在jupyter里面去处理\\n',\n",
       "  '5 好像是版本的问题，在之前怎么没想到要兼容下版本呢\\n',\n",
       "  '6 没啥用'],\n",
       " ['1 没有相应的配置文件[.so etc..]，不找了\\n',\n",
       "  '2 反馈了游戏的价值：高层人打消低层突破层次的念头\\n',\n",
       "  '3 能及时看自己的情况，也算将就\\n',\n",
       "  '4 在notebook查看效率确实挻高'],\n",
       " ['1 玩游戏三个多小时，也不知道怎么想的，也想不明白，可能就是---就是想逃避现实，不想做力扣练习，也不想做毕业设计'],\n",
       " ['1 时间有点久了，直接用原文件进行测试，哪里有问题就直接改了。找文件信息先输出找到结点，再进行下一步分析。\\n',\n",
       "  '2 解题效率有点慢，我就当第一天有点慢，能理解。']]"
      ]
     },
     "execution_count": 13,
     "metadata": {},
     "output_type": "execute_result"
    }
   ],
   "source": [
    "week_summary"
   ]
  },
  {
   "cell_type": "code",
   "execution_count": 21,
   "id": "4c4f4e3c",
   "metadata": {},
   "outputs": [],
   "source": [
    "week_dict = {}\n",
    "week_dict['week']=path[-2:]\n",
    "for i in range(len(file1)):\n",
    "    day_dict={}\n",
    "    day_time = 0\n",
    "    useful_count = 0\n",
    "    useless_count = 0\n",
    "    if len(file3[i]) == 1:\n",
    "        day_dict['日期']=file2[i][0][:10]\n",
    "        item_dict = {}\n",
    "        item_dict['批注'] = week_summary[i]\n",
    "        day_dict['总结']=item_dict\n",
    "    else:\n",
    "        day_dict['日期']=file3[i][-1][0][:10]\n",
    "        day_dict['总时长']=str(len(file3[i][-1])-1)+'分钟'\n",
    "        day_dict['总事情数量']=str(len(file3[i])-1)\n",
    "        useful_item = {}\n",
    "        useless_item = {}\n",
    "\n",
    "    for j in range(len(file3[i])-1):\n",
    "        item_dict = {}\n",
    "        item_dict['开始时间'] = file3[i][j][0][:19]\n",
    "        item_dict['结束时间'] = file3[i][j][-1][:19]\n",
    "        item_dict['用时'] = str(len(file3[i][j])-1)+'分钟'\n",
    "        item_dict['批注'] = week_summary[i][j][2:]\n",
    "\n",
    "        if file2[i][j][-1] == '_':\n",
    "            useless_item[file2[i][j][11:]] = item_dict\n",
    "            useless_count = useless_count + 1\n",
    "\n",
    "        else:\n",
    "            day_time = day_time + len(file3[i][j])-1\n",
    "            useful_item[file2[i][j][11:]] = item_dict\n",
    "\n",
    "    if len(file3[i]) != 1:\n",
    "        day_dict['有效事件数量']=str(len(file3[i])-1-useless_count)\n",
    "        if len(file3[i])-1-useless_count != 0:\n",
    "            day_dict['有效事件详情'] = useful_item\n",
    "        day_dict['无用事件数量']=str(useless_count)\n",
    "        if useless_count != 0:\n",
    "            day_dict['无用事件详情'] = useless_item\n",
    "        day_dict['有效时间'] = str(day_time)+'分钟'\n",
    "        day_dict['时间效率'] = str(day_time/(len(file3[i][-1])-1)*100)[:5]+'%'\n",
    "    week_dict[weekday[str(i)]]=day_dict"
   ]
  },
  {
   "cell_type": "code",
   "execution_count": 22,
   "id": "2d7a472f",
   "metadata": {},
   "outputs": [],
   "source": [
    "time = getTime()\n",
    "with open(path+'\\\\'+time+' 汇总信息测试.json', 'w') as write_f:\n",
    "    write_f.write(json.dumps(week_dict, indent=4, ensure_ascii=False))"
   ]
  },
  {
   "cell_type": "code",
   "execution_count": null,
   "id": "577411e2",
   "metadata": {},
   "outputs": [],
   "source": []
  },
  {
   "cell_type": "code",
   "execution_count": null,
   "id": "905de8e4",
   "metadata": {},
   "outputs": [],
   "source": []
  },
  {
   "cell_type": "code",
   "execution_count": null,
   "id": "a2e2d919",
   "metadata": {},
   "outputs": [],
   "source": []
  },
  {
   "cell_type": "code",
   "execution_count": null,
   "id": "8b364933",
   "metadata": {},
   "outputs": [],
   "source": []
  },
  {
   "cell_type": "code",
   "execution_count": null,
   "id": "cc097356",
   "metadata": {},
   "outputs": [],
   "source": []
  }
 ],
 "metadata": {
  "kernelspec": {
   "display_name": "Python 3 (ipykernel)",
   "language": "python",
   "name": "python3"
  },
  "language_info": {
   "codemirror_mode": {
    "name": "ipython",
    "version": 3
   },
   "file_extension": ".py",
   "mimetype": "text/x-python",
   "name": "python",
   "nbconvert_exporter": "python",
   "pygments_lexer": "ipython3",
   "version": "3.8.15"
  }
 },
 "nbformat": 4,
 "nbformat_minor": 5
}
