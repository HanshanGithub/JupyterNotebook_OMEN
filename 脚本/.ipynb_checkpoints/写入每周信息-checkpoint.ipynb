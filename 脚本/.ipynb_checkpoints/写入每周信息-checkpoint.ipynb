{
 "cells": [
  {
   "cell_type": "code",
   "execution_count": 43,
   "id": "0d4731d4",
   "metadata": {},
   "outputs": [],
   "source": [
    "import os\n",
    "import shutil"
   ]
  },
  {
   "cell_type": "code",
   "execution_count": 44,
   "id": "b34ccac7",
   "metadata": {},
   "outputs": [],
   "source": [
    "path = r'E:\\_Files\\week 52'"
   ]
  },
  {
   "cell_type": "code",
   "execution_count": 45,
   "id": "ecadc9d9",
   "metadata": {},
   "outputs": [],
   "source": [
    "weekday={\n",
    "    '0':'周日',\n",
    "    '1':'周一',\n",
    "    '2':'周六',\n",
    "    '3':'周六',\n",
    "    '4':'周六',\n",
    "    '5':'周六',\n",
    "    '6':'周六'\n",
    "}"
   ]
  },
  {
   "cell_type": "code",
   "execution_count": 46,
   "id": "153926f6",
   "metadata": {},
   "outputs": [],
   "source": [
    "file1 = os.listdir(path)"
   ]
  },
  {
   "cell_type": "code",
   "execution_count": 47,
   "id": "cfa8ed55",
   "metadata": {},
   "outputs": [],
   "source": [
    "file2 = []"
   ]
  },
  {
   "cell_type": "code",
   "execution_count": 48,
   "id": "1e823d5c",
   "metadata": {},
   "outputs": [],
   "source": [
    "file3 = []"
   ]
  },
  {
   "cell_type": "code",
   "execution_count": 49,
   "id": "8254196b",
   "metadata": {},
   "outputs": [
    {
     "data": {
      "text/plain": [
       "'E:\\\\_Files\\\\week 52\\\\2022-12-25'"
      ]
     },
     "execution_count": 49,
     "metadata": {},
     "output_type": "execute_result"
    }
   ],
   "source": [
    "weekday['2']\n",
    "path+'\\\\'+file1[0]"
   ]
  },
  {
   "cell_type": "code",
   "execution_count": 50,
   "id": "12918f0b",
   "metadata": {},
   "outputs": [],
   "source": [
    "for fi in file1:\n",
    "    file2.append(os.listdir(path+'\\\\'+fi))"
   ]
  },
  {
   "cell_type": "code",
   "execution_count": 53,
   "id": "9eb9ad71",
   "metadata": {},
   "outputs": [
    {
     "data": {
      "text/plain": [
       "[['2022-12-25 1五笔打字', '2022-12-25 _全天', '总结.txt'],\n",
       " ['2022-12-26 1实习僧导入简历', '2022-12-26 2修改step', '2022-12-26 _全天', '总结.txt'],\n",
       " ['2022-12-27 1频段扫描修改',\n",
       "  '2022-12-27 2Fruit项目减小内存',\n",
       "  '2022-12-27 3成渝双选会',\n",
       "  '2022-12-27 4image.load调试',\n",
       "  '2022-12-27 _全天',\n",
       "  '总结.txt'],\n",
       " ['2022-12-28 1Pycharm安装',\n",
       "  '2022-12-28 2DLL打包测试',\n",
       "  '2022-12-28 3DLL导入C#测试',\n",
       "  '2022-12-28 4对新数据求均值底噪',\n",
       "  '2022-12-28 5毕业设计日志',\n",
       "  '2022-12-28 _全天',\n",
       "  '总结.txt'],\n",
       " ['2022-12-29 1打包每分钟截图',\n",
       "  '2022-12-29 2五笔打字',\n",
       "  '2022-12-29 3力扣 找vector[0].size费劲',\n",
       "  '2022-12-29 _全天',\n",
       "  '总结.txt'],\n",
       " ['2022-12-30 1日志记账',\n",
       "  '2022-12-30 2五笔打字_没事干',\n",
       "  '2022-12-30 3重新绘图',\n",
       "  '2022-12-30 4移动文件夹脚本',\n",
       "  '2022-12-30 5绘制数据点查看',\n",
       "  '2022-12-30 6python输出每150个最大值',\n",
       "  '2022-12-30 _全天',\n",
       "  '总结.txt']]"
      ]
     },
     "execution_count": 53,
     "metadata": {},
     "output_type": "execute_result"
    }
   ],
   "source": [
    "file2"
   ]
  },
  {
   "cell_type": "code",
   "execution_count": 90,
   "id": "ccc86c2b",
   "metadata": {},
   "outputs": [],
   "source": [
    "file3= []\n",
    "for f3 in file2:\n",
    "    tem = []\n",
    "    for f33 in f3:\n",
    "        if len(f33)==6:\n",
    "            continue\n",
    "        tem.append(os.listdir(path+'\\\\'+f33[:10]+'\\\\'+f33))\n",
    "#         print(f33)\n",
    "    file3.append(tem)"
   ]
  },
  {
   "cell_type": "code",
   "execution_count": 97,
   "id": "10a2b42e",
   "metadata": {},
   "outputs": [
    {
     "data": {
      "text/plain": [
       "['2022-12-25_15-52-48 - 副本 (2).jpg',\n",
       " '2022-12-25_15-52-48 - 副本 (3).jpg',\n",
       " '2022-12-25_15-52-48 - 副本 (4).jpg',\n",
       " '2022-12-25_15-52-48 - 副本 (5).jpg',\n",
       " '2022-12-25_15-52-48 - 副本.jpg',\n",
       " '2022-12-25_15-52-48.jpg',\n",
       " '2022-12-25_22-45-25 - 副本 (2).jpg',\n",
       " '2022-12-25_22-45-25 - 副本 (3).jpg',\n",
       " '2022-12-25_22-45-25 - 副本 (4).jpg',\n",
       " '2022-12-25_22-45-25 - 副本 (5).jpg',\n",
       " '2022-12-25_22-45-25 - 副本.jpg',\n",
       " '2022-12-25_22-45-25.jpg']"
      ]
     },
     "execution_count": 97,
     "metadata": {},
     "output_type": "execute_result"
    }
   ],
   "source": [
    "(file3[0][-1])\n",
    "# 全天"
   ]
  },
  {
   "cell_type": "code",
   "execution_count": 23,
   "id": "e4c77af8",
   "metadata": {},
   "outputs": [],
   "source": [
    "os.rename(path+'\\\\'+file1[0],path+'\\\\'+file1[0]+' 共'+str(len(file2)-2)+'个任务')"
   ]
  },
  {
   "cell_type": "code",
   "execution_count": 69,
   "id": "55a15db2",
   "metadata": {},
   "outputs": [],
   "source": [
    "summary=[]"
   ]
  },
  {
   "cell_type": "code",
   "execution_count": 72,
   "id": "0f7a41b6",
   "metadata": {},
   "outputs": [
    {
     "data": {
      "text/plain": [
       "['2022-12-25',\n",
       " '2022-12-26',\n",
       " '2022-12-27',\n",
       " '2022-12-28',\n",
       " '2022-12-29',\n",
       " '2022-12-30']"
      ]
     },
     "execution_count": 72,
     "metadata": {},
     "output_type": "execute_result"
    }
   ],
   "source": [
    "file1"
   ]
  },
  {
   "cell_type": "code",
   "execution_count": 71,
   "id": "8fe7854e",
   "metadata": {},
   "outputs": [
    {
     "data": {
      "text/plain": [
       "[['2022-12-25 1五笔打字', '2022-12-25 _全天', '总结.txt'],\n",
       " ['2022-12-26 1实习僧导入简历', '2022-12-26 2修改step', '2022-12-26 _全天', '总结.txt'],\n",
       " ['2022-12-27 1频段扫描修改',\n",
       "  '2022-12-27 2Fruit项目减小内存',\n",
       "  '2022-12-27 3成渝双选会',\n",
       "  '2022-12-27 4image.load调试',\n",
       "  '2022-12-27 _全天',\n",
       "  '总结.txt'],\n",
       " ['2022-12-28 1Pycharm安装',\n",
       "  '2022-12-28 2DLL打包测试',\n",
       "  '2022-12-28 3DLL导入C#测试',\n",
       "  '2022-12-28 4对新数据求均值底噪',\n",
       "  '2022-12-28 5毕业设计日志',\n",
       "  '2022-12-28 _全天',\n",
       "  '总结.txt'],\n",
       " ['2022-12-29 1打包每分钟截图',\n",
       "  '2022-12-29 2五笔打字',\n",
       "  '2022-12-29 3力扣 找vector[0].size费劲',\n",
       "  '2022-12-29 _全天',\n",
       "  '总结.txt'],\n",
       " ['2022-12-30 1日志记账',\n",
       "  '2022-12-30 2五笔打字_没事干',\n",
       "  '2022-12-30 3重新绘图',\n",
       "  '2022-12-30 4移动文件夹脚本',\n",
       "  '2022-12-30 5绘制数据点查看',\n",
       "  '2022-12-30 6python输出每150个最大值',\n",
       "  '2022-12-30 _全天',\n",
       "  '总结.txt']]"
      ]
     },
     "execution_count": 71,
     "metadata": {},
     "output_type": "execute_result"
    }
   ],
   "source": [
    "file2"
   ]
  },
  {
   "cell_type": "code",
   "execution_count": 82,
   "id": "f86f2f3e",
   "metadata": {},
   "outputs": [],
   "source": [
    "\n",
    "week_summary = []\n",
    "for s in file2:\n",
    "    summary= []\n",
    "    for line2 in open(path+'\\\\'+s[-2][:10]+'\\\\'+s[-1], encoding='UTF-8'):\n",
    "        summary.append(line2)\n",
    "    week_summary.append(summary)"
   ]
  },
  {
   "cell_type": "code",
   "execution_count": 83,
   "id": "832a34f0",
   "metadata": {},
   "outputs": [
    {
     "data": {
      "text/plain": [
       "[['1 打字速度有点不合理'],\n",
       " ['1 文件有点多\\n', '2 费时，没有把握重点'],\n",
       " ['1 还行\\n', '2 费时，不划算\\n', '3 导入失败\\n', '4 无必要'],\n",
       " ['1 意义在哪里呢\\n', '2 打包速度还行\\n', '3 导入暂无必要\\n', '4 数据太多，只需要少量即可\\n', '5 设计不太合理'],\n",
       " ['1 能用就凑合，到需要的时候再打包发布\\n', '2 速度正常\\n', '3 实践查看'],\n",
       " ['1 账单超标\\n',\n",
       "  '2 无趣\\n',\n",
       "  '3 绘制图像数据点错误\\n',\n",
       "  '4 能用就先凑合\\n',\n",
       "  '5 用Jupyter调试太舒服了\\n',\n",
       "  '6 调试内容用Jupyter（比较大型的内容）']]"
      ]
     },
     "execution_count": 83,
     "metadata": {},
     "output_type": "execute_result"
    }
   ],
   "source": [
    "week_summary"
   ]
  },
  {
   "cell_type": "code",
   "execution_count": null,
   "id": "69cf6336",
   "metadata": {},
   "outputs": [],
   "source": []
  },
  {
   "cell_type": "code",
   "execution_count": null,
   "id": "acd6971e",
   "metadata": {},
   "outputs": [],
   "source": []
  },
  {
   "cell_type": "code",
   "execution_count": null,
   "id": "cf2beb52",
   "metadata": {},
   "outputs": [],
   "source": []
  },
  {
   "cell_type": "code",
   "execution_count": null,
   "id": "ea63c379",
   "metadata": {},
   "outputs": [],
   "source": []
  },
  {
   "cell_type": "code",
   "execution_count": null,
   "id": "803f6b7b",
   "metadata": {},
   "outputs": [],
   "source": []
  },
  {
   "cell_type": "code",
   "execution_count": null,
   "id": "84a2cd31",
   "metadata": {},
   "outputs": [],
   "source": []
  },
  {
   "cell_type": "code",
   "execution_count": null,
   "id": "b9c59de0",
   "metadata": {},
   "outputs": [],
   "source": []
  },
  {
   "cell_type": "code",
   "execution_count": null,
   "id": "d92686c7",
   "metadata": {},
   "outputs": [],
   "source": []
  }
 ],
 "metadata": {
  "kernelspec": {
   "display_name": "Python 3 (ipykernel)",
   "language": "python",
   "name": "python3"
  },
  "language_info": {
   "codemirror_mode": {
    "name": "ipython",
    "version": 3
   },
   "file_extension": ".py",
   "mimetype": "text/x-python",
   "name": "python",
   "nbconvert_exporter": "python",
   "pygments_lexer": "ipython3",
   "version": "3.8.15"
  }
 },
 "nbformat": 4,
 "nbformat_minor": 5
}
