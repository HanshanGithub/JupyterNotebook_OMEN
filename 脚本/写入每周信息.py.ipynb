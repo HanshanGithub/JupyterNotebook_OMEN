{
 "cells": [
  {
   "cell_type": "code",
   "execution_count": 1,
   "id": "4e23f84e",
   "metadata": {},
   "outputs": [],
   "source": [
    "import os\n",
    "import shutil\n",
    "import json"
   ]
  },
  {
   "cell_type": "code",
   "execution_count": 34,
   "id": "c56bdf90",
   "metadata": {},
   "outputs": [],
   "source": [
    "path = r'E:\\_Files\\week_json'\n",
    "weekday={\n",
    "    '0':'Sunday',\n",
    "    '1':'Monday',\n",
    "    '2':'Tuesday',\n",
    "    '3':'Wednesday',\n",
    "    '4':'Thursday',\n",
    "    '5':'Friday',\n",
    "    '6':'Saturday'\n",
    "}\n",
    "file1 = os.listdir(path)\n",
    "file2 = []\n",
    "file3 = []"
   ]
  },
  {
   "cell_type": "code",
   "execution_count": 35,
   "id": "5903e99e",
   "metadata": {},
   "outputs": [
    {
     "data": {
      "text/plain": [
       "['2022-12-25',\n",
       " '2022-12-26',\n",
       " '2022-12-27',\n",
       " '2022-12-28',\n",
       " '2022-12-29',\n",
       " '2022-12-30',\n",
       " '2022-12-31']"
      ]
     },
     "execution_count": 35,
     "metadata": {},
     "output_type": "execute_result"
    }
   ],
   "source": [
    "file1"
   ]
  },
  {
   "cell_type": "code",
   "execution_count": 36,
   "id": "19fdec98",
   "metadata": {},
   "outputs": [],
   "source": [
    "for f2 in file1:\n",
    "    file2.append(os.listdir(path+'\\\\'+f2))\n",
    "\n",
    "for f3 in file2:\n",
    "    tem = []\n",
    "    for f33 in f3:\n",
    "        if len(f33)==6:\n",
    "            continue\n",
    "        tem.append(os.listdir(path+'\\\\'+f33[:10]+'\\\\'+f33))\n",
    "    file3.append(tem)\n",
    "\n",
    "week_summary = []\n",
    "for s in file2:#s:file2[0]\n",
    "    summary= []\n",
    "    for line2 in open(path+'\\\\'+s[-2][:10]+'\\\\'+s[-1], encoding='UTF-8'):\n",
    "        summary.append(line2)\n",
    "    week_summary.append(summary)"
   ]
  },
  {
   "cell_type": "code",
   "execution_count": 37,
   "id": "ff9b07bf",
   "metadata": {},
   "outputs": [
    {
     "data": {
      "text/plain": [
       "[['1 正常速度'],\n",
       " ['1 导入正常，修改了新加的简历信息\\n', '2 时间消耗太长，改动不了太多还硬改，不划算'],\n",
       " ['1 时间有点过长，有些暂不需要的细节还是花了比较多的时间\\n',\n",
       "  '2 项目总时间太多了，实际上也没太大的用处，总想着打包打包，没有实用价值\\n',\n",
       "  '3 简历投递的时间不合适，但后来也没去改\\n',\n",
       "  '4 这种价值不大的事情，在做之前就应该计划花多长的时间去完成'],\n",
       " ['中间缺少日期的测试'],\n",
       " ['1 打包什么的没有必要，有实际需求再进行打包\\n',\n",
       "  '2 速度正常，内容不太好，还是不能什么都加入打字内容\\n',\n",
       "  '3 如果觉得代码没有问题，就在vs里面打断点调试内容'],\n",
       " ['1 账单内容加注释用笔记本，正常数字可直接用平板\\n',\n",
       "  '2 打字正常\\n',\n",
       "  '3 绘图效果良好，Git返回节点尝试两次就好\\n',\n",
       "  '4 一直到17-12，位置错误导致延误了时间，内容较复杂就在jupyter notebook调试\\n',\n",
       "  '5 变量位置出错导致绘图一直出问题，变量位置跟着原代码最好，不要随意自己改动\\n',\n",
       "  '6 数据可在python调试的，就在jupyter notebook调试，效率高'],\n",
       " ['啥也没干，就去外面耍了一天，效果还不很理想']]"
      ]
     },
     "execution_count": 37,
     "metadata": {},
     "output_type": "execute_result"
    }
   ],
   "source": [
    "week_summary"
   ]
  },
  {
   "cell_type": "code",
   "execution_count": 38,
   "id": "4c4f4e3c",
   "metadata": {},
   "outputs": [],
   "source": [
    "week_dict = {}\n",
    "week_dict['week']=path[-2:]\n",
    "for i in range(7):\n",
    "    day_dict={}\n",
    "    if len(file3[i]) == 1:\n",
    "        day_dict['日期']=file2[i][0][:10]\n",
    "        item_dict = {}\n",
    "        item_dict['批注'] = week_summary[i][0]\n",
    "        day_dict['总结']=item_dict\n",
    "    else:\n",
    "        day_dict['日期']=file3[i][-1][0][:10]\n",
    "        day_dict['总时长']=str(len(file3[i][-1])-1)+'分钟'\n",
    "        day_dict['任务数']=str(len(file3[i])-1)\n",
    "    for j in range(len(file3[i])-1):\n",
    "        item_dict = {}\n",
    "        item_dict['开始时间'] = file3[i][j][0][:19]\n",
    "        item_dict['结束时间'] = file3[i][j][-1][:19]\n",
    "        item_dict['用时'] = str(len(file3[i][j])-1)+'分钟'\n",
    "        item_dict['批注'] = week_summary[i][j][2:]\n",
    "        day_dict[file2[i][j][11:]]=item_dict\n",
    "    week_dict[weekday[str(i)]]=day_dict\n",
    "# print(json.dumps(week_dict, indent=4, ensure_ascii=False))"
   ]
  },
  {
   "cell_type": "code",
   "execution_count": null,
   "id": "2d7a472f",
   "metadata": {},
   "outputs": [],
   "source": []
  },
  {
   "cell_type": "code",
   "execution_count": 31,
   "id": "788b4d0a",
   "metadata": {},
   "outputs": [],
   "source": [
    "with open(path+'\\\\汇总信息2.json', 'w') as write_f:\n",
    "    write_f.write(json.dumps(week_dict, indent=4, ensure_ascii=False))"
   ]
  },
  {
   "cell_type": "code",
   "execution_count": null,
   "id": "577411e2",
   "metadata": {},
   "outputs": [],
   "source": []
  },
  {
   "cell_type": "code",
   "execution_count": null,
   "id": "905de8e4",
   "metadata": {},
   "outputs": [],
   "source": []
  },
  {
   "cell_type": "code",
   "execution_count": null,
   "id": "a2e2d919",
   "metadata": {},
   "outputs": [],
   "source": []
  },
  {
   "cell_type": "code",
   "execution_count": null,
   "id": "8b364933",
   "metadata": {},
   "outputs": [],
   "source": []
  },
  {
   "cell_type": "code",
   "execution_count": null,
   "id": "cc097356",
   "metadata": {},
   "outputs": [],
   "source": []
  }
 ],
 "metadata": {
  "kernelspec": {
   "display_name": "Python 3 (ipykernel)",
   "language": "python",
   "name": "python3"
  },
  "language_info": {
   "codemirror_mode": {
    "name": "ipython",
    "version": 3
   },
   "file_extension": ".py",
   "mimetype": "text/x-python",
   "name": "python",
   "nbconvert_exporter": "python",
   "pygments_lexer": "ipython3",
   "version": "3.8.15"
  }
 },
 "nbformat": 4,
 "nbformat_minor": 5
}
