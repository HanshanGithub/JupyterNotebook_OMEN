{
 "cells": [
  {
   "cell_type": "code",
   "execution_count": 20,
   "id": "4e23f84e",
   "metadata": {},
   "outputs": [],
   "source": [
    "import os\n",
    "import shutil\n",
    "import json\n",
    "from datetime import datetime"
   ]
  },
  {
   "cell_type": "code",
   "execution_count": 18,
   "id": "253e13fd",
   "metadata": {},
   "outputs": [],
   "source": [
    "def getTime():\n",
    "    currentDateAndTime = datetime.now()\n",
    "    time_str = currentDateAndTime.strftime(\"%Y-%m-%d_%H-%M-%S\")\n",
    "    return time_str"
   ]
  },
  {
   "cell_type": "code",
   "execution_count": 41,
   "id": "c56bdf90",
   "metadata": {},
   "outputs": [
    {
     "name": "stdout",
     "output_type": "stream",
     "text": [
      "E:\\OneDrive365\\OneDrive\\omen_ weeks_time_log\\_week 02\n",
      "文件夹内信息不全，只有3个文件夹 \n",
      "正在退出...\n"
     ]
    }
   ],
   "source": [
    "path = r'E:\\OneDrive365\\OneDrive\\omen_ weeks_time_log\\_week 02'\n",
    "weekday={\n",
    "    '0':'Sunday',\n",
    "    '1':'Monday',\n",
    "    '2':'Tuesday',\n",
    "    '3':'Wednesday',\n",
    "    '4':'Thursday',\n",
    "    '5':'Friday',\n",
    "    '6':'Saturday'\n",
    "}\n",
    "file1 = os.listdir(path)\n",
    "if len(file1) < 7:\n",
    "    print(path+f'\\n文件夹内信息不全，只有{len(file1)}个文件夹','\\n正在退出...')\n",
    "    #return\n",
    "if len(file1) >= 7:\n",
    "    file1 = file1[:7]\n",
    "file2 = []\n",
    "file3 = []"
   ]
  },
  {
   "cell_type": "code",
   "execution_count": 42,
   "id": "5903e99e",
   "metadata": {},
   "outputs": [
    {
     "data": {
      "text/plain": [
       "['2023-01-08', '2023-01-09', '2023-01-10']"
      ]
     },
     "execution_count": 42,
     "metadata": {},
     "output_type": "execute_result"
    }
   ],
   "source": [
    "file1"
   ]
  },
  {
   "cell_type": "code",
   "execution_count": 44,
   "id": "19fdec98",
   "metadata": {},
   "outputs": [],
   "source": [
    "for f2 in file1:\n",
    "    file2.append(os.listdir(path+'\\\\'+f2))\n",
    "skip = [17,6]\n",
    "for f3 in file2:\n",
    "    tem = []\n",
    "    for f33 in f3:\n",
    "        if len(f33) in skip:\n",
    "            continue\n",
    "        tem.append(os.listdir(path+'\\\\'+f33[:10]+'\\\\'+f33))\n",
    "    file3.append(tem)\n",
    "\n",
    "week_summary = []\n",
    "for s in file2: #s:file2[0]\n",
    "    summary= []\n",
    "    for line2 in open(path+'\\\\'+s[-2][:10]+'\\\\'+s[-1], encoding='UTF-8'):\n",
    "        summary.append(line2)\n",
    "    week_summary.append(summary)"
   ]
  },
  {
   "cell_type": "code",
   "execution_count": 45,
   "id": "ff9b07bf",
   "metadata": {},
   "outputs": [
    {
     "data": {
      "text/plain": [
       "[[],\n",
       " ['1 问题计算不知道改，没有价值'],\n",
       " ['1 还是要每天写入信息，不过哪里能每天写入信息呢？第二天早上先写记录？\\n',\n",
       "  '2 记住先上传两人照片，再传入8P相簿\\n',\n",
       "  '3 安装简单，关键是要找对教程\\n',\n",
       "  '4 刚开始还挻顺畅，用着用着就卡起来了\\n',\n",
       "  '5 远程配置效果太差']]"
      ]
     },
     "execution_count": 45,
     "metadata": {},
     "output_type": "execute_result"
    }
   ],
   "source": [
    "week_summary"
   ]
  },
  {
   "cell_type": "code",
   "execution_count": 46,
   "id": "4c4f4e3c",
   "metadata": {},
   "outputs": [],
   "source": [
    "week_dict = {}\n",
    "week_dict['week']=path[-2:]\n",
    "for i in range(len(file1)):\n",
    "    day_dict={}\n",
    "    day_time = 0\n",
    "    if len(file3[i]) == 1:\n",
    "        day_dict['日期']=file2[i][0][:10]\n",
    "        item_dict = {}\n",
    "        item_dict['批注'] = week_summary[i]\n",
    "        day_dict['总结']=item_dict\n",
    "    else:\n",
    "        day_dict['日期']=file3[i][-1][0][:10]\n",
    "        day_dict['总时长']=str(len(file3[i][-1])-1)+'分钟'\n",
    "        day_dict['任务数']=str(len(file3[i])-1)\n",
    "\n",
    "    for j in range(len(file3[i])-1):\n",
    "        item_dict = {}\n",
    "        item_dict['开始时间'] = file3[i][j][0][:19]\n",
    "        item_dict['结束时间'] = file3[i][j][-1][:19]\n",
    "        item_dict['用时'] = str(len(file3[i][j])-1)+'分钟'\n",
    "        day_time = day_time + len(file3[i][j])-1\n",
    "        item_dict['批注'] = week_summary[i][j][2:]\n",
    "        day_dict[file2[i][j][11:]]=item_dict\n",
    "\n",
    "    if len(file3[i]) != 1:\n",
    "        day_dict['有效时间'] = str(day_time)+'分钟'\n",
    "        day_dict['时间效率'] = str(day_time/(len(file3[i][-1])-1)*100)[:5]+'%'\n",
    "    week_dict[weekday[str(i)]]=day_dict"
   ]
  },
  {
   "cell_type": "code",
   "execution_count": 47,
   "id": "2d7a472f",
   "metadata": {},
   "outputs": [],
   "source": [
    "time = getTime()\n",
    "with open(path+'\\\\'+time+' 汇总信息.json', 'w') as write_f:\n",
    "    write_f.write(json.dumps(week_dict, indent=4, ensure_ascii=False))"
   ]
  },
  {
   "cell_type": "code",
   "execution_count": null,
   "id": "577411e2",
   "metadata": {},
   "outputs": [],
   "source": []
  },
  {
   "cell_type": "code",
   "execution_count": null,
   "id": "905de8e4",
   "metadata": {},
   "outputs": [],
   "source": []
  },
  {
   "cell_type": "code",
   "execution_count": null,
   "id": "a2e2d919",
   "metadata": {},
   "outputs": [],
   "source": []
  },
  {
   "cell_type": "code",
   "execution_count": null,
   "id": "8b364933",
   "metadata": {},
   "outputs": [],
   "source": []
  },
  {
   "cell_type": "code",
   "execution_count": null,
   "id": "cc097356",
   "metadata": {},
   "outputs": [],
   "source": []
  }
 ],
 "metadata": {
  "kernelspec": {
   "display_name": "Python 3 (ipykernel)",
   "language": "python",
   "name": "python3"
  },
  "language_info": {
   "codemirror_mode": {
    "name": "ipython",
    "version": 3
   },
   "file_extension": ".py",
   "mimetype": "text/x-python",
   "name": "python",
   "nbconvert_exporter": "python",
   "pygments_lexer": "ipython3",
   "version": "3.8.15"
  }
 },
 "nbformat": 4,
 "nbformat_minor": 5
}
