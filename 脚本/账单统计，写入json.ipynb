{
 "cells": [
  {
   "cell_type": "code",
   "execution_count": 1,
   "id": "a1f173f5",
   "metadata": {},
   "outputs": [],
   "source": [
    "import os\n",
    "import shutil\n",
    "import json\n",
    "from datetime import datetime\n",
    "\n",
    "def getTime():\n",
    "    currentDateAndTime = datetime.now()\n",
    "    time_str = currentDateAndTime.strftime(\"%Y-%m-%d %H-%M-%S\")\n",
    "    return time_str\n",
    "\n",
    "path = r'E:\\OneDrive365\\OneDrive\\文档\\账单.json'\n",
    "folder = os.path.exists(path)\n",
    "if not folder:\n",
    "    bill = {}\n",
    "else:\n",
    "    with open(path, \"r\", encoding=\"utf-8\") as f:\n",
    "        bill = json.load(f)\n",
    "\n",
    "date_time = getTime()\n",
    "date = date_time[:10]"
   ]
  },
  {
   "cell_type": "code",
   "execution_count": 9,
   "id": "b57f5f39",
   "metadata": {},
   "outputs": [
    {
     "name": "stdout",
     "output_type": "stream",
     "text": [
      "资金状况： -2620.27\n",
      "{\n",
      "    \"2023-01-16\": {\n",
      "        \"2023-01-16 17-29-24\": {\n",
      "            \"ICBC\": 196.25,\n",
      "            \"微信\": 50,\n",
      "            \"花呗\": -2866.52,\n",
      "            \"白条\": 0,\n",
      "            \"合计\": -2620.27\n",
      "        },\n",
      "        \"2023-01-16 17-29-42\": {\n",
      "            \"ICBC\": 196.25,\n",
      "            \"微信\": 50,\n",
      "            \"花呗\": -2866.52,\n",
      "            \"白条\": 0,\n",
      "            \"合计\": -2620.27\n",
      "        },\n",
      "        \"2023-01-16 17-33-42\": {\n",
      "            \"ICBC\": 196.25,\n",
      "            \"微信\": 50,\n",
      "            \"花呗\": -2866.52,\n",
      "            \"白条\": 0,\n",
      "            \"合计\": -2620.27\n",
      "        }\n",
      "    }\n",
      "}\n"
     ]
    }
   ],
   "source": [
    "ICBC = 196.25\n",
    "wx = 50\n",
    "aliPay_remain = 90.93\n",
    "JD = 0\n",
    "money = (aliPay_remain - 3000) + ICBC + JD + wx\n",
    "print('花呗:', aliPay_remain - 3000)\n",
    "print('总资金状况:', money)\n",
    "\n",
    "item = {}\n",
    "item['ICBC'] = ICBC\n",
    "item['微信'] = wx\n",
    "item['花呗'] = AliPay\n",
    "item['白条'] = JD\n",
    "item['合计'] = money\n",
    "\n",
    "if date not in bill.keys():\n",
    "    day_item = {}\n",
    "    day_item[date_time] = item\n",
    "    bill[date] = day_item\n",
    "else:\n",
    "    bill[date][date_time] = item\n",
    "\n",
    "with open(path, \"w\") as f:\n",
    "    f.write(json.dumps(bill, indent=4, ensure_ascii=False))\n",
    "\n",
    "print(json.dumps(bill, indent=4, ensure_ascii=False))"
   ]
  },
  {
   "cell_type": "code",
   "execution_count": null,
   "id": "65fbd4a3",
   "metadata": {},
   "outputs": [],
   "source": []
  },
  {
   "cell_type": "code",
   "execution_count": null,
   "id": "e57177eb",
   "metadata": {},
   "outputs": [],
   "source": []
  }
 ],
 "metadata": {
  "kernelspec": {
   "display_name": "Python 3 (ipykernel)",
   "language": "python",
   "name": "python3"
  },
  "language_info": {
   "codemirror_mode": {
    "name": "ipython",
    "version": 3
   },
   "file_extension": ".py",
   "mimetype": "text/x-python",
   "name": "python",
   "nbconvert_exporter": "python",
   "pygments_lexer": "ipython3",
   "version": "3.8.15"
  }
 },
 "nbformat": 4,
 "nbformat_minor": 5
}
