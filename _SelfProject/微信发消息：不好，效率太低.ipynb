{
 "cells": [
  {
   "cell_type": "code",
   "execution_count": 12,
   "id": "9c7c53eb",
   "metadata": {},
   "outputs": [
    {
     "name": "stdout",
     "output_type": "stream",
     "text": [
      "2022-09-15 10:57:54.439 WeChatType.py[154] GetSessionList -> Find Control Timeout(10s): {ControlType: ListItemControl}\n"
     ]
    },
    {
     "data": {
      "text/plain": [
       "0"
      ]
     },
     "execution_count": 12,
     "metadata": {},
     "output_type": "execute_result"
    }
   ],
   "source": [
    "\n",
    "# 首先，将PyOfficeRobot模块导入到我们的代码块中。\n",
    "from PyOfficeRobot.core.WeChatType import *\n",
    "\n",
    "# 获取当前微信客户端\n",
    "wx = WeChat()\n",
    "# 获取会话列表\n",
    "names = wx.GetSessionList()\n",
    "\n",
    "len(names)"
   ]
  },
  {
   "cell_type": "code",
   "execution_count": 7,
   "id": "544c35a8",
   "metadata": {},
   "outputs": [
    {
     "ename": "KeyboardInterrupt",
     "evalue": "",
     "output_type": "error",
     "traceback": [
      "\u001b[1;31m---------------------------------------------------------------------------\u001b[0m",
      "\u001b[1;31mKeyboardInterrupt\u001b[0m                         Traceback (most recent call last)",
      "Input \u001b[1;32mIn [7]\u001b[0m, in \u001b[0;36m<cell line: 5>\u001b[1;34m()\u001b[0m\n\u001b[0;32m      5\u001b[0m \u001b[38;5;28;01mfor\u001b[39;00m i \u001b[38;5;129;01min\u001b[39;00m \u001b[38;5;28mrange\u001b[39m(\u001b[38;5;241m10\u001b[39m):\n\u001b[0;32m      6\u001b[0m     msg2 \u001b[38;5;241m=\u001b[39m \u001b[38;5;28mstr\u001b[39m(i)\u001b[38;5;241m+\u001b[39m\u001b[38;5;124m'\u001b[39m\u001b[38;5;124m:\u001b[39m\u001b[38;5;124m'\u001b[39m\u001b[38;5;241m+\u001b[39mmsg\n\u001b[1;32m----> 7\u001b[0m     \u001b[43mwx\u001b[49m\u001b[38;5;241;43m.\u001b[39;49m\u001b[43mSendMsg\u001b[49m\u001b[43m(\u001b[49m\u001b[43mmsg2\u001b[49m\u001b[43m)\u001b[49m\n",
      "File \u001b[1;32mE:\\soft\\anaconda3\\envs\\Pytorch38\\lib\\site-packages\\PyOfficeRobot\\core\\WeChatType.py:209\u001b[0m, in \u001b[0;36mWeChat.SendMsg\u001b[1;34m(self, msg, clear)\u001b[0m\n\u001b[0;32m    207\u001b[0m \u001b[38;5;28;01mif\u001b[39;00m clear:\n\u001b[0;32m    208\u001b[0m     \u001b[38;5;28mself\u001b[39m\u001b[38;5;241m.\u001b[39mEditMsg\u001b[38;5;241m.\u001b[39mSendKeys(\u001b[38;5;124m'\u001b[39m\u001b[38;5;132;01m{Ctrl}\u001b[39;00m\u001b[38;5;124ma\u001b[39m\u001b[38;5;124m'\u001b[39m, waitTime\u001b[38;5;241m=\u001b[39m\u001b[38;5;241m0\u001b[39m)\n\u001b[1;32m--> 209\u001b[0m \u001b[38;5;28;43mself\u001b[39;49m\u001b[38;5;241;43m.\u001b[39;49m\u001b[43mEditMsg\u001b[49m\u001b[38;5;241;43m.\u001b[39;49m\u001b[43mSendKeys\u001b[49m\u001b[43m(\u001b[49m\u001b[43mmsg\u001b[49m\u001b[43m,\u001b[49m\u001b[43m \u001b[49m\u001b[43mwaitTime\u001b[49m\u001b[38;5;241;43m=\u001b[39;49m\u001b[38;5;241;43m0\u001b[39;49m\u001b[43m)\u001b[49m\n\u001b[0;32m    210\u001b[0m \u001b[38;5;28mself\u001b[39m\u001b[38;5;241m.\u001b[39mEditMsg\u001b[38;5;241m.\u001b[39mSendKeys(\u001b[38;5;124m'\u001b[39m\u001b[38;5;132;01m{Enter}\u001b[39;00m\u001b[38;5;124m'\u001b[39m, waitTime\u001b[38;5;241m=\u001b[39m\u001b[38;5;241m0\u001b[39m)\n",
      "File \u001b[1;32mE:\\soft\\anaconda3\\envs\\Pytorch38\\lib\\site-packages\\uiautomation\\uiautomation.py:6743\u001b[0m, in \u001b[0;36mControl.SendKeys\u001b[1;34m(self, text, interval, waitTime, charMode)\u001b[0m\n\u001b[0;32m   6734\u001b[0m \u001b[38;5;124;03m\"\"\"\u001b[39;00m\n\u001b[0;32m   6735\u001b[0m \u001b[38;5;124;03mMake control have focus first and type keys.\u001b[39;00m\n\u001b[0;32m   6736\u001b[0m \u001b[38;5;124;03m`self.SetFocus` may not work for some controls, you may need to click it to make it have focus.\u001b[39;00m\n\u001b[1;32m   (...)\u001b[0m\n\u001b[0;32m   6740\u001b[0m \u001b[38;5;124;03mcharMode: bool, if False, the text typied is depend on the input method if a input method is on.\u001b[39;00m\n\u001b[0;32m   6741\u001b[0m \u001b[38;5;124;03m\"\"\"\u001b[39;00m\n\u001b[0;32m   6742\u001b[0m \u001b[38;5;28mself\u001b[39m\u001b[38;5;241m.\u001b[39mSetFocus()\n\u001b[1;32m-> 6743\u001b[0m \u001b[43mSendKeys\u001b[49m\u001b[43m(\u001b[49m\u001b[43mtext\u001b[49m\u001b[43m,\u001b[49m\u001b[43m \u001b[49m\u001b[43minterval\u001b[49m\u001b[43m,\u001b[49m\u001b[43m \u001b[49m\u001b[43mwaitTime\u001b[49m\u001b[43m,\u001b[49m\u001b[43m \u001b[49m\u001b[43mcharMode\u001b[49m\u001b[43m)\u001b[49m\n",
      "File \u001b[1;32mE:\\soft\\anaconda3\\envs\\Pytorch38\\lib\\site-packages\\uiautomation\\uiautomation.py:2791\u001b[0m, in \u001b[0;36mSendKeys\u001b[1;34m(text, interval, waitTime, charMode, debug)\u001b[0m\n\u001b[0;32m   2789\u001b[0m \u001b[38;5;28;01mif\u001b[39;00m key[\u001b[38;5;241m1\u001b[39m] \u001b[38;5;241m==\u001b[39m \u001b[38;5;124m'\u001b[39m\u001b[38;5;124mUnicodeChar\u001b[39m\u001b[38;5;124m'\u001b[39m:\n\u001b[0;32m   2790\u001b[0m     SendUnicodeChar(key[\u001b[38;5;241m0\u001b[39m], charMode)\n\u001b[1;32m-> 2791\u001b[0m     \u001b[43mtime\u001b[49m\u001b[38;5;241;43m.\u001b[39;49m\u001b[43msleep\u001b[49m\u001b[43m(\u001b[49m\u001b[43minterval\u001b[49m\u001b[43m)\u001b[49m\n\u001b[0;32m   2792\u001b[0m     \u001b[38;5;28;01mif\u001b[39;00m debug:\n\u001b[0;32m   2793\u001b[0m         Logger\u001b[38;5;241m.\u001b[39mColorfullyWrite(\u001b[38;5;124m'\u001b[39m\u001b[38;5;124m<Color=DarkGreen>\u001b[39m\u001b[38;5;132;01m{}\u001b[39;00m\u001b[38;5;124m</Color>, sleep(\u001b[39m\u001b[38;5;132;01m{}\u001b[39;00m\u001b[38;5;124m)\u001b[39m\u001b[38;5;130;01m\\n\u001b[39;00m\u001b[38;5;124m'\u001b[39m\u001b[38;5;241m.\u001b[39mformat(printKeys[i], interval), writeToFile\u001b[38;5;241m=\u001b[39m\u001b[38;5;28;01mFalse\u001b[39;00m)\n",
      "\u001b[1;31mKeyboardInterrupt\u001b[0m: "
     ]
    }
   ],
   "source": [
    "# 向某人发送消息（以`文件传输助手`为例）\n",
    "msg = '你好~我是程序员晚枫，感谢点赞 + 转发'\n",
    "who = '文件传输助手'\n",
    "wx.ChatWith(who)  # 打开`文件传输助手`聊天窗口\n",
    "for i in range(10):\n",
    "    msg2 = str(i)+':'+msg\n",
    "    wx.SendMsg(msg2)  # 向`文件传输助手`发送消息：你好~"
   ]
  }
 ],
 "metadata": {
  "kernelspec": {
   "display_name": "Python 3 (ipykernel)",
   "language": "python",
   "name": "python3"
  },
  "language_info": {
   "codemirror_mode": {
    "name": "ipython",
    "version": 3
   },
   "file_extension": ".py",
   "mimetype": "text/x-python",
   "name": "python",
   "nbconvert_exporter": "python",
   "pygments_lexer": "ipython3",
   "version": "3.8.13"
  }
 },
 "nbformat": 4,
 "nbformat_minor": 5
}
