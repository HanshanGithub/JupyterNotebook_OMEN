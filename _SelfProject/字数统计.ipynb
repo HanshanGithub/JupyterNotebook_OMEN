{
 "cells": [
  {
   "cell_type": "code",
   "execution_count": 26,
   "id": "d117d6ba",
   "metadata": {},
   "outputs": [],
   "source": [
    "def statistics(file_name):\n",
    "    with open(file_name, 'r') as f:\n",
    "        list_f = [line.strip('\\n') for line in f]\n",
    "        cols=[]  # 创建一个空的列表\n",
    "        for line in list_f: \n",
    "            list_split = line.split() # 对列表进行切片\n",
    "            list_str = ''.join(list_split) # \n",
    "            cols.append(list_str)\n",
    "    # return len(cols)\n",
    "    return len(''.join(cols))"
   ]
  },
  {
   "cell_type": "code",
   "execution_count": 22,
   "id": "5a7432bd",
   "metadata": {},
   "outputs": [],
   "source": [
    "import os\n",
    "\n",
    "# path = os.getcwd()\n",
    "path = os.chdir(r'E:\\typeeasy\\Article')\n",
    "\n",
    "files = os.listdir(path)\n",
    "\n",
    "def statistics(file_name):\n",
    "    with open(file_name, 'r') as f:\n",
    "        list_f = [line.strip('\\n') for line in f]\n",
    "        cols=[]  # 创建一个空的列表\n",
    "        for line in list_f: \n",
    "            list_split = line.split() # 对列表进行切片\n",
    "            list_str = ''.join(list_split) # \n",
    "            cols.append(list_str)\n",
    "    # return len(cols)\n",
    "    return len(''.join(cols))\n",
    "runti = files[-10:-4]\n",
    "for i in runti:\n",
    "    print(i,'【',statistics(i),'字】')"
   ]
  },
  {
   "cell_type": "code",
   "execution_count": 29,
   "id": "4d956cea",
   "metadata": {},
   "outputs": [
    {
     "name": "stdout",
     "output_type": "stream",
     "text": [
      "73. 人有强烈的内心冲动，是件值得庆幸的事情-397.txt 【 397 字】\n",
      "74. 坚持多久没有回报，你会及时止损？-1352.txt 【 1352 字】\n",
      "75. “在吗？”不是真的问你在不在-1198.txt 【 1198 字】\n",
      "76. 一个人内心的强大，是从享受孤独开始的-1467.txt 【 1467 字】\n",
      "77. 明明在同一个城市，却像谈了个异地恋 -1433.txt 【 1433 字】\n",
      "78. 什么是尊重的最高境界.txt 【 2453 字】\n"
     ]
    }
   ],
   "source": [
    "runti = files[-10:-4]\n",
    "for i in runti:\n",
    "    print(i,'【',statistics(i),'字】')"
   ]
  },
  {
   "cell_type": "code",
   "execution_count": null,
   "id": "463bd322",
   "metadata": {},
   "outputs": [],
   "source": [
    "import os\n",
    "\n",
    "path = os.getcwd()\n",
    "\n",
    "files = os.listdir(path)\n",
    "FILES = files[:59]\n",
    "\n",
    "def statistics(file_name):\n",
    "    with open(file_name, 'r') as f:\n",
    "        list_f = [line.strip('\\n') for line in f]\n",
    "        cols=[]  # 创建一个空的列表\n",
    "        for line in list_f: \n",
    "            list_split = line.split() # 对列表进行切片\n",
    "            list_str = ''.join(list_split) # \n",
    "            cols.append(list_str)\n",
    "    # return len(cols)\n",
    "    return len(''.join(cols))\n",
    "\n",
    "# lenF2 = statistics(files[2])\n",
    "# print(f\"file 2 lenth is {lenF2}\")\n",
    "total = 0\n",
    "\n",
    "for F in FILES:\n",
    "    # print(F)\n",
    "    total = total + statistics(F)\n",
    "\n",
    "print(f\"总共字数：{total}\")\n",
    "\n"
   ]
  }
 ],
 "metadata": {
  "kernelspec": {
   "display_name": "Python 3 (ipykernel)",
   "language": "python",
   "name": "python3"
  },
  "language_info": {
   "codemirror_mode": {
    "name": "ipython",
    "version": 3
   },
   "file_extension": ".py",
   "mimetype": "text/x-python",
   "name": "python",
   "nbconvert_exporter": "python",
   "pygments_lexer": "ipython3",
   "version": "3.8.13"
  }
 },
 "nbformat": 4,
 "nbformat_minor": 5
}
