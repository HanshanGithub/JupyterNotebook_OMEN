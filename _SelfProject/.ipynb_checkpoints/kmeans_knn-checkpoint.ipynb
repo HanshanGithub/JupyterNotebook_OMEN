{
 "cells": [
  {
   "cell_type": "code",
   "execution_count": 12,
   "id": "988476e2",
   "metadata": {},
   "outputs": [],
   "source": [
    "from sklearn.cluster import KMeans\n",
    "from sklearn.neighbors import KNeighborsClassifier as KNN\n",
    "import numpy as np\n",
    "import matplotlib.pyplot as plt\n",
    "from scipy.stats import mode\n",
    "\n",
    "\n",
    "def load_ndarray():\n",
    "    data = np.load(r'E:/_files/ndPic.npy')\n",
    "    labels = np.load(r'E:/_files/label.npy')\n",
    "    data = data.astype(np.uint8)\n",
    "#     data = data.reshape(4000,48,48)\n",
    "    return data, labels\n",
    "\n",
    "def draw(data):\n",
    "    data = data.reshape(4000,48,48)\n",
    "    fig, ax = plt.subplots(2, 5, figsize=(8, 3))\n",
    "    centers = data[100:110]\n",
    "    for axi, center in zip(ax.flat, centers):\n",
    "        axi.set(xticks=[], yticks=[])\n",
    "        axi.imshow(center, interpolation='nearest', cmap='gray') # , cmap='gray'\n",
    "\n",
    "def pca(data, k):\n",
    "    \"\"\"\n",
    "    :param data: 待降维的原始数据\n",
    "    :param k: 保留的特征数，即降低到的维数\n",
    "    :return: 降维后还原得到的数据\n",
    "    \"\"\"\n",
    "    # 1. 均值归一化\n",
    "    X_demean = data - np.mean(data, axis=0)  # 按行操作，取每一列的均值\n",
    "    \n",
    "    # 2. 计算数据的协方差矩阵\n",
    "    # np.dot(np.ones([97, 2]), np.ones([2, 1]))\n",
    "    C = np.dot(X_demean.T, X_demean) / len(X_demean)\n",
    "    # C = X_demean.T * X_demean / len(X_demean)\n",
    "\n",
    "    # 3. 计算特征值，特征向量\n",
    "    # 奇异值分解\n",
    "    U, S, V = np.linalg.svd(C) # 特征值：\" S 特征向量： U\n",
    "\n",
    "    # 4. 实现降维\n",
    "    U1 = U[:, :k]  # 降到100维，那么取特征向量的前100列\n",
    "    X_reduction = np.dot(X_demean , U1) # 降维后的数据\n",
    "\n",
    "    # 5. 数据还原\n",
    "    # x做过均值归一化，因此还需要加上各个维度的均值。\n",
    "    X_restore = np.dot(X_reduction , U1.T) + np.mean(data, axis=0)\n",
    "    return X_restore, X_reduction\n"
   ]
  },
  {
   "cell_type": "code",
   "execution_count": 14,
   "id": "95d9ee23",
   "metadata": {},
   "outputs": [],
   "source": [
    "data, mylabel = load_ndarray()"
   ]
  },
  {
   "cell_type": "code",
   "execution_count": 2,
   "id": "392ed818",
   "metadata": {},
   "outputs": [],
   "source": [
    "kmeans = KMeans(n_clusters=7, random_state=0)"
   ]
  },
  {
   "cell_type": "code",
   "execution_count": 29,
   "id": "47f443f6",
   "metadata": {},
   "outputs": [],
   "source": [
    "data2 = data"
   ]
  },
  {
   "cell_type": "code",
   "execution_count": 25,
   "id": "b5eca08f",
   "metadata": {},
   "outputs": [],
   "source": [
    "restore , data2 = pca(data, 100)"
   ]
  },
  {
   "cell_type": "code",
   "execution_count": 31,
   "id": "97442f50",
   "metadata": {},
   "outputs": [
    {
     "data": {
      "text/plain": [
       "(800, 2304)"
      ]
     },
     "execution_count": 31,
     "metadata": {},
     "output_type": "execute_result"
    }
   ],
   "source": [
    "data_test.shape"
   ]
  },
  {
   "cell_type": "code",
   "execution_count": 30,
   "id": "ee6e6246",
   "metadata": {},
   "outputs": [
    {
     "name": "stdout",
     "output_type": "stream",
     "text": [
      "0.25375\n"
     ]
    }
   ],
   "source": [
    "data_train, label_train = data2[:3200], mylabel[:3200]\n",
    "data_test, label_test= data2[3200:], mylabel[3200:]\n",
    "\n",
    "clf = KNN()\n",
    "clf.fit(data_train, label_train)\n",
    "label_predict = clf.predict(data_test)\n",
    "print(clf.score(data_test,label_test))"
   ]
  },
  {
   "cell_type": "code",
   "execution_count": 6,
   "id": "4a17ad6e",
   "metadata": {},
   "outputs": [
    {
     "name": "stdout",
     "output_type": "stream",
     "text": [
      "原始数据行状： (4000, 2304)\n",
      "降维后的数据形状： (4000, 100)\n"
     ]
    },
    {
     "name": "stderr",
     "output_type": "stream",
     "text": [
      "C:\\Users\\16340\\AppData\\Local\\Temp\\ipykernel_19524\\1838463643.py:8: FutureWarning: Unlike other reduction functions (e.g. `skew`, `kurtosis`), the default behavior of `mode` typically preserves the axis it acts along. In SciPy 1.11.0, this behavior will change: the default value of `keepdims` will become False, the `axis` over which the statistic is taken will be eliminated, and the value None will no longer be accepted. Set `keepdims` to True or False to avoid this warning.\n",
      "  labels[mask] = mode(mylabel[mask])[0]\n"
     ]
    },
    {
     "data": {
      "text/plain": [
       "0.25825"
      ]
     },
     "execution_count": 6,
     "metadata": {},
     "output_type": "execute_result"
    }
   ],
   "source": [
    "restore , tem= pca(data, 100)\n",
    "\n",
    "clusters = kmeans.fit_predict(tem)\n",
    "labels = np.zeros_like(clusters)\n",
    "\n",
    "for i in range(7):\n",
    "    mask = (clusters == i)\n",
    "    labels[mask] = mode(mylabel[mask])[0]\n",
    "\n",
    "accuracy_score(mylabel,labels)\n"
   ]
  },
  {
   "cell_type": "code",
   "execution_count": null,
   "id": "d007722f",
   "metadata": {},
   "outputs": [],
   "source": [
    "labels = np.zeros_like(clusters)\n",
    "for i in range(10):\n",
    "    mask = (clusters == i)\n",
    "    labels[mask] = mode(LL[mask])[0]\n",
    "\n",
    "accuracy_score(LL, labels)"
   ]
  }
 ],
 "metadata": {
  "kernelspec": {
   "display_name": "Python 3 (ipykernel)",
   "language": "python",
   "name": "python3"
  },
  "language_info": {
   "codemirror_mode": {
    "name": "ipython",
    "version": 3
   },
   "file_extension": ".py",
   "mimetype": "text/x-python",
   "name": "python",
   "nbconvert_exporter": "python",
   "pygments_lexer": "ipython3",
   "version": "3.8.13"
  }
 },
 "nbformat": 4,
 "nbformat_minor": 5
}
