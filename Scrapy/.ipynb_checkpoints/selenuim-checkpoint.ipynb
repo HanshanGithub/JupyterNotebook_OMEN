{
 "cells": [
  {
   "cell_type": "code",
   "execution_count": 38,
   "id": "3a1861b2",
   "metadata": {},
   "outputs": [],
   "source": [
    "dpath='E:\\soft\\selenium\\chromedriver.exe'"
   ]
  },
  {
   "cell_type": "code",
   "execution_count": 39,
   "id": "dba369ea",
   "metadata": {},
   "outputs": [],
   "source": [
    "import time\n",
    "import pymongo\n",
    "from selenium import webdriver\n",
    "from selenium.webdriver.support import expected_conditions as EC\n",
    "from selenium.webdriver.common.by import By\n",
    "from selenium.webdriver.support.ui import WebDriverWait\n",
    "from lxml import etree\n",
    "from selenium.webdriver.chrome.options import Options"
   ]
  },
  {
   "cell_type": "code",
   "execution_count": 40,
   "id": "40d98102",
   "metadata": {},
   "outputs": [],
   "source": [
    "browser = webdriver.Chrome(dpath)\n",
    "wait = WebDriverWait(browser, 30)"
   ]
  },
  {
   "cell_type": "code",
   "execution_count": 34,
   "id": "f13d5042",
   "metadata": {},
   "outputs": [],
   "source": [
    "item={'1':'111','2':'222'}"
   ]
  },
  {
   "cell_type": "code",
   "execution_count": 35,
   "id": "4d41a82d",
   "metadata": {},
   "outputs": [
    {
     "data": {
      "text/plain": [
       "<pymongo.results.InsertOneResult at 0x1d81987d780>"
      ]
     },
     "execution_count": 35,
     "metadata": {},
     "output_type": "execute_result"
    }
   ],
   "source": [
    "db.insert_one(item)"
   ]
  },
  {
   "cell_type": "code",
   "execution_count": 41,
   "id": "2a4a791c",
   "metadata": {},
   "outputs": [],
   "source": [
    "db = pymongo.MongoClient('mongodb://localhost:27017/')['mydb']['jd']"
   ]
  },
  {
   "cell_type": "code",
   "execution_count": 23,
   "id": "e31bf981",
   "metadata": {},
   "outputs": [],
   "source": [
    "def search():\n",
    "    browser.get('https://www.jd.com/')\n",
    "    try:\n",
    "        input = wait.until(\n",
    "            EC.presence_of_all_elements_located((By.CSS_SELECTOR, \"#key\"))\n",
    "        )  # llist\n",
    "        submit = wait.until(\n",
    "            EC.element_to_be_clickable((By.CSS_SELECTOR, \"#search > div > div.form > button\"))\n",
    "        )\n",
    "        # input = d.find_element_by_id('key')\n",
    "        # submit = d.find_element_by_id('search-link')\n",
    "        input[0].send_keys('python')\n",
    "        submit.click()\n",
    "\n",
    "        total = wait.until(\n",
    "            EC.presence_of_all_elements_located(\n",
    "                (By.CSS_SELECTOR, '#J_bottomPage > span.p-skip > em:nth-child(1) > b')\n",
    "            )\n",
    "        )\n",
    "        html = browser.page_source\n",
    "        prase_html(html)\n",
    "        return total[0].text\n",
    "    except TimeoutError:\n",
    "        search()"
   ]
  },
  {
   "cell_type": "code",
   "execution_count": 18,
   "id": "4459398a",
   "metadata": {},
   "outputs": [],
   "source": [
    "def next_page(page_number):\n",
    "    try:\n",
    "        # 滑动到底部，加载出后三十个货物信息\n",
    "        browser.execute_script(\"window.scrollTo(0, document.body.scrollHeight);\")\n",
    "        time.sleep(10)\n",
    "        # 翻页动作\n",
    "        button = wait.until(\n",
    "            EC.element_to_be_clickable((By.CSS_SELECTOR, '#J_bottomPage > span.p-num > a.pn-next > em'))\n",
    "        )\n",
    "        button.click()\n",
    "        wait.until(\n",
    "            EC.presence_of_all_elements_located((By.CSS_SELECTOR, \"#J_goodsList > ul > li:nth-child(60)\"))\n",
    "        )\n",
    "        # 判断翻页成功\n",
    "        wait.until(\n",
    "            EC.text_to_be_present_in_element((By.CSS_SELECTOR, \"#J_bottomPage > span.p-num > a.curr\"), str(page_number))\n",
    "        )\n",
    "        html = browser.page_source\n",
    "        prase_html(html)\n",
    "    except TimeoutError:\n",
    "        return next_page(page_number)"
   ]
  },
  {
   "cell_type": "code",
   "execution_count": 30,
   "id": "3e5e7959",
   "metadata": {},
   "outputs": [],
   "source": [
    "def prase_html(html):\n",
    "    html = etree.HTML(html)\n",
    "    items = html.xpath('//li[@class=\"gl-item\"]')\n",
    "    for i in range(len(items)):\n",
    "        item = {}\n",
    "        if html.xpath('//div[@class=\"p-img\"]//img')[i].get('data-lazy-img') != \"done\":\n",
    "            img = html.xpath('//div[@class=\"p-img\"]//img')[i].get('data-lazy-img')\n",
    "        else:\n",
    "            img = html.xpath('//div[@class=\"p-img\"]//img')[i].get('src')\n",
    "\n",
    "        # 图片url\n",
    "        item[\"img\"] = img\n",
    "        # 标题\n",
    "        item[\"title\"] = html.xpath('//div[@class=\"p-name p-name-type-2\"]//em')[i].xpath('string(.)')\n",
    "        # 价格\n",
    "        item[\"price\"] = html.xpath('//div[@class=\"p-price\"]//i')[i].text\n",
    "        # 评论\n",
    "        item[\"commit\"] = html.xpath('//div[@class=\"p-commit\"]//a')[i].text\n",
    "\n",
    "        save(item)"
   ]
  },
  {
   "cell_type": "code",
   "execution_count": 36,
   "id": "74d920aa",
   "metadata": {},
   "outputs": [],
   "source": [
    "def save(item):\n",
    "    try:\n",
    "        db.insert_one(item)\n",
    "    except Exception:\n",
    "        print('{}存储到MongoDB失败'.format(str(item)))"
   ]
  },
  {
   "cell_type": "code",
   "execution_count": 20,
   "id": "83bf435f",
   "metadata": {},
   "outputs": [],
   "source": [
    "def main():\n",
    "    print(\"第\", 1, \"页：\")\n",
    "    total = int(search())\n",
    "    for i in range(2, total + 1):\n",
    "        #time.sleep(3)\n",
    "        print(\"第\", i, \"页：\")\n",
    "        next_page(i)"
   ]
  },
  {
   "cell_type": "code",
   "execution_count": null,
   "id": "cded9b43",
   "metadata": {},
   "outputs": [
    {
     "name": "stdout",
     "output_type": "stream",
     "text": [
      "第 1 页：\n",
      "第 2 页：\n",
      "第 3 页：\n",
      "第 4 页：\n",
      "第 5 页：\n",
      "第 6 页：\n",
      "第 7 页：\n",
      "第 8 页：\n"
     ]
    }
   ],
   "source": [
    "main()"
   ]
  },
  {
   "cell_type": "code",
   "execution_count": null,
   "id": "e94a37f6",
   "metadata": {},
   "outputs": [],
   "source": []
  },
  {
   "cell_type": "code",
   "execution_count": null,
   "id": "5e909bcb",
   "metadata": {},
   "outputs": [],
   "source": []
  }
 ],
 "metadata": {
  "kernelspec": {
   "display_name": "Python 3 (ipykernel)",
   "language": "python",
   "name": "python3"
  },
  "language_info": {
   "codemirror_mode": {
    "name": "ipython",
    "version": 3
   },
   "file_extension": ".py",
   "mimetype": "text/x-python",
   "name": "python",
   "nbconvert_exporter": "python",
   "pygments_lexer": "ipython3",
   "version": "3.8.13"
  }
 },
 "nbformat": 4,
 "nbformat_minor": 5
}
