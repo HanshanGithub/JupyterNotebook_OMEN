{
 "cells": [
  {
   "cell_type": "code",
   "execution_count": 5,
   "id": "63cf5fb0",
   "metadata": {},
   "outputs": [],
   "source": [
    "from selenium import webdriver\n",
    "from selenium.webdriver.support import expected_conditions as EC\n",
    "from selenium.webdriver.common.by import By\n",
    "from selenium.webdriver.support.ui import WebDriverWait\n",
    "from time import sleep\n",
    "from datetime import date\n",
    "from selenium.webdriver.common.keys import Keys\n",
    "from selenium.webdriver.common.action_chains import ActionChains\n",
    "import json \n",
    "import csv"
   ]
  },
  {
   "cell_type": "code",
   "execution_count": 6,
   "id": "3c972c21",
   "metadata": {},
   "outputs": [],
   "source": [
    "url = r'https://order.jd.com/center/list.action?search=0&d=2022&s=4096'"
   ]
  },
  {
   "cell_type": "code",
   "execution_count": 51,
   "id": "d8f8fad0",
   "metadata": {},
   "outputs": [],
   "source": [
    "url2 = r'https://www.cnblogs.com/yikemogutou/p/12906145.html'"
   ]
  },
  {
   "cell_type": "code",
   "execution_count": 131,
   "id": "7ed96b75",
   "metadata": {},
   "outputs": [],
   "source": [
    "driver = webdriver.Chrome()"
   ]
  },
  {
   "cell_type": "code",
   "execution_count": 132,
   "id": "0bce42bf",
   "metadata": {},
   "outputs": [],
   "source": [
    "driver.get(url)"
   ]
  },
  {
   "cell_type": "code",
   "execution_count": null,
   "id": "86ab1e4a",
   "metadata": {},
   "outputs": [],
   "source": [
    "# 保存Cookie\n",
    "JD_Cookies = json.dumps(driver.get_cookies())\n",
    "with open('cookie_jd.json', 'w') as f:\n",
    "    f.write(JD_Cookies)"
   ]
  },
  {
   "cell_type": "code",
   "execution_count": 63,
   "id": "5e27571b",
   "metadata": {},
   "outputs": [],
   "source": [
    "driver.delete_all_cookies()"
   ]
  },
  {
   "cell_type": "code",
   "execution_count": 66,
   "id": "a24f5fb2",
   "metadata": {},
   "outputs": [],
   "source": [
    "# 用Cookie登陆\n",
    "\n",
    "with open('cookie_jd.json', 'r') as f:\n",
    "    listCookies = json.load(f)\n",
    "for cookie in listCookies:\n",
    "    #并不是所有cookie都含有expiry 所以要用dict的get方法来获取\n",
    "    if isinstance(cookie.get('expiry'), float):\n",
    "        cookie['expiry'] = int(cookie['expiry'])\n",
    "    driver.add_cookie(cookie)"
   ]
  },
  {
   "cell_type": "code",
   "execution_count": 67,
   "id": "93873841",
   "metadata": {},
   "outputs": [],
   "source": [
    "driver.get(url)"
   ]
  },
  {
   "cell_type": "code",
   "execution_count": 52,
   "id": "706f31c1",
   "metadata": {},
   "outputs": [],
   "source": [
    "driver.get(url2)"
   ]
  },
  {
   "cell_type": "code",
   "execution_count": 137,
   "id": "81202945",
   "metadata": {},
   "outputs": [],
   "source": [
    "driver.refresh()"
   ]
  },
  {
   "cell_type": "code",
   "execution_count": 133,
   "id": "424ec921",
   "metadata": {},
   "outputs": [],
   "source": [
    "pid = driver.find_element('xpath','//*[@id=\"loginname\"]')\n",
    "pid.send_keys('17321999980')\n",
    "pwd = driver.find_element('xpath','//*[@id=\"nloginpwd\"]')\n",
    "pwd.send_keys('jd20191021.')\n",
    "logIn = driver.find_element('xpath','//*[@id=\"loginsubmit\"]')"
   ]
  },
  {
   "cell_type": "code",
   "execution_count": 71,
   "id": "747fc8f8",
   "metadata": {},
   "outputs": [],
   "source": [
    "logIn.click()"
   ]
  },
  {
   "cell_type": "code",
   "execution_count": 124,
   "id": "7bd2bed6",
   "metadata": {},
   "outputs": [
    {
     "data": {
      "text/plain": [
       "['2022-07-25 20:59:47|订单号： 250036259556|益丰大药房旗舰店|康王 复方酮康唑发用洗剂100ml 治疗和预防脂溢性皮炎花斑癣头皮屑 缓解脱屑瘙痒 1盒装|相似商品|x1|江漓|¥48.00|在线支付|已取消|订单详情']"
      ]
     },
     "execution_count": 124,
     "metadata": {},
     "output_type": "execute_result"
    }
   ],
   "source": [
    "csv_in = []\n",
    "csv_in.append(boxsInfo[1].replace('\\n','|'))\n",
    "csv_in"
   ]
  },
  {
   "cell_type": "code",
   "execution_count": 141,
   "id": "9e6bb94a",
   "metadata": {},
   "outputs": [],
   "source": [
    "next_page = driver.find_element('xpath','/html/body/div[4]/div/div[1]/div[2]/div[4]/div[2]/div[2]/div[1]/a[7]')\n",
    "next_page.click()"
   ]
  },
  {
   "cell_type": "code",
   "execution_count": null,
   "id": "68f70367",
   "metadata": {},
   "outputs": [],
   "source": [
    "/html/body/div[4]/div/div[1]/div[2]/div[4]/div[2]/table/tbody[2]\n",
    "/html/body/div[4]/div/div[1]/div[2]/div[4]/div[2]/table/tbody"
   ]
  },
  {
   "cell_type": "code",
   "execution_count": 156,
   "id": "f8ecb034",
   "metadata": {},
   "outputs": [],
   "source": [
    "import time"
   ]
  },
  {
   "cell_type": "markdown",
   "id": "beb5dafc",
   "metadata": {},
   "source": [
    "# ---------------------"
   ]
  },
  {
   "cell_type": "code",
   "execution_count": 165,
   "id": "f7e4dc0a",
   "metadata": {},
   "outputs": [],
   "source": [
    "for i in range(1,2):\n",
    "    url_page = r'https://order.jd.com/center/list.action?search=0&d=2017&s=4096' + str(i)\n",
    "    driver.get(url_page)\n",
    "    time.sleep(1)\n",
    "    bosx = driver.find_elements('xpath','/html/body/div[4]/div/div[1]/div[2]/div[4]/div[2]/table/tbody')\n",
    "    \n",
    "    with open('京东2017年购买记录.csv', 'a+',encoding='utf-8-sig',newline='') as f:\n",
    "        csv_write = csv.writer(f)\n",
    "        for box in bosx:\n",
    "            csv_write.writerow(box.text.replace('\\n','|').split('|'))"
   ]
  },
  {
   "cell_type": "markdown",
   "id": "cb9b07af",
   "metadata": {},
   "source": [
    "# ——————————————————————"
   ]
  },
  {
   "cell_type": "code",
   "execution_count": 144,
   "id": "31090717",
   "metadata": {},
   "outputs": [],
   "source": [
    "page = 1 # 1 12 \n",
    "url_page = r'https://order.jd.com/center/list.action?d=2022&s=4096&page=' + str(page)\n",
    "driver.get(url_page)"
   ]
  },
  {
   "cell_type": "code",
   "execution_count": 145,
   "id": "56f22b6c",
   "metadata": {},
   "outputs": [],
   "source": [
    "bosx = driver.find_elements('xpath','/html/body/div[4]/div/div[1]/div[2]/div[4]/div[2]/table/tbody')"
   ]
  },
  {
   "cell_type": "code",
   "execution_count": 140,
   "id": "a9ee584c",
   "metadata": {},
   "outputs": [],
   "source": [
    "boxsInfo = []\n",
    "for index in range(2,24):\n",
    "    fullXpath = '/html/body/div[4]/div/div[1]/div[2]/div[4]/div[2]/table/tbody['+str(index)+']'\n",
    "    boxsInfo.append(driver.find_element('xpath',fullXpath).text)\n",
    "\n",
    "with open('京东2022年购买记录.csv', 'a+',encoding='utf-8-sig',newline='') as f:\n",
    "    csv_write = csv.writer(f)\n",
    "    for box in boxsInfo:\n",
    "        csv_write.writerow(box.replace('\\n','|').split('|'))\n"
   ]
  },
  {
   "cell_type": "code",
   "execution_count": null,
   "id": "9d8ce092",
   "metadata": {},
   "outputs": [],
   "source": []
  }
 ],
 "metadata": {
  "kernelspec": {
   "display_name": "Python 3 (ipykernel)",
   "language": "python",
   "name": "python3"
  },
  "language_info": {
   "codemirror_mode": {
    "name": "ipython",
    "version": 3
   },
   "file_extension": ".py",
   "mimetype": "text/x-python",
   "name": "python",
   "nbconvert_exporter": "python",
   "pygments_lexer": "ipython3",
   "version": "3.8.15"
  }
 },
 "nbformat": 4,
 "nbformat_minor": 5
}
