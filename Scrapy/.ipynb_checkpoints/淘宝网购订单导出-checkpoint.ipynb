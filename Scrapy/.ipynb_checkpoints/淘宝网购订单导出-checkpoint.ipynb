{
 "cells": [
  {
   "cell_type": "code",
   "execution_count": 1,
   "id": "5d6c3988",
   "metadata": {},
   "outputs": [],
   "source": [
    "from selenium import webdriver\n",
    "from selenium.webdriver.support import expected_conditions as EC\n",
    "from selenium.webdriver.common.by import By\n",
    "from selenium.webdriver.support.ui import WebDriverWait\n",
    "from time import sleep\n",
    "from datetime import date\n",
    "from selenium.webdriver.common.keys import Keys\n",
    "from selenium.webdriver.common.action_chains import ActionChains\n",
    "import json \n",
    "import csv"
   ]
  },
  {
   "cell_type": "code",
   "execution_count": 3,
   "id": "b2c8784c",
   "metadata": {},
   "outputs": [],
   "source": [
    "url = r'https://www.taobao.com/?spm=a2107.1.0.0.185011d9yaIFpK'"
   ]
  },
  {
   "cell_type": "code",
   "execution_count": 4,
   "id": "b0aed636",
   "metadata": {},
   "outputs": [],
   "source": [
    "driver = webdriver.Chrome()"
   ]
  },
  {
   "cell_type": "code",
   "execution_count": 48,
   "id": "6e1c4d3b",
   "metadata": {},
   "outputs": [],
   "source": [
    "import time"
   ]
  },
  {
   "cell_type": "code",
   "execution_count": 5,
   "id": "e0776df6",
   "metadata": {},
   "outputs": [],
   "source": [
    "driver.get(url)"
   ]
  },
  {
   "cell_type": "markdown",
   "id": "03371b09",
   "metadata": {},
   "source": [
    "# ------------------------------------"
   ]
  },
  {
   "cell_type": "code",
   "execution_count": 55,
   "id": "547afb8e",
   "metadata": {},
   "outputs": [
    {
     "name": "stdout",
     "output_type": "stream",
     "text": [
      "------------------------------ 0\n",
      "2018-03-02订单号: 129870673653658774 湖南叶洋图书专营店|赠便签本汤木青春励志书共3本 将来的你一定会感谢现在拼命的自己+你受的苦总有一天会照亮你未来的路+你的努力终将成就无 [交易快照]|￥96.00|￥32.80|1|申请售后|￥32.80|(含运费：￥0.00)|交易成功|订单详情|双方已评|申请开票\n",
      "2017-12-04订单号: 94798342709658774 宝家丽家纺旗舰店|北欧棉麻方格子桌布布艺茶几布餐桌布艺田园小清新长方形台布盖巾 [交易快照]|颜色分类：枯木条纹具体规格：100*140cm适合长形茶几|￥62.00|￥29.00|1|违规举报|退运保险|￥19.00|(含运费：￥0.00)|交易关闭|订单详情|保险服务|￥0.00\n",
      "------------------------------ 1\n",
      "2017-12-03订单号: 94790362164658774 mg晨光河边专卖店|晨光金属杆中性笔0.5水笔签字笔 细杆水性笔广告免费刻字定制LOGO [交易快照]|颜色分类：笔+笔芯12支（笔的型号及颜色留言备注）|￥16.80|￥14.80|1|申请售后|￥14.80|(含运费：￥0.00)|交易成功|订单详情|双方已评|申请开票\n",
      "2017-10-14订单号: 74402198775658774 建诺服饰专营店|运动鞋垫男士透气吸汗防臭减震跑步篮球皮鞋女冬季厚加绒保暖鞋垫 [交易快照]|颜色分类：【风尚款】42-44码尺码：其它尺码|￥50.00|￥28.00|1|申请售后|运费险已失效|￥28.00|(含运费：￥0.00)|交易成功|订单详情|双方已评|申请开票|保险服务|￥0.00\n",
      "------------------------------ 2\n",
      "2017-10-14订单号: 74222466290658774 朴然图书专营店|现货 曲一线 2018B版5年高考3年模拟 高考文综 理综政治历史地理物理化学生物 高三一轮全国卷总复习资料 高中五 [交易快照]|￥58.00|￥46.00|1|申请售后|￥26.00|(含运费：￥0.00)|交易成功|订单详情|双方已评\n",
      "2017-06-18订单号: 29715368708658774 t2旗舰店|童装女童连衣裙夏装短袖2017新款韩版儿童公主裙纯棉女孩裙子夏季 [交易快照]|颜色分类：明黄色参考身高：120cm（建议身高115cm左右）|￥59.00|1|申请售后|运费险已失效|￥32.00|(含运费：￥0.00)|交易成功|订单详情|双方已评|申请开票|保险服务|￥0.00\n",
      "------------------------------ 3\n",
      "2017-06-18订单号: 29715368707658774 GBOY潮流日系韩版男装|GBOY夏季潮流T恤男短袖日系小清新猫咪印花体恤青年半袖修身上衣 [交易快照]|颜色：黑色尺码：L[175]|￥168.00|1|查看退款|投诉卖家|运费险已赔付|￥50.00|(含运费：￥0.00)|交易关闭|订单详情|保险服务|￥0.00\n",
      "2017-06-18订单号: 29715368707658774 GBOY潮流日系韩版男装|GBOY夏季潮流T恤男短袖日系小清新猫咪印花体恤青年半袖修身上衣 [交易快照]|颜色：黑色尺码：L[175]|￥168.00|1|查看退款|投诉卖家|运费险已赔付|￥50.00|(含运费：￥0.00)|交易关闭|订单详情|保险服务|￥0.00\n"
     ]
    }
   ],
   "source": [
    "for i in range(30):\n",
    "    boxs = driver.find_elements('xpath','//*[@id=\"tp-bought-root\"]/div')\n",
    "    boxs_ = boxs[3:-2]\n",
    "    print('-'*30,i)\n",
    "    print(boxs_[0].text.replace('\\n','|'))\n",
    "    print(boxs_[-1].text.replace('\\n','|'))\n",
    "    with open('淘宝购买记录 截止于2023-01-20.csv', 'a+',encoding='utf-8-sig',newline='') as f:\n",
    "        csv_write = csv.writer(f)\n",
    "        for box in boxs_:\n",
    "            csv_write.writerow(box.text.replace('\\n','|').split('|'))\n",
    "    next_page = driver.find_element('xpath','//*[@id=\"tp-bought-root\"]/div[3]/div[2]/div/button[2]')\n",
    "    next_page.click()\n",
    "    time.sleep(1)\n",
    "    driver.execute_script(\"window.scrollTo(0, document.body.scrollHeight);\")\n",
    "    time.sleep(2)"
   ]
  },
  {
   "cell_type": "markdown",
   "id": "9999056c",
   "metadata": {},
   "source": [
    "# ------------------------------------"
   ]
  },
  {
   "cell_type": "code",
   "execution_count": 35,
   "id": "de7d0831",
   "metadata": {},
   "outputs": [],
   "source": [
    "next_page = driver.find_element('xpath','//*[@id=\"tp-bought-root\"]/div[3]/div[2]/div/button[2]')\n",
    "next_page.click()"
   ]
  },
  {
   "cell_type": "code",
   "execution_count": 37,
   "id": "1bbb8426",
   "metadata": {},
   "outputs": [],
   "source": [
    "boxs = driver.find_elements('xpath','//*[@id=\"tp-bought-root\"]/div')\n",
    "boxs_ = boxs[3:-2]"
   ]
  },
  {
   "cell_type": "code",
   "execution_count": 44,
   "id": "90858183",
   "metadata": {},
   "outputs": [],
   "source": []
  },
  {
   "cell_type": "code",
   "execution_count": 45,
   "id": "507b771b",
   "metadata": {},
   "outputs": [
    {
     "data": {
      "text/plain": [
       "'2022-07-30订单号: 1630318333122658774 山东消毒制品总汇\\n消毒杀菌 环境消毒 皮肤消毒 [交易快照]\\n净含量：500ml套餐类型：套餐一\\n￥20.00\\n￥6.80\\n1\\n投诉卖家\\n￥5.60\\n(含运费：￥0.00)\\n交易关闭\\n订单详情'"
      ]
     },
     "execution_count": 45,
     "metadata": {},
     "output_type": "execute_result"
    }
   ],
   "source": [
    "boxs_[-1].text"
   ]
  },
  {
   "cell_type": "code",
   "execution_count": 38,
   "id": "faeb04e7",
   "metadata": {},
   "outputs": [
    {
     "data": {
      "text/plain": [
       "50"
      ]
     },
     "execution_count": 38,
     "metadata": {},
     "output_type": "execute_result"
    }
   ],
   "source": [
    "len(boxs)"
   ]
  },
  {
   "cell_type": "code",
   "execution_count": 19,
   "id": "055fb3ae",
   "metadata": {},
   "outputs": [],
   "source": [
    "box = driver.find_element(By.XPATH,xpath)"
   ]
  },
  {
   "cell_type": "code",
   "execution_count": 20,
   "id": "44250933",
   "metadata": {},
   "outputs": [
    {
     "data": {
      "text/plain": [
       "'2022-07-28订单号: 1629083461928658774 大胃王食品旗舰店\\n白象方便面袋装韩式火鸡面 [交易快照]\\n口味：速发【5包】白象火鸡面\\n￥79.90\\n￥15.90\\n1\\n违规举报\\n￥15.90\\n(含运费：￥0.00)\\n交易关闭\\n订单详情'"
      ]
     },
     "execution_count": 20,
     "metadata": {},
     "output_type": "execute_result"
    }
   ],
   "source": [
    "box.text"
   ]
  },
  {
   "cell_type": "code",
   "execution_count": 24,
   "id": "af4a5bf1",
   "metadata": {},
   "outputs": [],
   "source": [
    "driver.refresh()"
   ]
  },
  {
   "cell_type": "code",
   "execution_count": 16,
   "id": "0de634a0",
   "metadata": {},
   "outputs": [],
   "source": [
    "next_page = driver.find_element(By.XPATH,'//*[@id=\"tp-bought-root\"]/div[49]/div[2]/ul/li[9]')\n",
    "next_page.click()\n",
    "driver.execute_script(\"window.scrollTo(0, document.body.scrollHeight);\")"
   ]
  },
  {
   "cell_type": "code",
   "execution_count": 25,
   "id": "22f7028d",
   "metadata": {},
   "outputs": [
    {
     "ename": "NoSuchElementException",
     "evalue": "Message: no such element: Unable to locate element: {\"method\":\"xpath\",\"selector\":\"//*[@id=\"tp-bought-root\"]/div[54]/div[2]/ul/div/div/input\"}\n  (Session info: chrome=109.0.5414.75)\nStacktrace:\nBacktrace:\n\t(No symbol) [0x00486643]\n\t(No symbol) [0x0041BE21]\n\t(No symbol) [0x0031DA9D]\n\t(No symbol) [0x00351342]\n\t(No symbol) [0x0035147B]\n\t(No symbol) [0x00388DC2]\n\t(No symbol) [0x0036FDC4]\n\t(No symbol) [0x00386B09]\n\t(No symbol) [0x0036FB76]\n\t(No symbol) [0x003449C1]\n\t(No symbol) [0x00345E5D]\n\tGetHandleVerifier [0x006FA142+2497106]\n\tGetHandleVerifier [0x007285D3+2686691]\n\tGetHandleVerifier [0x0072BB9C+2700460]\n\tGetHandleVerifier [0x00533B10+635936]\n\t(No symbol) [0x00424A1F]\n\t(No symbol) [0x0042A418]\n\t(No symbol) [0x0042A505]\n\t(No symbol) [0x0043508B]\n\tBaseThreadInitThunk [0x751DFA29+25]\n\tRtlGetAppContainerNamedObjectPath [0x77317A9E+286]\n\tRtlGetAppContainerNamedObjectPath [0x77317A6E+238]\n",
     "output_type": "error",
     "traceback": [
      "\u001b[1;31m---------------------------------------------------------------------------\u001b[0m",
      "\u001b[1;31mNoSuchElementException\u001b[0m                    Traceback (most recent call last)",
      "Cell \u001b[1;32mIn[25], line 2\u001b[0m\n\u001b[0;32m      1\u001b[0m index \u001b[38;5;241m=\u001b[39m \u001b[38;5;241m1\u001b[39m\n\u001b[1;32m----> 2\u001b[0m select_page \u001b[38;5;241m=\u001b[39m \u001b[43mdriver\u001b[49m\u001b[38;5;241;43m.\u001b[39;49m\u001b[43mfind_element\u001b[49m\u001b[43m(\u001b[49m\u001b[38;5;124;43m'\u001b[39;49m\u001b[38;5;124;43mxpath\u001b[39;49m\u001b[38;5;124;43m'\u001b[39;49m\u001b[43m,\u001b[49m\u001b[38;5;124;43m'\u001b[39;49m\u001b[38;5;124;43m//*[@id=\u001b[39;49m\u001b[38;5;124;43m\"\u001b[39;49m\u001b[38;5;124;43mtp-bought-root\u001b[39;49m\u001b[38;5;124;43m\"\u001b[39;49m\u001b[38;5;124;43m]/div[54]/div[2]/ul/div/div/input\u001b[39;49m\u001b[38;5;124;43m'\u001b[39;49m\u001b[43m)\u001b[49m\n\u001b[0;32m      3\u001b[0m select_page\u001b[38;5;241m.\u001b[39mclear()\n\u001b[0;32m      4\u001b[0m select_page\u001b[38;5;241m.\u001b[39msend_keys(\u001b[38;5;28mstr\u001b[39m(index))\n",
      "File \u001b[1;32mE:\\soft\\anaconda\\envs\\OMEN\\lib\\site-packages\\selenium\\webdriver\\remote\\webdriver.py:861\u001b[0m, in \u001b[0;36mWebDriver.find_element\u001b[1;34m(self, by, value)\u001b[0m\n\u001b[0;32m    858\u001b[0m     by \u001b[38;5;241m=\u001b[39m By\u001b[38;5;241m.\u001b[39mCSS_SELECTOR\n\u001b[0;32m    859\u001b[0m     value \u001b[38;5;241m=\u001b[39m \u001b[38;5;124m'\u001b[39m\u001b[38;5;124m[name=\u001b[39m\u001b[38;5;124m\"\u001b[39m\u001b[38;5;132;01m%s\u001b[39;00m\u001b[38;5;124m\"\u001b[39m\u001b[38;5;124m]\u001b[39m\u001b[38;5;124m'\u001b[39m \u001b[38;5;241m%\u001b[39m value\n\u001b[1;32m--> 861\u001b[0m \u001b[38;5;28;01mreturn\u001b[39;00m \u001b[38;5;28;43mself\u001b[39;49m\u001b[38;5;241;43m.\u001b[39;49m\u001b[43mexecute\u001b[49m\u001b[43m(\u001b[49m\u001b[43mCommand\u001b[49m\u001b[38;5;241;43m.\u001b[39;49m\u001b[43mFIND_ELEMENT\u001b[49m\u001b[43m,\u001b[49m\u001b[43m \u001b[49m\u001b[43m{\u001b[49m\u001b[38;5;124;43m\"\u001b[39;49m\u001b[38;5;124;43musing\u001b[39;49m\u001b[38;5;124;43m\"\u001b[39;49m\u001b[43m:\u001b[49m\u001b[43m \u001b[49m\u001b[43mby\u001b[49m\u001b[43m,\u001b[49m\u001b[43m \u001b[49m\u001b[38;5;124;43m\"\u001b[39;49m\u001b[38;5;124;43mvalue\u001b[39;49m\u001b[38;5;124;43m\"\u001b[39;49m\u001b[43m:\u001b[49m\u001b[43m \u001b[49m\u001b[43mvalue\u001b[49m\u001b[43m}\u001b[49m\u001b[43m)\u001b[49m[\u001b[38;5;124m\"\u001b[39m\u001b[38;5;124mvalue\u001b[39m\u001b[38;5;124m\"\u001b[39m]\n",
      "File \u001b[1;32mE:\\soft\\anaconda\\envs\\OMEN\\lib\\site-packages\\selenium\\webdriver\\remote\\webdriver.py:444\u001b[0m, in \u001b[0;36mWebDriver.execute\u001b[1;34m(self, driver_command, params)\u001b[0m\n\u001b[0;32m    442\u001b[0m response \u001b[38;5;241m=\u001b[39m \u001b[38;5;28mself\u001b[39m\u001b[38;5;241m.\u001b[39mcommand_executor\u001b[38;5;241m.\u001b[39mexecute(driver_command, params)\n\u001b[0;32m    443\u001b[0m \u001b[38;5;28;01mif\u001b[39;00m response:\n\u001b[1;32m--> 444\u001b[0m     \u001b[38;5;28;43mself\u001b[39;49m\u001b[38;5;241;43m.\u001b[39;49m\u001b[43merror_handler\u001b[49m\u001b[38;5;241;43m.\u001b[39;49m\u001b[43mcheck_response\u001b[49m\u001b[43m(\u001b[49m\u001b[43mresponse\u001b[49m\u001b[43m)\u001b[49m\n\u001b[0;32m    445\u001b[0m     response[\u001b[38;5;124m\"\u001b[39m\u001b[38;5;124mvalue\u001b[39m\u001b[38;5;124m\"\u001b[39m] \u001b[38;5;241m=\u001b[39m \u001b[38;5;28mself\u001b[39m\u001b[38;5;241m.\u001b[39m_unwrap_value(response\u001b[38;5;241m.\u001b[39mget(\u001b[38;5;124m\"\u001b[39m\u001b[38;5;124mvalue\u001b[39m\u001b[38;5;124m\"\u001b[39m, \u001b[38;5;28;01mNone\u001b[39;00m))\n\u001b[0;32m    446\u001b[0m     \u001b[38;5;28;01mreturn\u001b[39;00m response\n",
      "File \u001b[1;32mE:\\soft\\anaconda\\envs\\OMEN\\lib\\site-packages\\selenium\\webdriver\\remote\\errorhandler.py:249\u001b[0m, in \u001b[0;36mErrorHandler.check_response\u001b[1;34m(self, response)\u001b[0m\n\u001b[0;32m    247\u001b[0m         alert_text \u001b[38;5;241m=\u001b[39m value[\u001b[38;5;124m\"\u001b[39m\u001b[38;5;124malert\u001b[39m\u001b[38;5;124m\"\u001b[39m]\u001b[38;5;241m.\u001b[39mget(\u001b[38;5;124m\"\u001b[39m\u001b[38;5;124mtext\u001b[39m\u001b[38;5;124m\"\u001b[39m)\n\u001b[0;32m    248\u001b[0m     \u001b[38;5;28;01mraise\u001b[39;00m exception_class(message, screen, stacktrace, alert_text)  \u001b[38;5;66;03m# type: ignore[call-arg]  # mypy is not smart enough here\u001b[39;00m\n\u001b[1;32m--> 249\u001b[0m \u001b[38;5;28;01mraise\u001b[39;00m exception_class(message, screen, stacktrace)\n",
      "\u001b[1;31mNoSuchElementException\u001b[0m: Message: no such element: Unable to locate element: {\"method\":\"xpath\",\"selector\":\"//*[@id=\"tp-bought-root\"]/div[54]/div[2]/ul/div/div/input\"}\n  (Session info: chrome=109.0.5414.75)\nStacktrace:\nBacktrace:\n\t(No symbol) [0x00486643]\n\t(No symbol) [0x0041BE21]\n\t(No symbol) [0x0031DA9D]\n\t(No symbol) [0x00351342]\n\t(No symbol) [0x0035147B]\n\t(No symbol) [0x00388DC2]\n\t(No symbol) [0x0036FDC4]\n\t(No symbol) [0x00386B09]\n\t(No symbol) [0x0036FB76]\n\t(No symbol) [0x003449C1]\n\t(No symbol) [0x00345E5D]\n\tGetHandleVerifier [0x006FA142+2497106]\n\tGetHandleVerifier [0x007285D3+2686691]\n\tGetHandleVerifier [0x0072BB9C+2700460]\n\tGetHandleVerifier [0x00533B10+635936]\n\t(No symbol) [0x00424A1F]\n\t(No symbol) [0x0042A418]\n\t(No symbol) [0x0042A505]\n\t(No symbol) [0x0043508B]\n\tBaseThreadInitThunk [0x751DFA29+25]\n\tRtlGetAppContainerNamedObjectPath [0x77317A9E+286]\n\tRtlGetAppContainerNamedObjectPath [0x77317A6E+238]\n"
     ]
    }
   ],
   "source": [
    "index = 1\n",
    "select_page = driver.find_element('xpath','//*[@id=\"tp-bought-root\"]/div[54]/div[2]/ul/div/div/input')\n",
    "select_page.clear()\n",
    "select_page.send_keys(str(index))\n",
    "\n",
    "turn = driver.find_element('xpath','//*[@id=\"tp-bought-root\"]/div[54]/div[2]/ul/div/div/span[3]')\n",
    "turn.click()"
   ]
  },
  {
   "cell_type": "code",
   "execution_count": null,
   "id": "a9d4c7e6",
   "metadata": {},
   "outputs": [],
   "source": [
    "/html/body/div[2]/div/div[1]/div[1]/div[3]/div/div[4]"
   ]
  },
  {
   "cell_type": "code",
   "execution_count": null,
   "id": "dc265c74",
   "metadata": {},
   "outputs": [],
   "source": []
  }
 ],
 "metadata": {
  "kernelspec": {
   "display_name": "Python 3 (ipykernel)",
   "language": "python",
   "name": "python3"
  },
  "language_info": {
   "codemirror_mode": {
    "name": "ipython",
    "version": 3
   },
   "file_extension": ".py",
   "mimetype": "text/x-python",
   "name": "python",
   "nbconvert_exporter": "python",
   "pygments_lexer": "ipython3",
   "version": "3.8.15"
  }
 },
 "nbformat": 4,
 "nbformat_minor": 5
}
