{
 "cells": [
  {
   "cell_type": "code",
   "execution_count": 1,
   "id": "9c7ee7bd",
   "metadata": {},
   "outputs": [],
   "source": [
    "from selenium import webdriver\n",
    "from selenium.webdriver.support import expected_conditions as EC\n",
    "from selenium.webdriver.common.by import By\n",
    "from selenium.webdriver.support.ui import WebDriverWait\n",
    "from time import sleep\n",
    "from datetime import date\n",
    "from tkinter import *"
   ]
  },
  {
   "cell_type": "code",
   "execution_count": 2,
   "id": "1c5be9f0",
   "metadata": {},
   "outputs": [],
   "source": [
    "url = r'https://mail.qq.com/cgi-bin/frame_html?sid=L7t0qjQCYBGlaQto&r=b2367ddd3800504c2a202c821316dc86&lang=zh'"
   ]
  },
  {
   "cell_type": "code",
   "execution_count": 5,
   "id": "c7275c55",
   "metadata": {},
   "outputs": [],
   "source": [
    "options = webdriver.ChromeOptions()"
   ]
  },
  {
   "cell_type": "code",
   "execution_count": 6,
   "id": "2aeb1c8b",
   "metadata": {},
   "outputs": [],
   "source": [
    "driver = webdriver.Chrome(options=options)"
   ]
  },
  {
   "cell_type": "code",
   "execution_count": 7,
   "id": "325fe8da",
   "metadata": {},
   "outputs": [],
   "source": [
    "driver.get(url)"
   ]
  },
  {
   "cell_type": "markdown",
   "id": "6eb3c12e",
   "metadata": {},
   "source": [
    "#### 进入新邮件"
   ]
  },
  {
   "cell_type": "code",
   "execution_count": 27,
   "id": "070651c7",
   "metadata": {},
   "outputs": [],
   "source": [
    "xiexin = driver.find_element(\"id\", \"composebtn\")\n",
    "xiexin.click()"
   ]
  },
  {
   "cell_type": "markdown",
   "id": "614e1baa",
   "metadata": {},
   "source": [
    "#### 收件箱"
   ]
  },
  {
   "cell_type": "code",
   "execution_count": 28,
   "id": "b4248245",
   "metadata": {},
   "outputs": [],
   "source": [
    "xiexin = driver.find_element(\"id\", \"readmailbtn_link\")\n",
    "xiexin.click()"
   ]
  },
  {
   "cell_type": "markdown",
   "id": "16a007f6",
   "metadata": {},
   "source": [
    "#### 写入收件人信息"
   ]
  },
  {
   "cell_type": "code",
   "execution_count": 23,
   "id": "e79be4ca",
   "metadata": {},
   "outputs": [],
   "source": [
    "# recv  = driver.find_element(\"xpath\", \"//input[@class='js_input']\")\n",
    "\n"
   ]
  },
  {
   "cell_type": "markdown",
   "id": "846e7b08",
   "metadata": {},
   "source": [
    "#### 写入主题"
   ]
  },
  {
   "cell_type": "code",
   "execution_count": 29,
   "id": "d872c0d2",
   "metadata": {},
   "outputs": [],
   "source": [
    "zhuti = driver.find_elements(\"id\", \"subject\")\n",
    "# 找到的是邮件搜索，为什么"
   ]
  },
  {
   "cell_type": "code",
   "execution_count": 30,
   "id": "76e07c97",
   "metadata": {},
   "outputs": [
    {
     "data": {
      "text/plain": [
       "1"
      ]
     },
     "execution_count": 30,
     "metadata": {},
     "output_type": "execute_result"
    }
   ],
   "source": [
    "len(zhuti)"
   ]
  },
  {
   "cell_type": "code",
   "execution_count": 33,
   "id": "567deeeb",
   "metadata": {},
   "outputs": [],
   "source": [
    "zhuti[0].send_keys('wei')"
   ]
  },
  {
   "cell_type": "code",
   "execution_count": 34,
   "id": "8f38cfbf",
   "metadata": {},
   "outputs": [],
   "source": [
    "zhuti[0].clear()"
   ]
  },
  {
   "cell_type": "code",
   "execution_count": null,
   "id": "58beec1a",
   "metadata": {},
   "outputs": [],
   "source": []
  }
 ],
 "metadata": {
  "kernelspec": {
   "display_name": "Python 3 (ipykernel)",
   "language": "python",
   "name": "python3"
  },
  "language_info": {
   "codemirror_mode": {
    "name": "ipython",
    "version": 3
   },
   "file_extension": ".py",
   "mimetype": "text/x-python",
   "name": "python",
   "nbconvert_exporter": "python",
   "pygments_lexer": "ipython3",
   "version": "3.8.15"
  }
 },
 "nbformat": 4,
 "nbformat_minor": 5
}
