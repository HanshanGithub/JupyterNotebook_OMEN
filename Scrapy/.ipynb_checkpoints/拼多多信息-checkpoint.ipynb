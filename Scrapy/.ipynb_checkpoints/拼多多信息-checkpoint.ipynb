{
 "cells": [
  {
   "cell_type": "code",
   "execution_count": 10,
   "id": "2db41cfb",
   "metadata": {},
   "outputs": [],
   "source": [
    "from selenium import webdriver\n",
    "from selenium.webdriver.support import expected_conditions as EC\n",
    "from selenium.webdriver.common.by import By\n",
    "from selenium.webdriver.common.keys import Keys\n",
    "from selenium.webdriver.common.action_chains import ActionChains\n",
    "from selenium.webdriver.support.ui import WebDriverWait\n",
    "from time import sleep\n",
    "from datetime import date\n",
    "from tkinter import *\n",
    "from threading import Thread\n",
    "import csv"
   ]
  },
  {
   "cell_type": "code",
   "execution_count": 14,
   "id": "099d129b",
   "metadata": {},
   "outputs": [],
   "source": [
    "import keyboard"
   ]
  },
  {
   "cell_type": "code",
   "execution_count": 2,
   "id": "f7e9a466",
   "metadata": {},
   "outputs": [],
   "source": [
    "url = r'https://youhui.pinduoduo.com/'"
   ]
  },
  {
   "cell_type": "code",
   "execution_count": 3,
   "id": "c93b6286",
   "metadata": {},
   "outputs": [],
   "source": [
    "options = webdriver.ChromeOptions()\n",
    "options.add_experimental_option('mobileEmulation', {'deviceName': 'iPhone X'})  # 模拟iPhone X浏览\n",
    "driver = webdriver.Chrome(options=options)\n",
    "driver.get(url)"
   ]
  },
  {
   "cell_type": "code",
   "execution_count": 5,
   "id": "772b9c95",
   "metadata": {},
   "outputs": [],
   "source": [
    "driver.execute_script(\"window.scrollTo(0, document.body.scrollHeight);\")"
   ]
  },
  {
   "cell_type": "code",
   "execution_count": 8,
   "id": "614c2d59",
   "metadata": {},
   "outputs": [],
   "source": [
    "js=\"window.scrollTo(0,document.body.scrollHeight)\" \n",
    "driver.execute_script(js)"
   ]
  },
  {
   "cell_type": "code",
   "execution_count": 26,
   "id": "d5cb5c72",
   "metadata": {},
   "outputs": [],
   "source": [
    "import time"
   ]
  },
  {
   "cell_type": "code",
   "execution_count": 45,
   "id": "88e0b15f",
   "metadata": {},
   "outputs": [],
   "source": [
    "# press CTRL button\n",
    "time.sleep(2)\n",
    "for i in range(1000):\n",
    "    keyboard.press(keyboard.KEY_DOWN)\n",
    "    keyboard.release(keyboard.KEY_DOWN)\n",
    "# release the CTRL button\n",
    "\n",
    "keyboard.release(keyboard.KEY_DOWN)"
   ]
  },
  {
   "cell_type": "code",
   "execution_count": null,
   "id": "ef65fe7e",
   "metadata": {},
   "outputs": [],
   "source": [
    "//*[@id=\"base-list0\"]/div[1]/div[110]\n",
    "//*[@id=\"base-list0\"]/div[1]/div[284]\n",
    "//*[@id=\"base-list0\"]/div[1]/div[1]"
   ]
  },
  {
   "cell_type": "code",
   "execution_count": 46,
   "id": "9e0f53e8",
   "metadata": {},
   "outputs": [],
   "source": [
    "infos = []"
   ]
  },
  {
   "cell_type": "code",
   "execution_count": 47,
   "id": "26d2bc29",
   "metadata": {},
   "outputs": [],
   "source": [
    "with open('拼多多购买记录 截止于2023-01-20.csv', 'a+',encoding='utf-8-sig',newline='') as f:\n",
    "    csv_write = csv.writer(f)\n",
    "    for index in range(1,285):\n",
    "        xpath = '//*[@id=\"base-list0\"]/div[1]/div['+str(index)+']'\n",
    "        box = driver.find_element('xpath',xpath)\n",
    "        csv_write.writerow(box.text.replace('\\n','|').split('|'))"
   ]
  },
  {
   "cell_type": "code",
   "execution_count": 38,
   "id": "54bf7b63",
   "metadata": {},
   "outputs": [
    {
     "data": {
      "text/plain": [
       "'戴匠家居生活旗舰店|交易已取消|硅藻泥吸水杯垫北欧ins垫子餐桌杯子隔热防烫防滑垫餐垫水杯垫子|楚石兰迹圆|￥5.13|×1|应付:￥5.13(免运费)|再次拼单|删除订单'"
      ]
     },
     "execution_count": 38,
     "metadata": {},
     "output_type": "execute_result"
    }
   ],
   "source": [
    "box.text.replace('\\n','|')"
   ]
  },
  {
   "cell_type": "code",
   "execution_count": null,
   "id": "4cb863bf",
   "metadata": {},
   "outputs": [],
   "source": [
    "//*[@id=\"base-list0\"]/div[1]/div[1]\n",
    "//*[@id=\"base-list0\"]/div[1]/div[2]\n",
    "\n"
   ]
  },
  {
   "cell_type": "code",
   "execution_count": 21,
   "id": "c4f4f277",
   "metadata": {},
   "outputs": [],
   "source": [
    "events = keyboard.record('esc')"
   ]
  },
  {
   "cell_type": "code",
   "execution_count": 22,
   "id": "31f02913",
   "metadata": {},
   "outputs": [],
   "source": [
    "keyboard.play(events)"
   ]
  },
  {
   "cell_type": "code",
   "execution_count": 48,
   "id": "9a67cf7a",
   "metadata": {},
   "outputs": [],
   "source": [
    "keyboard.unhook_all()"
   ]
  },
  {
   "cell_type": "code",
   "execution_count": 11,
   "id": "12572d48",
   "metadata": {},
   "outputs": [],
   "source": [
    "ActionChains(driver)\\\n",
    "    .key_down(Keys.SHIFT)\\\n",
    "    .perform()"
   ]
  },
  {
   "cell_type": "code",
   "execution_count": null,
   "id": "cf10fdef",
   "metadata": {},
   "outputs": [],
   "source": [
    "#将滚动条移动到页面的底部\n",
    "js=\"var q=document.documentElement.scrollTop=100000\"  \n",
    "driver.execute_script(js)  \n",
    "time.sleep(3)  \n",
    "#将滚动条移动到页面的顶部  \n",
    "js=\"var q=document.documentElement.scrollTop=0\"  \n",
    "driver.execute_script(js)  \n",
    "time.sleep(3)  \n",
    "#若要对页面中的内嵌窗口中的滚动条进行操作，要先定位到该内嵌窗口，在进行滚动条操作 \n",
    "js=\"var q=document.getElementById('id').scrollTop=100000\" \n",
    "driver.execute_script(js) \n"
   ]
  },
  {
   "cell_type": "code",
   "execution_count": null,
   "id": "bebf2f89",
   "metadata": {},
   "outputs": [],
   "source": []
  },
  {
   "cell_type": "code",
   "execution_count": null,
   "id": "25df11ee",
   "metadata": {},
   "outputs": [],
   "source": []
  },
  {
   "cell_type": "code",
   "execution_count": null,
   "id": "e93da60c",
   "metadata": {},
   "outputs": [],
   "source": []
  }
 ],
 "metadata": {
  "kernelspec": {
   "display_name": "Python 3 (ipykernel)",
   "language": "python",
   "name": "python3"
  },
  "language_info": {
   "codemirror_mode": {
    "name": "ipython",
    "version": 3
   },
   "file_extension": ".py",
   "mimetype": "text/x-python",
   "name": "python",
   "nbconvert_exporter": "python",
   "pygments_lexer": "ipython3",
   "version": "3.8.15"
  }
 },
 "nbformat": 4,
 "nbformat_minor": 5
}
