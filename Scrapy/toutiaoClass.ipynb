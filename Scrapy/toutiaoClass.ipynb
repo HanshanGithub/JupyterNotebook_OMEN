{
 "cells": [
  {
   "cell_type": "code",
   "execution_count": 52,
   "id": "5acedf8f",
   "metadata": {},
   "outputs": [],
   "source": [
    "dpath='E:\\soft\\selenium\\chromedriver.exe'\n",
    "import time\n",
    "import pymongo\n",
    "from selenium import webdriver\n",
    "from selenium.webdriver.support import expected_conditions as EC\n",
    "from selenium.webdriver.common.by import By\n",
    "from selenium.webdriver.support.ui import WebDriverWait\n",
    "from lxml import etree\n",
    "import re"
   ]
  },
  {
   "cell_type": "code",
   "execution_count": 81,
   "id": "e65ef621",
   "metadata": {},
   "outputs": [
    {
     "name": "stdout",
     "output_type": "stream",
     "text": [
      "输入搜索内容：iPadAir5\n"
     ]
    }
   ],
   "source": [
    "start()"
   ]
  },
  {
   "cell_type": "markdown",
   "id": "3b87af09",
   "metadata": {},
   "source": [
    "# self"
   ]
  },
  {
   "cell_type": "code",
   "execution_count": 80,
   "id": "a4971d2a",
   "metadata": {},
   "outputs": [],
   "source": [
    "db = pymongo.MongoClient('mongodb://localhost:27017/')['mydb']['MacMini']\n",
    "browser = webdriver.Chrome(dpath)\n",
    "wait = WebDriverWait(browser, 30)"
   ]
  },
  {
   "cell_type": "code",
   "execution_count": 78,
   "id": "628e11d1",
   "metadata": {},
   "outputs": [],
   "source": [
    "def start():\n",
    "    #browser = webdriver.Chrome(dpath)\n",
    "    #wait = WebDriverWait(browser, 30)\n",
    "    mykey=input('输入搜索内容：')\n",
    "    url='https://so.toutiao.com/search?dvpf=pc&source=input&keyword='+\\\n",
    "    mykey+'&pd=information&action_type=pagination&page_num=0&from=news&cur_tab_title=news'\n",
    "    browser.get(url)\n",
    "    #browser.close()\n",
    "    for i in range(3):\n",
    "        next_page()\n",
    "    #browser.close()"
   ]
  },
  {
   "cell_type": "code",
   "execution_count": 76,
   "id": "7477c578",
   "metadata": {},
   "outputs": [],
   "source": [
    "def next_page():\n",
    "    nextPage = wait.until(\n",
    "            EC.element_to_be_clickable((By.CSS_SELECTOR, \\\n",
    "                                        'div[class=\"cs-view cs-view-block cs-pagination\"] > a:last-child > div > span'))\n",
    "        )\n",
    "    nextPage.click()\n",
    "    box = browser.find_elements_by_xpath('//div[@class=\"cs-view cs-view-block cs-card-content\"]')\n",
    "    insert(box)"
   ]
  },
  {
   "cell_type": "code",
   "execution_count": 77,
   "id": "4b273567",
   "metadata": {},
   "outputs": [],
   "source": [
    "def insert(box):\n",
    "    for b in box:\n",
    "        s=b.text\n",
    "        list1=re.split('\\n',s)\n",
    "        item={}\n",
    "        #print(len(list1))\n",
    "        item['title']=list1[0]\n",
    "        item['info']=list1[1]\n",
    "        item['name']=list1[2]\n",
    "        #item['comment']=list1[3]\n",
    "        item['date']=list1[-1]\n",
    "        db.insert_one(item)"
   ]
  },
  {
   "cell_type": "code",
   "execution_count": null,
   "id": "482cd9ed",
   "metadata": {},
   "outputs": [],
   "source": []
  },
  {
   "cell_type": "code",
   "execution_count": null,
   "id": "8fd5329e",
   "metadata": {},
   "outputs": [],
   "source": []
  },
  {
   "cell_type": "code",
   "execution_count": null,
   "id": "ece679f3",
   "metadata": {},
   "outputs": [],
   "source": []
  },
  {
   "cell_type": "code",
   "execution_count": null,
   "id": "e9bcfd21",
   "metadata": {},
   "outputs": [],
   "source": []
  },
  {
   "cell_type": "code",
   "execution_count": null,
   "id": "6436b9f7",
   "metadata": {},
   "outputs": [],
   "source": []
  },
  {
   "cell_type": "code",
   "execution_count": null,
   "id": "fe548ea7",
   "metadata": {},
   "outputs": [],
   "source": []
  },
  {
   "cell_type": "code",
   "execution_count": null,
   "id": "c8044b1f",
   "metadata": {},
   "outputs": [],
   "source": []
  },
  {
   "cell_type": "code",
   "execution_count": null,
   "id": "f979e9b8",
   "metadata": {},
   "outputs": [],
   "source": []
  },
  {
   "cell_type": "code",
   "execution_count": null,
   "id": "47fddc87",
   "metadata": {},
   "outputs": [],
   "source": []
  },
  {
   "cell_type": "code",
   "execution_count": null,
   "id": "09b2e754",
   "metadata": {},
   "outputs": [],
   "source": []
  },
  {
   "cell_type": "code",
   "execution_count": null,
   "id": "415b31da",
   "metadata": {},
   "outputs": [],
   "source": []
  },
  {
   "cell_type": "code",
   "execution_count": null,
   "id": "f2aa0099",
   "metadata": {},
   "outputs": [],
   "source": []
  },
  {
   "cell_type": "code",
   "execution_count": null,
   "id": "2ee59364",
   "metadata": {},
   "outputs": [],
   "source": []
  },
  {
   "cell_type": "code",
   "execution_count": null,
   "id": "b1f8a5e2",
   "metadata": {},
   "outputs": [],
   "source": []
  },
  {
   "cell_type": "code",
   "execution_count": null,
   "id": "ff14bbc5",
   "metadata": {},
   "outputs": [],
   "source": []
  },
  {
   "cell_type": "code",
   "execution_count": null,
   "id": "66c1dfbb",
   "metadata": {},
   "outputs": [],
   "source": []
  }
 ],
 "metadata": {
  "kernelspec": {
   "display_name": "Python 3 (ipykernel)",
   "language": "python",
   "name": "python3"
  },
  "language_info": {
   "codemirror_mode": {
    "name": "ipython",
    "version": 3
   },
   "file_extension": ".py",
   "mimetype": "text/x-python",
   "name": "python",
   "nbconvert_exporter": "python",
   "pygments_lexer": "ipython3",
   "version": "3.8.13"
  }
 },
 "nbformat": 4,
 "nbformat_minor": 5
}
