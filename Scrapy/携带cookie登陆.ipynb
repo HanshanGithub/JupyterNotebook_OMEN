{
 "cells": [
  {
   "cell_type": "code",
   "execution_count": 1,
   "id": "4b496951",
   "metadata": {},
   "outputs": [],
   "source": [
    "from selenium import webdriver\n",
    "from selenium.webdriver.support import expected_conditions as EC\n",
    "from selenium.webdriver.common.by import By\n",
    "from selenium.webdriver.support.ui import WebDriverWait\n",
    "from time import sleep\n",
    "from datetime import date\n",
    "from selenium.webdriver.common.keys import Keys\n",
    "from selenium.webdriver.common.action_chains import ActionChains\n",
    "import json "
   ]
  },
  {
   "cell_type": "code",
   "execution_count": 18,
   "id": "88bdd25f",
   "metadata": {},
   "outputs": [],
   "source": [
    "url = r'https://wx.mail.qq.com/home/index?sid=zQVnTowVWWouZUlaAGFzWgAA#/compose/new'"
   ]
  },
  {
   "cell_type": "code",
   "execution_count": 11,
   "id": "33c15556",
   "metadata": {},
   "outputs": [],
   "source": [
    "url = r'https://mail.qq.com/cgi-bin/frame_html?sid=YGXXTlury64aTi9M'"
   ]
  },
  {
   "cell_type": "code",
   "execution_count": 22,
   "id": "1e592dee",
   "metadata": {},
   "outputs": [],
   "source": [
    "driver = webdriver.Chrome()"
   ]
  },
  {
   "cell_type": "code",
   "execution_count": 23,
   "id": "82b109c6",
   "metadata": {},
   "outputs": [
    {
     "name": "stdout",
     "output_type": "stream",
     "text": [
      "https://wx.mail.qq.com/home/index?sid=zQVnTowVWWouZUlaAGFzWgAA#/compose/new\n"
     ]
    }
   ],
   "source": [
    "driver.get(url)\n",
    "print(url)"
   ]
  },
  {
   "cell_type": "code",
   "execution_count": 14,
   "id": "ebfe51ac",
   "metadata": {},
   "outputs": [],
   "source": [
    "with open('oldQQemail.cookies', 'r', encoding='utf8') as f:\n",
    "    listCookies = json.loads(f.read())"
   ]
  },
  {
   "cell_type": "code",
   "execution_count": 15,
   "id": "5986e1cf",
   "metadata": {},
   "outputs": [],
   "source": [
    "driver.delete_all_cookies()\n",
    "for cookie in listCookies:\n",
    "    driver.add_cookie(cookie)"
   ]
  },
  {
   "cell_type": "code",
   "execution_count": 16,
   "id": "e6842c90",
   "metadata": {},
   "outputs": [],
   "source": [
    "driver.get(url)"
   ]
  },
  {
   "cell_type": "code",
   "execution_count": null,
   "id": "02b7264b",
   "metadata": {},
   "outputs": [],
   "source": []
  },
  {
   "cell_type": "code",
   "execution_count": null,
   "id": "3706e3e9",
   "metadata": {},
   "outputs": [],
   "source": []
  },
  {
   "cell_type": "code",
   "execution_count": null,
   "id": "cd9490aa",
   "metadata": {},
   "outputs": [],
   "source": []
  },
  {
   "cell_type": "code",
   "execution_count": null,
   "id": "3d194b6d",
   "metadata": {},
   "outputs": [],
   "source": []
  },
  {
   "cell_type": "code",
   "execution_count": null,
   "id": "3ffd27a0",
   "metadata": {},
   "outputs": [],
   "source": []
  },
  {
   "cell_type": "code",
   "execution_count": null,
   "id": "5f32029f",
   "metadata": {},
   "outputs": [],
   "source": []
  },
  {
   "cell_type": "code",
   "execution_count": null,
   "id": "ff775c1e",
   "metadata": {},
   "outputs": [],
   "source": []
  }
 ],
 "metadata": {
  "kernelspec": {
   "display_name": "Python 3 (ipykernel)",
   "language": "python",
   "name": "python3"
  },
  "language_info": {
   "codemirror_mode": {
    "name": "ipython",
    "version": 3
   },
   "file_extension": ".py",
   "mimetype": "text/x-python",
   "name": "python",
   "nbconvert_exporter": "python",
   "pygments_lexer": "ipython3",
   "version": "3.8.15"
  }
 },
 "nbformat": 4,
 "nbformat_minor": 5
}
