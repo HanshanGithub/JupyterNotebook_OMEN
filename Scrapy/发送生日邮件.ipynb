{
 "cells": [
  {
   "cell_type": "code",
   "execution_count": 1,
   "id": "45c6459c",
   "metadata": {},
   "outputs": [],
   "source": [
    "from selenium import webdriver\n",
    "from selenium.webdriver.support import expected_conditions as EC\n",
    "from selenium.webdriver.common.by import By\n",
    "from selenium.webdriver.support.ui import WebDriverWait\n",
    "from time import sleep\n",
    "from datetime import date\n",
    "from selenium.webdriver.common.keys import Keys\n",
    "from selenium.webdriver.common.action_chains import ActionChains"
   ]
  },
  {
   "cell_type": "code",
   "execution_count": 2,
   "id": "59e7baa2",
   "metadata": {},
   "outputs": [],
   "source": [
    "url = r'https://mail.qq.com/cgi-bin/frame_html?sid=L7t0qjQCYBGlaQto&r=b2367ddd3800504c2a202c821316dc86&lang=zh'"
   ]
  },
  {
   "cell_type": "code",
   "execution_count": 3,
   "id": "37bd48a7",
   "metadata": {},
   "outputs": [],
   "source": [
    "options = webdriver.ChromeOptions()"
   ]
  },
  {
   "cell_type": "code",
   "execution_count": 4,
   "id": "4ff6cabb",
   "metadata": {},
   "outputs": [],
   "source": [
    "driver = webdriver.Chrome(options=options)"
   ]
  },
  {
   "cell_type": "code",
   "execution_count": 5,
   "id": "c1edf346",
   "metadata": {},
   "outputs": [],
   "source": [
    "driver.get(url)"
   ]
  },
  {
   "cell_type": "markdown",
   "id": "a82bc244",
   "metadata": {},
   "source": [
    "#### 进入新邮件"
   ]
  },
  {
   "cell_type": "code",
   "execution_count": 39,
   "id": "5fc41cc4",
   "metadata": {},
   "outputs": [],
   "source": [
    "write = driver.find_element(\"xpath\",\"//*[@id='composebtn']\")\n",
    "write.click()"
   ]
  },
  {
   "cell_type": "markdown",
   "id": "53c2e5a6",
   "metadata": {},
   "source": [
    "#### 进入收件箱"
   ]
  },
  {
   "cell_type": "code",
   "execution_count": 38,
   "id": "5b817203",
   "metadata": {},
   "outputs": [],
   "source": [
    "recv_box = driver.find_element(\"xpath\",\"//*[@id='folder_1']\")\n",
    "recv_box.click()"
   ]
  },
  {
   "cell_type": "code",
   "execution_count": 43,
   "id": "a341eb78",
   "metadata": {},
   "outputs": [
    {
     "data": {
      "text/plain": [
       "'\\ue007'"
      ]
     },
     "execution_count": 43,
     "metadata": {},
     "output_type": "execute_result"
    }
   ],
   "source": [
    "Keys.ENTER"
   ]
  },
  {
   "cell_type": "code",
   "execution_count": 45,
   "id": "f1871a2e",
   "metadata": {},
   "outputs": [
    {
     "ename": "NoSuchElementException",
     "evalue": "Message: no such element: Unable to locate element: {\"method\":\"xpath\",\"selector\":\"//*[@id='lm167279537007103948679422072636tree']/div[2]/div[4]\"}\n  (Session info: chrome=108.0.5359.125)\nStacktrace:\nBacktrace:\n\t(No symbol) [0x0084F243]\n\t(No symbol) [0x007D7FD1]\n\t(No symbol) [0x006CD04D]\n\t(No symbol) [0x006FC0B0]\n\t(No symbol) [0x006FC22B]\n\t(No symbol) [0x0072E612]\n\t(No symbol) [0x007185D4]\n\t(No symbol) [0x0072C9EB]\n\t(No symbol) [0x00718386]\n\t(No symbol) [0x006F163C]\n\t(No symbol) [0x006F269D]\n\tGetHandleVerifier [0x00AE9A22+2655074]\n\tGetHandleVerifier [0x00ADCA24+2601828]\n\tGetHandleVerifier [0x008F8C0A+619850]\n\tGetHandleVerifier [0x008F7830+614768]\n\t(No symbol) [0x007E05FC]\n\t(No symbol) [0x007E5968]\n\t(No symbol) [0x007E5A55]\n\t(No symbol) [0x007F051B]\n\tBaseThreadInitThunk [0x763BFA29+25]\n\tRtlGetAppContainerNamedObjectPath [0x76FF7A9E+286]\n\tRtlGetAppContainerNamedObjectPath [0x76FF7A6E+238]\n",
     "output_type": "error",
     "traceback": [
      "\u001b[1;31m---------------------------------------------------------------------------\u001b[0m",
      "\u001b[1;31mNoSuchElementException\u001b[0m                    Traceback (most recent call last)",
      "Cell \u001b[1;32mIn[45], line 1\u001b[0m\n\u001b[1;32m----> 1\u001b[0m recent \u001b[38;5;241m=\u001b[39m \u001b[43mdriver\u001b[49m\u001b[38;5;241;43m.\u001b[39;49m\u001b[43mfind_element\u001b[49m\u001b[43m(\u001b[49m\u001b[38;5;124;43m\"\u001b[39;49m\u001b[38;5;124;43mxpath\u001b[39;49m\u001b[38;5;124;43m\"\u001b[39;49m\u001b[43m,\u001b[49m\u001b[38;5;124;43m\"\u001b[39;49m\u001b[38;5;124;43m//*[@id=\u001b[39;49m\u001b[38;5;124;43m'\u001b[39;49m\u001b[38;5;124;43mlm167279537007103948679422072636tree\u001b[39;49m\u001b[38;5;124;43m'\u001b[39;49m\u001b[38;5;124;43m]/div[2]/div[4]\u001b[39;49m\u001b[38;5;124;43m\"\u001b[39;49m\u001b[43m)\u001b[49m\n",
      "File \u001b[1;32mE:\\soft\\anaconda\\envs\\OMEN\\lib\\site-packages\\selenium\\webdriver\\remote\\webdriver.py:861\u001b[0m, in \u001b[0;36mWebDriver.find_element\u001b[1;34m(self, by, value)\u001b[0m\n\u001b[0;32m    858\u001b[0m     by \u001b[38;5;241m=\u001b[39m By\u001b[38;5;241m.\u001b[39mCSS_SELECTOR\n\u001b[0;32m    859\u001b[0m     value \u001b[38;5;241m=\u001b[39m \u001b[38;5;124m'\u001b[39m\u001b[38;5;124m[name=\u001b[39m\u001b[38;5;124m\"\u001b[39m\u001b[38;5;132;01m%s\u001b[39;00m\u001b[38;5;124m\"\u001b[39m\u001b[38;5;124m]\u001b[39m\u001b[38;5;124m'\u001b[39m \u001b[38;5;241m%\u001b[39m value\n\u001b[1;32m--> 861\u001b[0m \u001b[38;5;28;01mreturn\u001b[39;00m \u001b[38;5;28;43mself\u001b[39;49m\u001b[38;5;241;43m.\u001b[39;49m\u001b[43mexecute\u001b[49m\u001b[43m(\u001b[49m\u001b[43mCommand\u001b[49m\u001b[38;5;241;43m.\u001b[39;49m\u001b[43mFIND_ELEMENT\u001b[49m\u001b[43m,\u001b[49m\u001b[43m \u001b[49m\u001b[43m{\u001b[49m\u001b[38;5;124;43m\"\u001b[39;49m\u001b[38;5;124;43musing\u001b[39;49m\u001b[38;5;124;43m\"\u001b[39;49m\u001b[43m:\u001b[49m\u001b[43m \u001b[49m\u001b[43mby\u001b[49m\u001b[43m,\u001b[49m\u001b[43m \u001b[49m\u001b[38;5;124;43m\"\u001b[39;49m\u001b[38;5;124;43mvalue\u001b[39;49m\u001b[38;5;124;43m\"\u001b[39;49m\u001b[43m:\u001b[49m\u001b[43m \u001b[49m\u001b[43mvalue\u001b[49m\u001b[43m}\u001b[49m\u001b[43m)\u001b[49m[\u001b[38;5;124m\"\u001b[39m\u001b[38;5;124mvalue\u001b[39m\u001b[38;5;124m\"\u001b[39m]\n",
      "File \u001b[1;32mE:\\soft\\anaconda\\envs\\OMEN\\lib\\site-packages\\selenium\\webdriver\\remote\\webdriver.py:444\u001b[0m, in \u001b[0;36mWebDriver.execute\u001b[1;34m(self, driver_command, params)\u001b[0m\n\u001b[0;32m    442\u001b[0m response \u001b[38;5;241m=\u001b[39m \u001b[38;5;28mself\u001b[39m\u001b[38;5;241m.\u001b[39mcommand_executor\u001b[38;5;241m.\u001b[39mexecute(driver_command, params)\n\u001b[0;32m    443\u001b[0m \u001b[38;5;28;01mif\u001b[39;00m response:\n\u001b[1;32m--> 444\u001b[0m     \u001b[38;5;28;43mself\u001b[39;49m\u001b[38;5;241;43m.\u001b[39;49m\u001b[43merror_handler\u001b[49m\u001b[38;5;241;43m.\u001b[39;49m\u001b[43mcheck_response\u001b[49m\u001b[43m(\u001b[49m\u001b[43mresponse\u001b[49m\u001b[43m)\u001b[49m\n\u001b[0;32m    445\u001b[0m     response[\u001b[38;5;124m\"\u001b[39m\u001b[38;5;124mvalue\u001b[39m\u001b[38;5;124m\"\u001b[39m] \u001b[38;5;241m=\u001b[39m \u001b[38;5;28mself\u001b[39m\u001b[38;5;241m.\u001b[39m_unwrap_value(response\u001b[38;5;241m.\u001b[39mget(\u001b[38;5;124m\"\u001b[39m\u001b[38;5;124mvalue\u001b[39m\u001b[38;5;124m\"\u001b[39m, \u001b[38;5;28;01mNone\u001b[39;00m))\n\u001b[0;32m    446\u001b[0m     \u001b[38;5;28;01mreturn\u001b[39;00m response\n",
      "File \u001b[1;32mE:\\soft\\anaconda\\envs\\OMEN\\lib\\site-packages\\selenium\\webdriver\\remote\\errorhandler.py:249\u001b[0m, in \u001b[0;36mErrorHandler.check_response\u001b[1;34m(self, response)\u001b[0m\n\u001b[0;32m    247\u001b[0m         alert_text \u001b[38;5;241m=\u001b[39m value[\u001b[38;5;124m\"\u001b[39m\u001b[38;5;124malert\u001b[39m\u001b[38;5;124m\"\u001b[39m]\u001b[38;5;241m.\u001b[39mget(\u001b[38;5;124m\"\u001b[39m\u001b[38;5;124mtext\u001b[39m\u001b[38;5;124m\"\u001b[39m)\n\u001b[0;32m    248\u001b[0m     \u001b[38;5;28;01mraise\u001b[39;00m exception_class(message, screen, stacktrace, alert_text)  \u001b[38;5;66;03m# type: ignore[call-arg]  # mypy is not smart enough here\u001b[39;00m\n\u001b[1;32m--> 249\u001b[0m \u001b[38;5;28;01mraise\u001b[39;00m exception_class(message, screen, stacktrace)\n",
      "\u001b[1;31mNoSuchElementException\u001b[0m: Message: no such element: Unable to locate element: {\"method\":\"xpath\",\"selector\":\"//*[@id='lm167279537007103948679422072636tree']/div[2]/div[4]\"}\n  (Session info: chrome=108.0.5359.125)\nStacktrace:\nBacktrace:\n\t(No symbol) [0x0084F243]\n\t(No symbol) [0x007D7FD1]\n\t(No symbol) [0x006CD04D]\n\t(No symbol) [0x006FC0B0]\n\t(No symbol) [0x006FC22B]\n\t(No symbol) [0x0072E612]\n\t(No symbol) [0x007185D4]\n\t(No symbol) [0x0072C9EB]\n\t(No symbol) [0x00718386]\n\t(No symbol) [0x006F163C]\n\t(No symbol) [0x006F269D]\n\tGetHandleVerifier [0x00AE9A22+2655074]\n\tGetHandleVerifier [0x00ADCA24+2601828]\n\tGetHandleVerifier [0x008F8C0A+619850]\n\tGetHandleVerifier [0x008F7830+614768]\n\t(No symbol) [0x007E05FC]\n\t(No symbol) [0x007E5968]\n\t(No symbol) [0x007E5A55]\n\t(No symbol) [0x007F051B]\n\tBaseThreadInitThunk [0x763BFA29+25]\n\tRtlGetAppContainerNamedObjectPath [0x76FF7A9E+286]\n\tRtlGetAppContainerNamedObjectPath [0x76FF7A6E+238]\n"
     ]
    }
   ],
   "source": [
    "recent = driver.find_element(\"xpath\",\"//*[@id='lm167279537007103948679422072636tree']/div[2]/div[4]\")"
   ]
  },
  {
   "cell_type": "code",
   "execution_count": 42,
   "id": "6f2a791c",
   "metadata": {},
   "outputs": [
    {
     "data": {
      "text/plain": [
       "'\\ue004'"
      ]
     },
     "execution_count": 42,
     "metadata": {},
     "output_type": "execute_result"
    }
   ],
   "source": [
    "Keys.TAB"
   ]
  },
  {
   "cell_type": "markdown",
   "id": "ad9216a9",
   "metadata": {},
   "source": [
    "#### 进入草稿"
   ]
  },
  {
   "cell_type": "code",
   "execution_count": 11,
   "id": "c4010fca",
   "metadata": {},
   "outputs": [],
   "source": [
    "draft = driver.find_element(\"xpath\",\"//*[@id='folder_4']\")\n",
    "draft.click()"
   ]
  },
  {
   "cell_type": "markdown",
   "id": "bc259236",
   "metadata": {},
   "source": [
    "#### 写入收件人信息"
   ]
  },
  {
   "cell_type": "code",
   "execution_count": 34,
   "id": "b37b8de6",
   "metadata": {},
   "outputs": [],
   "source": [
    "recver = driver.find_element(\"xpath\",\"//*[@id='subject']\") # 总定位到搜索框"
   ]
  },
  {
   "cell_type": "code",
   "execution_count": 33,
   "id": "8432f4c5",
   "metadata": {},
   "outputs": [],
   "source": [
    "recver.click()"
   ]
  },
  {
   "cell_type": "code",
   "execution_count": 15,
   "id": "90c20d40",
   "metadata": {},
   "outputs": [
    {
     "ename": "NoSuchElementException",
     "evalue": "Message: no such element: Unable to locate element: {\"method\":\"xpath\",\"selector\":\"//*[@id='toAreaCtrl']\"}\n  (Session info: chrome=108.0.5359.125)\nStacktrace:\nBacktrace:\n\t(No symbol) [0x0084F243]\n\t(No symbol) [0x007D7FD1]\n\t(No symbol) [0x006CD04D]\n\t(No symbol) [0x006FC0B0]\n\t(No symbol) [0x006FC22B]\n\t(No symbol) [0x0072E612]\n\t(No symbol) [0x007185D4]\n\t(No symbol) [0x0072C9EB]\n\t(No symbol) [0x00718386]\n\t(No symbol) [0x006F163C]\n\t(No symbol) [0x006F269D]\n\tGetHandleVerifier [0x00AE9A22+2655074]\n\tGetHandleVerifier [0x00ADCA24+2601828]\n\tGetHandleVerifier [0x008F8C0A+619850]\n\tGetHandleVerifier [0x008F7830+614768]\n\t(No symbol) [0x007E05FC]\n\t(No symbol) [0x007E5968]\n\t(No symbol) [0x007E5A55]\n\t(No symbol) [0x007F051B]\n\tBaseThreadInitThunk [0x763BFA29+25]\n\tRtlGetAppContainerNamedObjectPath [0x76FF7A9E+286]\n\tRtlGetAppContainerNamedObjectPath [0x76FF7A6E+238]\n",
     "output_type": "error",
     "traceback": [
      "\u001b[1;31m---------------------------------------------------------------------------\u001b[0m",
      "\u001b[1;31mNoSuchElementException\u001b[0m                    Traceback (most recent call last)",
      "Cell \u001b[1;32mIn[15], line 1\u001b[0m\n\u001b[1;32m----> 1\u001b[0m recver  \u001b[38;5;241m=\u001b[39m \u001b[43mdriver\u001b[49m\u001b[38;5;241;43m.\u001b[39;49m\u001b[43mfind_element\u001b[49m\u001b[43m(\u001b[49m\u001b[38;5;124;43m\"\u001b[39;49m\u001b[38;5;124;43mxpath\u001b[39;49m\u001b[38;5;124;43m\"\u001b[39;49m\u001b[43m,\u001b[49m\u001b[43m \u001b[49m\u001b[38;5;124;43m\"\u001b[39;49m\u001b[38;5;124;43m//*[@id=\u001b[39;49m\u001b[38;5;124;43m'\u001b[39;49m\u001b[38;5;124;43mtoAreaCtrl\u001b[39;49m\u001b[38;5;124;43m'\u001b[39;49m\u001b[38;5;124;43m]\u001b[39;49m\u001b[38;5;124;43m\"\u001b[39;49m\u001b[43m)\u001b[49m\n",
      "File \u001b[1;32mE:\\soft\\anaconda\\envs\\OMEN\\lib\\site-packages\\selenium\\webdriver\\remote\\webdriver.py:861\u001b[0m, in \u001b[0;36mWebDriver.find_element\u001b[1;34m(self, by, value)\u001b[0m\n\u001b[0;32m    858\u001b[0m     by \u001b[38;5;241m=\u001b[39m By\u001b[38;5;241m.\u001b[39mCSS_SELECTOR\n\u001b[0;32m    859\u001b[0m     value \u001b[38;5;241m=\u001b[39m \u001b[38;5;124m'\u001b[39m\u001b[38;5;124m[name=\u001b[39m\u001b[38;5;124m\"\u001b[39m\u001b[38;5;132;01m%s\u001b[39;00m\u001b[38;5;124m\"\u001b[39m\u001b[38;5;124m]\u001b[39m\u001b[38;5;124m'\u001b[39m \u001b[38;5;241m%\u001b[39m value\n\u001b[1;32m--> 861\u001b[0m \u001b[38;5;28;01mreturn\u001b[39;00m \u001b[38;5;28;43mself\u001b[39;49m\u001b[38;5;241;43m.\u001b[39;49m\u001b[43mexecute\u001b[49m\u001b[43m(\u001b[49m\u001b[43mCommand\u001b[49m\u001b[38;5;241;43m.\u001b[39;49m\u001b[43mFIND_ELEMENT\u001b[49m\u001b[43m,\u001b[49m\u001b[43m \u001b[49m\u001b[43m{\u001b[49m\u001b[38;5;124;43m\"\u001b[39;49m\u001b[38;5;124;43musing\u001b[39;49m\u001b[38;5;124;43m\"\u001b[39;49m\u001b[43m:\u001b[49m\u001b[43m \u001b[49m\u001b[43mby\u001b[49m\u001b[43m,\u001b[49m\u001b[43m \u001b[49m\u001b[38;5;124;43m\"\u001b[39;49m\u001b[38;5;124;43mvalue\u001b[39;49m\u001b[38;5;124;43m\"\u001b[39;49m\u001b[43m:\u001b[49m\u001b[43m \u001b[49m\u001b[43mvalue\u001b[49m\u001b[43m}\u001b[49m\u001b[43m)\u001b[49m[\u001b[38;5;124m\"\u001b[39m\u001b[38;5;124mvalue\u001b[39m\u001b[38;5;124m\"\u001b[39m]\n",
      "File \u001b[1;32mE:\\soft\\anaconda\\envs\\OMEN\\lib\\site-packages\\selenium\\webdriver\\remote\\webdriver.py:444\u001b[0m, in \u001b[0;36mWebDriver.execute\u001b[1;34m(self, driver_command, params)\u001b[0m\n\u001b[0;32m    442\u001b[0m response \u001b[38;5;241m=\u001b[39m \u001b[38;5;28mself\u001b[39m\u001b[38;5;241m.\u001b[39mcommand_executor\u001b[38;5;241m.\u001b[39mexecute(driver_command, params)\n\u001b[0;32m    443\u001b[0m \u001b[38;5;28;01mif\u001b[39;00m response:\n\u001b[1;32m--> 444\u001b[0m     \u001b[38;5;28;43mself\u001b[39;49m\u001b[38;5;241;43m.\u001b[39;49m\u001b[43merror_handler\u001b[49m\u001b[38;5;241;43m.\u001b[39;49m\u001b[43mcheck_response\u001b[49m\u001b[43m(\u001b[49m\u001b[43mresponse\u001b[49m\u001b[43m)\u001b[49m\n\u001b[0;32m    445\u001b[0m     response[\u001b[38;5;124m\"\u001b[39m\u001b[38;5;124mvalue\u001b[39m\u001b[38;5;124m\"\u001b[39m] \u001b[38;5;241m=\u001b[39m \u001b[38;5;28mself\u001b[39m\u001b[38;5;241m.\u001b[39m_unwrap_value(response\u001b[38;5;241m.\u001b[39mget(\u001b[38;5;124m\"\u001b[39m\u001b[38;5;124mvalue\u001b[39m\u001b[38;5;124m\"\u001b[39m, \u001b[38;5;28;01mNone\u001b[39;00m))\n\u001b[0;32m    446\u001b[0m     \u001b[38;5;28;01mreturn\u001b[39;00m response\n",
      "File \u001b[1;32mE:\\soft\\anaconda\\envs\\OMEN\\lib\\site-packages\\selenium\\webdriver\\remote\\errorhandler.py:249\u001b[0m, in \u001b[0;36mErrorHandler.check_response\u001b[1;34m(self, response)\u001b[0m\n\u001b[0;32m    247\u001b[0m         alert_text \u001b[38;5;241m=\u001b[39m value[\u001b[38;5;124m\"\u001b[39m\u001b[38;5;124malert\u001b[39m\u001b[38;5;124m\"\u001b[39m]\u001b[38;5;241m.\u001b[39mget(\u001b[38;5;124m\"\u001b[39m\u001b[38;5;124mtext\u001b[39m\u001b[38;5;124m\"\u001b[39m)\n\u001b[0;32m    248\u001b[0m     \u001b[38;5;28;01mraise\u001b[39;00m exception_class(message, screen, stacktrace, alert_text)  \u001b[38;5;66;03m# type: ignore[call-arg]  # mypy is not smart enough here\u001b[39;00m\n\u001b[1;32m--> 249\u001b[0m \u001b[38;5;28;01mraise\u001b[39;00m exception_class(message, screen, stacktrace)\n",
      "\u001b[1;31mNoSuchElementException\u001b[0m: Message: no such element: Unable to locate element: {\"method\":\"xpath\",\"selector\":\"//*[@id='toAreaCtrl']\"}\n  (Session info: chrome=108.0.5359.125)\nStacktrace:\nBacktrace:\n\t(No symbol) [0x0084F243]\n\t(No symbol) [0x007D7FD1]\n\t(No symbol) [0x006CD04D]\n\t(No symbol) [0x006FC0B0]\n\t(No symbol) [0x006FC22B]\n\t(No symbol) [0x0072E612]\n\t(No symbol) [0x007185D4]\n\t(No symbol) [0x0072C9EB]\n\t(No symbol) [0x00718386]\n\t(No symbol) [0x006F163C]\n\t(No symbol) [0x006F269D]\n\tGetHandleVerifier [0x00AE9A22+2655074]\n\tGetHandleVerifier [0x00ADCA24+2601828]\n\tGetHandleVerifier [0x008F8C0A+619850]\n\tGetHandleVerifier [0x008F7830+614768]\n\t(No symbol) [0x007E05FC]\n\t(No symbol) [0x007E5968]\n\t(No symbol) [0x007E5A55]\n\t(No symbol) [0x007F051B]\n\tBaseThreadInitThunk [0x763BFA29+25]\n\tRtlGetAppContainerNamedObjectPath [0x76FF7A9E+286]\n\tRtlGetAppContainerNamedObjectPath [0x76FF7A6E+238]\n"
     ]
    }
   ],
   "source": [
    "recver  = driver.find_element(\"xpath\", \"//*[@id='toAreaCtrl']\")"
   ]
  },
  {
   "cell_type": "markdown",
   "id": "049b9685",
   "metadata": {},
   "source": [
    "#### 写入主题"
   ]
  },
  {
   "cell_type": "code",
   "execution_count": 18,
   "id": "fe8ec969",
   "metadata": {},
   "outputs": [
    {
     "ename": "NoSuchElementException",
     "evalue": "Message: no such element: Unable to locate element: {\"method\":\"xpath\",\"selector\":\"/html/body/form[2]/div[2]/div[3]/table[3]/tbody/tr[2]/td[2]/div/div/div/input\"}\n  (Session info: chrome=108.0.5359.125)\nStacktrace:\nBacktrace:\n\t(No symbol) [0x0084F243]\n\t(No symbol) [0x007D7FD1]\n\t(No symbol) [0x006CD04D]\n\t(No symbol) [0x006FC0B0]\n\t(No symbol) [0x006FC22B]\n\t(No symbol) [0x0072E612]\n\t(No symbol) [0x007185D4]\n\t(No symbol) [0x0072C9EB]\n\t(No symbol) [0x00718386]\n\t(No symbol) [0x006F163C]\n\t(No symbol) [0x006F269D]\n\tGetHandleVerifier [0x00AE9A22+2655074]\n\tGetHandleVerifier [0x00ADCA24+2601828]\n\tGetHandleVerifier [0x008F8C0A+619850]\n\tGetHandleVerifier [0x008F7830+614768]\n\t(No symbol) [0x007E05FC]\n\t(No symbol) [0x007E5968]\n\t(No symbol) [0x007E5A55]\n\t(No symbol) [0x007F051B]\n\tBaseThreadInitThunk [0x763BFA29+25]\n\tRtlGetAppContainerNamedObjectPath [0x76FF7A9E+286]\n\tRtlGetAppContainerNamedObjectPath [0x76FF7A6E+238]\n",
     "output_type": "error",
     "traceback": [
      "\u001b[1;31m---------------------------------------------------------------------------\u001b[0m",
      "\u001b[1;31mNoSuchElementException\u001b[0m                    Traceback (most recent call last)",
      "Cell \u001b[1;32mIn[18], line 1\u001b[0m\n\u001b[1;32m----> 1\u001b[0m title \u001b[38;5;241m=\u001b[39m \u001b[43mdriver\u001b[49m\u001b[38;5;241;43m.\u001b[39;49m\u001b[43mfind_element\u001b[49m\u001b[43m(\u001b[49m\u001b[38;5;124;43m\"\u001b[39;49m\u001b[38;5;124;43mxpath\u001b[39;49m\u001b[38;5;124;43m\"\u001b[39;49m\u001b[43m,\u001b[49m\u001b[43m \u001b[49m\u001b[38;5;124;43m\"\u001b[39;49m\u001b[38;5;124;43m/html/body/form[2]/div[2]/div[3]/table[3]/tbody/tr[2]/td[2]/div/div/div/input\u001b[39;49m\u001b[38;5;124;43m\"\u001b[39;49m\u001b[43m)\u001b[49m\n",
      "File \u001b[1;32mE:\\soft\\anaconda\\envs\\OMEN\\lib\\site-packages\\selenium\\webdriver\\remote\\webdriver.py:861\u001b[0m, in \u001b[0;36mWebDriver.find_element\u001b[1;34m(self, by, value)\u001b[0m\n\u001b[0;32m    858\u001b[0m     by \u001b[38;5;241m=\u001b[39m By\u001b[38;5;241m.\u001b[39mCSS_SELECTOR\n\u001b[0;32m    859\u001b[0m     value \u001b[38;5;241m=\u001b[39m \u001b[38;5;124m'\u001b[39m\u001b[38;5;124m[name=\u001b[39m\u001b[38;5;124m\"\u001b[39m\u001b[38;5;132;01m%s\u001b[39;00m\u001b[38;5;124m\"\u001b[39m\u001b[38;5;124m]\u001b[39m\u001b[38;5;124m'\u001b[39m \u001b[38;5;241m%\u001b[39m value\n\u001b[1;32m--> 861\u001b[0m \u001b[38;5;28;01mreturn\u001b[39;00m \u001b[38;5;28;43mself\u001b[39;49m\u001b[38;5;241;43m.\u001b[39;49m\u001b[43mexecute\u001b[49m\u001b[43m(\u001b[49m\u001b[43mCommand\u001b[49m\u001b[38;5;241;43m.\u001b[39;49m\u001b[43mFIND_ELEMENT\u001b[49m\u001b[43m,\u001b[49m\u001b[43m \u001b[49m\u001b[43m{\u001b[49m\u001b[38;5;124;43m\"\u001b[39;49m\u001b[38;5;124;43musing\u001b[39;49m\u001b[38;5;124;43m\"\u001b[39;49m\u001b[43m:\u001b[49m\u001b[43m \u001b[49m\u001b[43mby\u001b[49m\u001b[43m,\u001b[49m\u001b[43m \u001b[49m\u001b[38;5;124;43m\"\u001b[39;49m\u001b[38;5;124;43mvalue\u001b[39;49m\u001b[38;5;124;43m\"\u001b[39;49m\u001b[43m:\u001b[49m\u001b[43m \u001b[49m\u001b[43mvalue\u001b[49m\u001b[43m}\u001b[49m\u001b[43m)\u001b[49m[\u001b[38;5;124m\"\u001b[39m\u001b[38;5;124mvalue\u001b[39m\u001b[38;5;124m\"\u001b[39m]\n",
      "File \u001b[1;32mE:\\soft\\anaconda\\envs\\OMEN\\lib\\site-packages\\selenium\\webdriver\\remote\\webdriver.py:444\u001b[0m, in \u001b[0;36mWebDriver.execute\u001b[1;34m(self, driver_command, params)\u001b[0m\n\u001b[0;32m    442\u001b[0m response \u001b[38;5;241m=\u001b[39m \u001b[38;5;28mself\u001b[39m\u001b[38;5;241m.\u001b[39mcommand_executor\u001b[38;5;241m.\u001b[39mexecute(driver_command, params)\n\u001b[0;32m    443\u001b[0m \u001b[38;5;28;01mif\u001b[39;00m response:\n\u001b[1;32m--> 444\u001b[0m     \u001b[38;5;28;43mself\u001b[39;49m\u001b[38;5;241;43m.\u001b[39;49m\u001b[43merror_handler\u001b[49m\u001b[38;5;241;43m.\u001b[39;49m\u001b[43mcheck_response\u001b[49m\u001b[43m(\u001b[49m\u001b[43mresponse\u001b[49m\u001b[43m)\u001b[49m\n\u001b[0;32m    445\u001b[0m     response[\u001b[38;5;124m\"\u001b[39m\u001b[38;5;124mvalue\u001b[39m\u001b[38;5;124m\"\u001b[39m] \u001b[38;5;241m=\u001b[39m \u001b[38;5;28mself\u001b[39m\u001b[38;5;241m.\u001b[39m_unwrap_value(response\u001b[38;5;241m.\u001b[39mget(\u001b[38;5;124m\"\u001b[39m\u001b[38;5;124mvalue\u001b[39m\u001b[38;5;124m\"\u001b[39m, \u001b[38;5;28;01mNone\u001b[39;00m))\n\u001b[0;32m    446\u001b[0m     \u001b[38;5;28;01mreturn\u001b[39;00m response\n",
      "File \u001b[1;32mE:\\soft\\anaconda\\envs\\OMEN\\lib\\site-packages\\selenium\\webdriver\\remote\\errorhandler.py:249\u001b[0m, in \u001b[0;36mErrorHandler.check_response\u001b[1;34m(self, response)\u001b[0m\n\u001b[0;32m    247\u001b[0m         alert_text \u001b[38;5;241m=\u001b[39m value[\u001b[38;5;124m\"\u001b[39m\u001b[38;5;124malert\u001b[39m\u001b[38;5;124m\"\u001b[39m]\u001b[38;5;241m.\u001b[39mget(\u001b[38;5;124m\"\u001b[39m\u001b[38;5;124mtext\u001b[39m\u001b[38;5;124m\"\u001b[39m)\n\u001b[0;32m    248\u001b[0m     \u001b[38;5;28;01mraise\u001b[39;00m exception_class(message, screen, stacktrace, alert_text)  \u001b[38;5;66;03m# type: ignore[call-arg]  # mypy is not smart enough here\u001b[39;00m\n\u001b[1;32m--> 249\u001b[0m \u001b[38;5;28;01mraise\u001b[39;00m exception_class(message, screen, stacktrace)\n",
      "\u001b[1;31mNoSuchElementException\u001b[0m: Message: no such element: Unable to locate element: {\"method\":\"xpath\",\"selector\":\"/html/body/form[2]/div[2]/div[3]/table[3]/tbody/tr[2]/td[2]/div/div/div/input\"}\n  (Session info: chrome=108.0.5359.125)\nStacktrace:\nBacktrace:\n\t(No symbol) [0x0084F243]\n\t(No symbol) [0x007D7FD1]\n\t(No symbol) [0x006CD04D]\n\t(No symbol) [0x006FC0B0]\n\t(No symbol) [0x006FC22B]\n\t(No symbol) [0x0072E612]\n\t(No symbol) [0x007185D4]\n\t(No symbol) [0x0072C9EB]\n\t(No symbol) [0x00718386]\n\t(No symbol) [0x006F163C]\n\t(No symbol) [0x006F269D]\n\tGetHandleVerifier [0x00AE9A22+2655074]\n\tGetHandleVerifier [0x00ADCA24+2601828]\n\tGetHandleVerifier [0x008F8C0A+619850]\n\tGetHandleVerifier [0x008F7830+614768]\n\t(No symbol) [0x007E05FC]\n\t(No symbol) [0x007E5968]\n\t(No symbol) [0x007E5A55]\n\t(No symbol) [0x007F051B]\n\tBaseThreadInitThunk [0x763BFA29+25]\n\tRtlGetAppContainerNamedObjectPath [0x76FF7A9E+286]\n\tRtlGetAppContainerNamedObjectPath [0x76FF7A6E+238]\n"
     ]
    }
   ],
   "source": [
    "title = driver.find_element(\"xpath\", \"/html/body/form[2]/div[2]/div[3]/table[3]/tbody/tr[2]/td[2]/div/div/div/input\")\n",
    "# 找到的是邮件搜索，为什么"
   ]
  },
  {
   "cell_type": "code",
   "execution_count": 17,
   "id": "039ddacb",
   "metadata": {},
   "outputs": [],
   "source": [
    "title.send_keys('为什么')"
   ]
  },
  {
   "cell_type": "code",
   "execution_count": 45,
   "id": "6dbb9e23",
   "metadata": {},
   "outputs": [],
   "source": [
    "title.clear()"
   ]
  },
  {
   "cell_type": "markdown",
   "id": "6c938637",
   "metadata": {},
   "source": [
    "#### 定时发送"
   ]
  },
  {
   "cell_type": "code",
   "execution_count": null,
   "id": "ba4a1d41",
   "metadata": {},
   "outputs": [],
   "source": []
  },
  {
   "cell_type": "code",
   "execution_count": null,
   "id": "eedf9dab",
   "metadata": {},
   "outputs": [],
   "source": []
  },
  {
   "cell_type": "code",
   "execution_count": null,
   "id": "559ca209",
   "metadata": {},
   "outputs": [],
   "source": []
  },
  {
   "cell_type": "code",
   "execution_count": null,
   "id": "3f64ddc3",
   "metadata": {},
   "outputs": [],
   "source": []
  },
  {
   "cell_type": "code",
   "execution_count": null,
   "id": "546f9690",
   "metadata": {},
   "outputs": [],
   "source": []
  },
  {
   "cell_type": "code",
   "execution_count": null,
   "id": "7dd644e4",
   "metadata": {},
   "outputs": [],
   "source": []
  },
  {
   "cell_type": "code",
   "execution_count": null,
   "id": "6b448617",
   "metadata": {},
   "outputs": [],
   "source": []
  }
 ],
 "metadata": {
  "kernelspec": {
   "display_name": "Python 3 (ipykernel)",
   "language": "python",
   "name": "python3"
  },
  "language_info": {
   "codemirror_mode": {
    "name": "ipython",
    "version": 3
   },
   "file_extension": ".py",
   "mimetype": "text/x-python",
   "name": "python",
   "nbconvert_exporter": "python",
   "pygments_lexer": "ipython3",
   "version": "3.8.15"
  }
 },
 "nbformat": 4,
 "nbformat_minor": 5
}
