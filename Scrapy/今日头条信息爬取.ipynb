{
 "cells": [
  {
   "cell_type": "code",
   "execution_count": 200,
   "id": "5a70f0f6",
   "metadata": {},
   "outputs": [],
   "source": [
    "import re"
   ]
  },
  {
   "cell_type": "code",
   "execution_count": 201,
   "id": "d72d7ef8",
   "metadata": {},
   "outputs": [],
   "source": [
    "dpath='E:\\soft\\selenium\\chromedriver.exe'\n",
    "import time\n",
    "import pymongo\n",
    "from selenium import webdriver\n",
    "from selenium.webdriver.support import expected_conditions as EC\n",
    "from selenium.webdriver.common.by import By\n",
    "from selenium.webdriver.support.ui import WebDriverWait\n",
    "from lxml import etree"
   ]
  },
  {
   "cell_type": "code",
   "execution_count": 237,
   "id": "1690e351",
   "metadata": {},
   "outputs": [],
   "source": [
    "browser = webdriver.Chrome(dpath)\n",
    "wait = WebDriverWait(browser, 30)"
   ]
  },
  {
   "cell_type": "code",
   "execution_count": 203,
   "id": "20fd378a",
   "metadata": {},
   "outputs": [],
   "source": [
    "db = pymongo.MongoClient('mongodb://localhost:27017/')['mydb']['iPadPro']"
   ]
  },
  {
   "cell_type": "code",
   "execution_count": 210,
   "id": "367eb21c",
   "metadata": {},
   "outputs": [],
   "source": [
    "mykey='iphone13'"
   ]
  },
  {
   "cell_type": "code",
   "execution_count": 211,
   "id": "43ee2a25",
   "metadata": {},
   "outputs": [],
   "source": [
    "url='https://so.toutiao.com/search?dvpf=pc&source=input&keyword='+mykey+'&pd=information&action_type=pagination&page_num=0&from=news&cur_tab_title=news'"
   ]
  },
  {
   "cell_type": "code",
   "execution_count": 238,
   "id": "4ff158c7",
   "metadata": {},
   "outputs": [],
   "source": [
    "browser.get(url)"
   ]
  },
  {
   "cell_type": "markdown",
   "id": "712f98c7",
   "metadata": {},
   "source": [
    "# 下一页"
   ]
  },
  {
   "cell_type": "code",
   "execution_count": 208,
   "id": "0e444024",
   "metadata": {},
   "outputs": [],
   "source": [
    "nextPage = wait.until(\n",
    "            EC.element_to_be_clickable((By.CSS_SELECTOR, 'div[class=\"cs-view cs-view-block cs-pagination\"] > a:last-child > div > span'))\n",
    "        )\n",
    "nextPage.click()"
   ]
  },
  {
   "cell_type": "code",
   "execution_count": 239,
   "id": "f20d9c55",
   "metadata": {},
   "outputs": [],
   "source": [
    "box = browser.find_elements_by_xpath('//div[@class=\"cs-view cs-view-block cs-card-content\"]')"
   ]
  },
  {
   "cell_type": "code",
   "execution_count": 214,
   "id": "7de90468",
   "metadata": {},
   "outputs": [
    {
     "data": {
      "text/plain": [
       "selenium.webdriver.remote.webelement.WebElement"
      ]
     },
     "execution_count": 214,
     "metadata": {},
     "output_type": "execute_result"
    }
   ],
   "source": [
    "type(box[2])"
   ]
  },
  {
   "cell_type": "code",
   "execution_count": 243,
   "id": "efca3fb4",
   "metadata": {},
   "outputs": [],
   "source": [
    "re = box[1]"
   ]
  },
  {
   "cell_type": "code",
   "execution_count": 254,
   "id": "2fd7765c",
   "metadata": {},
   "outputs": [],
   "source": [
    "o1 = re.find_elements_by_xpath('./div[last()-1]/div/a')"
   ]
  },
  {
   "cell_type": "code",
   "execution_count": 263,
   "id": "bde4c8c0",
   "metadata": {},
   "outputs": [
    {
     "data": {
      "text/plain": [
       "selenium.webdriver.remote.webelement.WebElement"
      ]
     },
     "execution_count": 263,
     "metadata": {},
     "output_type": "execute_result"
    }
   ],
   "source": [
    "type(o1[0])"
   ]
  },
  {
   "cell_type": "code",
   "execution_count": 265,
   "id": "c80d3915",
   "metadata": {},
   "outputs": [
    {
     "data": {
      "text/plain": [
       "'https://so.toutiao.com/search/jump?url=http%3A%2F%2Fwww.toutiao.com%2Fa7140785654815801889%2F%3Fchannel%3D%26source%3Dnews&aid=4916&jtoken=e5cb68446a79ba5d6b844e3a2da048e7a0d1b9f8671ea0f898aabd33db20f292f3abc0d08f35bb62cdae36f75ca46f38658499ab85de901cfb90a4eab7b0baa6'"
      ]
     },
     "execution_count": 265,
     "metadata": {},
     "output_type": "execute_result"
    }
   ],
   "source": [
    "o1[0].get_attribute('href')"
   ]
  },
  {
   "cell_type": "code",
   "execution_count": 250,
   "id": "bb204b73",
   "metadata": {},
   "outputs": [
    {
     "ename": "IndexError",
     "evalue": "list index out of range",
     "output_type": "error",
     "traceback": [
      "\u001b[1;31m---------------------------------------------------------------------------\u001b[0m",
      "\u001b[1;31mIndexError\u001b[0m                                Traceback (most recent call last)",
      "Input \u001b[1;32mIn [250]\u001b[0m, in \u001b[0;36m<cell line: 1>\u001b[1;34m()\u001b[0m\n\u001b[1;32m----> 1\u001b[0m \u001b[43mo1\u001b[49m\u001b[43m[\u001b[49m\u001b[38;5;241;43m0\u001b[39;49m\u001b[43m]\u001b[49m\u001b[38;5;241m.\u001b[39mtext\n",
      "\u001b[1;31mIndexError\u001b[0m: list index out of range"
     ]
    }
   ],
   "source": [
    "o1[0].text"
   ]
  },
  {
   "cell_type": "code",
   "execution_count": 234,
   "id": "b7f99958",
   "metadata": {},
   "outputs": [],
   "source": [
    "o1[0].click()"
   ]
  },
  {
   "cell_type": "code",
   "execution_count": 191,
   "id": "a0a696f4",
   "metadata": {},
   "outputs": [],
   "source": [
    "for b in box:\n",
    "    s=b.text\n",
    "    list1=re.split('\\n',s)\n",
    "    item={}\n",
    "    #print(len(list1))\n",
    "    item['title']=list1[0]\n",
    "    item['info']=list1[1]\n",
    "    item['name']=list1[2]\n",
    "    #item['comment']=list1[3]\n",
    "    item['date']=list1[-1]\n",
    "    db.insert_one(item)"
   ]
  },
  {
   "cell_type": "code",
   "execution_count": 193,
   "id": "15f301bb",
   "metadata": {},
   "outputs": [],
   "source": [
    "def insert(box):\n",
    "    for b in box:\n",
    "        s=b.text\n",
    "        list1=re.split('\\n',s)\n",
    "        item={}\n",
    "        #print(len(list1))\n",
    "        item['title']=list1[0]\n",
    "        item['info']=list1[1]\n",
    "        item['name']=list1[2]\n",
    "        #item['comment']=list1[3]\n",
    "        item['date']=list1[-1]\n",
    "        db.insert_one(item)"
   ]
  },
  {
   "cell_type": "code",
   "execution_count": 196,
   "id": "ab32e058",
   "metadata": {},
   "outputs": [],
   "source": [
    "def next_page():\n",
    "    nextPage = wait.until(\n",
    "            EC.element_to_be_clickable((By.CSS_SELECTOR, 'div[class=\"cs-view cs-view-block cs-pagination\"] > a:last-child > div > span'))\n",
    "        )\n",
    "    nextPage.click()\n",
    "    box = browser.find_elements_by_xpath('//div[@class=\"cs-view cs-view-block cs-card-content\"]')\n",
    "    insert(box)"
   ]
  },
  {
   "cell_type": "code",
   "execution_count": 199,
   "id": "0f8e65e8",
   "metadata": {},
   "outputs": [],
   "source": [
    "for i in range(10):\n",
    "    next_page()"
   ]
  },
  {
   "cell_type": "code",
   "execution_count": null,
   "id": "076b4f42",
   "metadata": {},
   "outputs": [],
   "source": []
  },
  {
   "cell_type": "code",
   "execution_count": null,
   "id": "b0fc7808",
   "metadata": {},
   "outputs": [],
   "source": []
  },
  {
   "cell_type": "code",
   "execution_count": null,
   "id": "8db570d5",
   "metadata": {},
   "outputs": [],
   "source": []
  },
  {
   "cell_type": "code",
   "execution_count": null,
   "id": "8e0d7110",
   "metadata": {},
   "outputs": [],
   "source": []
  },
  {
   "cell_type": "code",
   "execution_count": null,
   "id": "f25c481e",
   "metadata": {},
   "outputs": [],
   "source": []
  },
  {
   "cell_type": "code",
   "execution_count": null,
   "id": "ddf3fa22",
   "metadata": {},
   "outputs": [],
   "source": []
  },
  {
   "cell_type": "code",
   "execution_count": null,
   "id": "ebab345f",
   "metadata": {},
   "outputs": [],
   "source": []
  },
  {
   "cell_type": "code",
   "execution_count": null,
   "id": "024fc633",
   "metadata": {},
   "outputs": [],
   "source": []
  },
  {
   "cell_type": "code",
   "execution_count": null,
   "id": "9185785d",
   "metadata": {},
   "outputs": [],
   "source": []
  },
  {
   "cell_type": "code",
   "execution_count": null,
   "id": "9c334dec",
   "metadata": {},
   "outputs": [],
   "source": []
  },
  {
   "cell_type": "code",
   "execution_count": null,
   "id": "fdde4830",
   "metadata": {},
   "outputs": [],
   "source": []
  },
  {
   "cell_type": "code",
   "execution_count": null,
   "id": "1403bfbc",
   "metadata": {},
   "outputs": [],
   "source": []
  },
  {
   "cell_type": "code",
   "execution_count": null,
   "id": "ef7ba002",
   "metadata": {},
   "outputs": [],
   "source": []
  },
  {
   "cell_type": "code",
   "execution_count": null,
   "id": "a0443347",
   "metadata": {},
   "outputs": [],
   "source": []
  },
  {
   "cell_type": "code",
   "execution_count": null,
   "id": "9f9415a4",
   "metadata": {},
   "outputs": [],
   "source": []
  },
  {
   "cell_type": "code",
   "execution_count": null,
   "id": "5f0ba410",
   "metadata": {},
   "outputs": [],
   "source": []
  },
  {
   "cell_type": "code",
   "execution_count": 160,
   "id": "3433c741",
   "metadata": {},
   "outputs": [],
   "source": [
    "title=browser.find_elements_by_xpath('//div[@class=\"cs-view cs-view-block cs-card-content\"]/div[last()-1]')\n",
    "infos=browser.find_elements_by_xpath('//div[@class=\"cs-view cs-view-block cs-card-content\"]/div[last()]')"
   ]
  },
  {
   "cell_type": "code",
   "execution_count": 128,
   "id": "ed314edd",
   "metadata": {},
   "outputs": [
    {
     "data": {
      "text/plain": [
       "[]"
      ]
     },
     "execution_count": 128,
     "metadata": {},
     "output_type": "execute_result"
    }
   ],
   "source": [
    "info.xpath(\".//div[last()]/div[last()-1]/div/span/text()\")"
   ]
  },
  {
   "cell_type": "code",
   "execution_count": 77,
   "id": "554a2ce7",
   "metadata": {},
   "outputs": [],
   "source": [
    "items = html.xpath('//div[@class=\"cs-view cs-view-block cs-card-content\"]')"
   ]
  },
  {
   "cell_type": "code",
   "execution_count": 110,
   "id": "266811a8",
   "metadata": {},
   "outputs": [
    {
     "data": {
      "text/plain": [
       "[' ',\n",
       " '全系给我的感觉就是,配色都比较偏向暗色调。 哪怕是那个所谓的猛男粉,实际颜色是这样的,并不足以突显某些男生骚动的内心。 相对来说,更建议...']"
      ]
     },
     "execution_count": 110,
     "metadata": {},
     "output_type": "execute_result"
    }
   ],
   "source": [
    "re.xpath(\".//div[last()]/div[last()-1]/div/span/text()\")"
   ]
  },
  {
   "cell_type": "code",
   "execution_count": 88,
   "id": "4df7d9d5",
   "metadata": {},
   "outputs": [],
   "source": [
    "out = re.xpath(\".//div[last()]/div[last()]/div[last()]/div/div/span\")"
   ]
  },
  {
   "cell_type": "code",
   "execution_count": 103,
   "id": "fa10cf6b",
   "metadata": {},
   "outputs": [
    {
     "data": {
      "text/plain": [
       "'15评论'"
      ]
     },
     "execution_count": 103,
     "metadata": {},
     "output_type": "execute_result"
    }
   ],
   "source": []
  },
  {
   "cell_type": "code",
   "execution_count": 96,
   "id": "5ebbc847",
   "metadata": {},
   "outputs": [
    {
     "data": {
      "text/plain": [
       "['定焦数码']"
      ]
     },
     "execution_count": 96,
     "metadata": {},
     "output_type": "execute_result"
    }
   ],
   "source": [
    "#info.xpath(\".//span/text()\")"
   ]
  },
  {
   "cell_type": "code",
   "execution_count": null,
   "id": "582ee70f",
   "metadata": {},
   "outputs": [],
   "source": []
  },
  {
   "cell_type": "code",
   "execution_count": null,
   "id": "dc4fee32",
   "metadata": {},
   "outputs": [],
   "source": []
  },
  {
   "cell_type": "code",
   "execution_count": null,
   "id": "9a5a0390",
   "metadata": {},
   "outputs": [],
   "source": []
  },
  {
   "cell_type": "code",
   "execution_count": null,
   "id": "6291cfa6",
   "metadata": {},
   "outputs": [],
   "source": []
  },
  {
   "cell_type": "code",
   "execution_count": null,
   "id": "fe57c816",
   "metadata": {},
   "outputs": [],
   "source": []
  },
  {
   "cell_type": "code",
   "execution_count": null,
   "id": "962bb62a",
   "metadata": {},
   "outputs": [],
   "source": []
  },
  {
   "cell_type": "code",
   "execution_count": null,
   "id": "25791dcd",
   "metadata": {},
   "outputs": [],
   "source": []
  },
  {
   "cell_type": "code",
   "execution_count": null,
   "id": "5c2b4497",
   "metadata": {},
   "outputs": [],
   "source": []
  },
  {
   "cell_type": "code",
   "execution_count": null,
   "id": "75bf02ad",
   "metadata": {},
   "outputs": [],
   "source": []
  }
 ],
 "metadata": {
  "kernelspec": {
   "display_name": "Python 3 (ipykernel)",
   "language": "python",
   "name": "python3"
  },
  "language_info": {
   "codemirror_mode": {
    "name": "ipython",
    "version": 3
   },
   "file_extension": ".py",
   "mimetype": "text/x-python",
   "name": "python",
   "nbconvert_exporter": "python",
   "pygments_lexer": "ipython3",
   "version": "3.8.13"
  }
 },
 "nbformat": 4,
 "nbformat_minor": 5
}
