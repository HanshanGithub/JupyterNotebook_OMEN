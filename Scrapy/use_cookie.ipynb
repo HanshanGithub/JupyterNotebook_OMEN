{
 "cells": [
  {
   "cell_type": "code",
   "execution_count": 1,
   "id": "7bd703f8",
   "metadata": {},
   "outputs": [],
   "source": [
    "from selenium import webdriver\n",
    "from selenium.webdriver.support import expected_conditions as EC\n",
    "from selenium.webdriver.common.by import By\n",
    "from selenium.webdriver.support.ui import WebDriverWait\n",
    "from time import sleep\n",
    "from datetime import date\n",
    "from selenium.webdriver.common.keys import Keys\n",
    "from selenium.webdriver.common.action_chains import ActionChains"
   ]
  },
  {
   "cell_type": "code",
   "execution_count": 32,
   "id": "0ddd2b5b",
   "metadata": {},
   "outputs": [],
   "source": [
    "url3 = r'https://mail.qq.com/cgi-bin/frame_html?sid=YGXXTlury64aTi9M'"
   ]
  },
  {
   "cell_type": "code",
   "execution_count": 3,
   "id": "e8e7945b",
   "metadata": {},
   "outputs": [],
   "source": [
    "url2 = r'https://wx.mail.qq.com/home/index?sid=zQVnTowVWWouZUlaAGFzWgAA#/compose/new'"
   ]
  },
  {
   "cell_type": "code",
   "execution_count": 2,
   "id": "bebdf035",
   "metadata": {},
   "outputs": [],
   "source": [
    "url = r'https://mail.qq.com/cgi-bin/frame_html?sid=L7t0qjQCYBGlaQto&r=b2367ddd3800504c2a202c821316dc86&lang=zh'"
   ]
  },
  {
   "cell_type": "code",
   "execution_count": 4,
   "id": "fd45d40a",
   "metadata": {},
   "outputs": [],
   "source": [
    "driver = webdriver.Chrome()"
   ]
  },
  {
   "cell_type": "code",
   "execution_count": 33,
   "id": "e82e87e2",
   "metadata": {},
   "outputs": [],
   "source": [
    "driver.get(url3)"
   ]
  },
  {
   "cell_type": "code",
   "execution_count": 31,
   "id": "192be010",
   "metadata": {},
   "outputs": [],
   "source": [
    "write = driver.find_element(\"xpath\",\"//*[@id='mailMainApp']/div[2]/div/div[1]/div/ul/li[1]\")\n",
    "write.click()"
   ]
  },
  {
   "cell_type": "code",
   "execution_count": 8,
   "id": "45b011bd",
   "metadata": {},
   "outputs": [],
   "source": [
    "recver = driver.find_element(\"xpath\",\"//*[@id='mailMainApp']/div[3]/div/div/div[1]/div[1]/div[3]/div[1]/div[2]/div/div[1]/table/tbody/tr/td/div[1]/input\")\n",
    "recver.send_keys(\"user_tx@163.com\")"
   ]
  },
  {
   "cell_type": "code",
   "execution_count": 11,
   "id": "1218292e",
   "metadata": {},
   "outputs": [],
   "source": [
    "title = driver.find_element(\"xpath\",\"//*[@id='mailMainApp']/div[3]/div/div/div[1]/div[1]/div[6]/div[2]/input\")\n",
    "title.send_keys(\"selenuim demo\")"
   ]
  },
  {
   "cell_type": "code",
   "execution_count": 25,
   "id": "e55cd270",
   "metadata": {},
   "outputs": [],
   "source": [
    "content = driver.find_element(\"xpath\",\"//*[@id='mailMainApp']/div[3]/div/div/div[1]/div[1]/div[7]/div[3]/div/iframe\")"
   ]
  },
  {
   "cell_type": "code",
   "execution_count": 26,
   "id": "0b7d03c7",
   "metadata": {},
   "outputs": [],
   "source": [
    "msg = '这是一个测试信息\\n第二行\\n第三行'"
   ]
  },
  {
   "cell_type": "code",
   "execution_count": 28,
   "id": "c019f9fb",
   "metadata": {},
   "outputs": [],
   "source": [
    "content.send_keys(\"are you ok?\")"
   ]
  },
  {
   "cell_type": "code",
   "execution_count": 29,
   "id": "249efb45",
   "metadata": {},
   "outputs": [],
   "source": [
    "send = driver.find_element(\"xpath\",\"//*[@id='mailMainApp']/div[3]/div/div/div[1]/div[2]/div[2]/button[1]\")"
   ]
  },
  {
   "cell_type": "code",
   "execution_count": 30,
   "id": "dc572e70",
   "metadata": {},
   "outputs": [],
   "source": [
    "send.click()"
   ]
  }
 ],
 "metadata": {
  "kernelspec": {
   "display_name": "Python 3 (ipykernel)",
   "language": "python",
   "name": "python3"
  },
  "language_info": {
   "codemirror_mode": {
    "name": "ipython",
    "version": 3
   },
   "file_extension": ".py",
   "mimetype": "text/x-python",
   "name": "python",
   "nbconvert_exporter": "python",
   "pygments_lexer": "ipython3",
   "version": "3.8.15"
  }
 },
 "nbformat": 4,
 "nbformat_minor": 5
}
