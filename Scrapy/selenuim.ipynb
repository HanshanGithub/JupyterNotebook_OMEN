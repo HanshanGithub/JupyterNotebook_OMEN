{
 "cells": [
  {
   "cell_type": "code",
   "execution_count": 38,
   "id": "1ba33036",
   "metadata": {},
   "outputs": [],
   "source": [
    "dpath='E:\\soft\\selenium\\chromedriver.exe'"
   ]
  },
  {
   "cell_type": "code",
   "execution_count": 39,
   "id": "1afa85cb",
   "metadata": {},
   "outputs": [],
   "source": [
    "import time\n",
    "import pymongo\n",
    "from selenium import webdriver\n",
    "from selenium.webdriver.support import expected_conditions as EC\n",
    "from selenium.webdriver.common.by import By\n",
    "from selenium.webdriver.support.ui import WebDriverWait\n",
    "from lxml import etree\n",
    "from selenium.webdriver.chrome.options import Options"
   ]
  },
  {
   "cell_type": "code",
   "execution_count": 40,
   "id": "a37604b9",
   "metadata": {},
   "outputs": [],
   "source": [
    "browser = webdriver.Chrome(dpath)\n",
    "wait = WebDriverWait(browser, 30)"
   ]
  },
  {
   "cell_type": "code",
   "execution_count": 34,
   "id": "7547451b",
   "metadata": {},
   "outputs": [],
   "source": [
    "item={'1':'111','2':'222'}"
   ]
  },
  {
   "cell_type": "code",
   "execution_count": 35,
   "id": "fe0e6768",
   "metadata": {},
   "outputs": [
    {
     "data": {
      "text/plain": [
       "<pymongo.results.InsertOneResult at 0x1d81987d780>"
      ]
     },
     "execution_count": 35,
     "metadata": {},
     "output_type": "execute_result"
    }
   ],
   "source": [
    "db.insert_one(item)"
   ]
  },
  {
   "cell_type": "code",
   "execution_count": 41,
   "id": "343762aa",
   "metadata": {},
   "outputs": [],
   "source": [
    "db = pymongo.MongoClient('mongodb://localhost:27017/')['mydb']['jd']"
   ]
  },
  {
   "cell_type": "code",
   "execution_count": 23,
   "id": "6fdc2fd1",
   "metadata": {},
   "outputs": [],
   "source": [
    "def search():\n",
    "    browser.get('https://www.jd.com/')\n",
    "    try:\n",
    "        input = wait.until(\n",
    "            EC.presence_of_all_elements_located((By.CSS_SELECTOR, \"#key\"))\n",
    "        )  # llist\n",
    "        submit = wait.until(\n",
    "            EC.element_to_be_clickable((By.CSS_SELECTOR, \"#search > div > div.form > button\"))\n",
    "        )\n",
    "        # input = d.find_element_by_id('key')\n",
    "        # submit = d.find_element_by_id('search-link')\n",
    "        input[0].send_keys('python')\n",
    "        submit.click()\n",
    "\n",
    "        total = wait.until(\n",
    "            EC.presence_of_all_elements_located(\n",
    "                (By.CSS_SELECTOR, '#J_bottomPage > span.p-skip > em:nth-child(1) > b')\n",
    "            )\n",
    "        )\n",
    "        html = browser.page_source\n",
    "        prase_html(html)\n",
    "        return total[0].text\n",
    "    except TimeoutError:\n",
    "        search()"
   ]
  },
  {
   "cell_type": "code",
   "execution_count": 47,
   "id": "a8b36159",
   "metadata": {},
   "outputs": [],
   "source": [
    "def next_page(page_number):\n",
    "    try:\n",
    "        # 滑动到底部，加载出后三十个货物信息\n",
    "        browser.execute_script(\"window.scrollTo(0, document.body.scrollHeight);\")\n",
    "        time.sleep(10)\n",
    "        # 翻页动作\n",
    "        button = wait.until(\n",
    "            EC.element_to_be_clickable((By.CSS_SELECTOR, '#J_bottomPage > span.p-num > a.pn-next > em'))\n",
    "        )\n",
    "        button.click()\n",
    "        wait.until(\n",
    "            EC.presence_of_all_elements_located((By.CSS_SELECTOR, \"#J_goodsList > ul > li:nth-child(60)\"))\n",
    "        )\n",
    "        # 判断翻页成功\n",
    "        wait.until(\n",
    "            EC.text_to_be_present_in_element((By.CSS_SELECTOR, \"#J_bottomPage > span.p-num > a.curr\"), str(page_number))\n",
    "        )\n",
    "        html = browser.page_source\n",
    "        prase_html(html)\n",
    "    except TimeoutError:\n",
    "        return next_page(page_number)"
   ]
  },
  {
   "cell_type": "code",
   "execution_count": 30,
   "id": "44681179",
   "metadata": {},
   "outputs": [],
   "source": [
    "def prase_html(html):\n",
    "    html = etree.HTML(html)\n",
    "    items = html.xpath('//li[@class=\"gl-item\"]')\n",
    "    for i in range(len(items)):\n",
    "        item = {}\n",
    "        if html.xpath('//div[@class=\"p-img\"]//img')[i].get('data-lazy-img') != \"done\":\n",
    "            img = html.xpath('//div[@class=\"p-img\"]//img')[i].get('data-lazy-img')\n",
    "        else:\n",
    "            img = html.xpath('//div[@class=\"p-img\"]//img')[i].get('src')\n",
    "\n",
    "        # 图片url\n",
    "        item[\"img\"] = img\n",
    "        # 标题\n",
    "        item[\"title\"] = html.xpath('//div[@class=\"p-name p-name-type-2\"]//em')[i].xpath('string(.)')\n",
    "        # 价格\n",
    "        item[\"price\"] = html.xpath('//div[@class=\"p-price\"]//i')[i].text\n",
    "        # 评论\n",
    "        item[\"commit\"] = html.xpath('//div[@class=\"p-commit\"]//a')[i].text\n",
    "\n",
    "        save(item)"
   ]
  },
  {
   "cell_type": "code",
   "execution_count": 36,
   "id": "f7651289",
   "metadata": {},
   "outputs": [],
   "source": [
    "def save(item):\n",
    "    try:\n",
    "        db.insert_one(item)\n",
    "    except Exception:\n",
    "        print('{}存储到MongoDB失败'.format(str(item)))"
   ]
  },
  {
   "cell_type": "code",
   "execution_count": 43,
   "id": "fa45fa86",
   "metadata": {},
   "outputs": [],
   "source": [
    "def main():\n",
    "    print(\"第\", 1, \"页：\")\n",
    "    total = int(search())\n",
    "    for i in range(2, total + 1):\n",
    "        #time.sleep(3)\n",
    "        print(\"第\", i, \"页：\")\n",
    "        next_page(i)"
   ]
  },
  {
   "cell_type": "code",
   "execution_count": 46,
   "id": "7da2281f",
   "metadata": {},
   "outputs": [
    {
     "name": "stdout",
     "output_type": "stream",
     "text": [
      "第 1 页：\n",
      "第 2 页：\n"
     ]
    },
    {
     "ename": "TimeoutException",
     "evalue": "Message: \n",
     "output_type": "error",
     "traceback": [
      "\u001b[1;31m---------------------------------------------------------------------------\u001b[0m",
      "\u001b[1;31mTimeoutException\u001b[0m                          Traceback (most recent call last)",
      "Input \u001b[1;32mIn [46]\u001b[0m, in \u001b[0;36m<cell line: 1>\u001b[1;34m()\u001b[0m\n\u001b[1;32m----> 1\u001b[0m \u001b[43mmain\u001b[49m\u001b[43m(\u001b[49m\u001b[43m)\u001b[49m\n",
      "Input \u001b[1;32mIn [43]\u001b[0m, in \u001b[0;36mmain\u001b[1;34m()\u001b[0m\n\u001b[0;32m      4\u001b[0m \u001b[38;5;28;01mfor\u001b[39;00m i \u001b[38;5;129;01min\u001b[39;00m \u001b[38;5;28mrange\u001b[39m(\u001b[38;5;241m2\u001b[39m, total \u001b[38;5;241m+\u001b[39m \u001b[38;5;241m1\u001b[39m):\n\u001b[0;32m      5\u001b[0m     \u001b[38;5;66;03m#time.sleep(3)\u001b[39;00m\n\u001b[0;32m      6\u001b[0m     \u001b[38;5;28mprint\u001b[39m(\u001b[38;5;124m\"\u001b[39m\u001b[38;5;124m第\u001b[39m\u001b[38;5;124m\"\u001b[39m, i, \u001b[38;5;124m\"\u001b[39m\u001b[38;5;124m页：\u001b[39m\u001b[38;5;124m\"\u001b[39m)\n\u001b[1;32m----> 7\u001b[0m     \u001b[43mnext_page\u001b[49m\u001b[43m(\u001b[49m\u001b[43mi\u001b[49m\u001b[43m)\u001b[49m\n",
      "Input \u001b[1;32mIn [45]\u001b[0m, in \u001b[0;36mnext_page\u001b[1;34m(page_number)\u001b[0m\n\u001b[0;32m     11\u001b[0m wait\u001b[38;5;241m.\u001b[39muntil(\n\u001b[0;32m     12\u001b[0m     EC\u001b[38;5;241m.\u001b[39mpresence_of_all_elements_located((By\u001b[38;5;241m.\u001b[39mCSS_SELECTOR, \u001b[38;5;124m\"\u001b[39m\u001b[38;5;124m#J_goodsList > ul > li:nth-child(60)\u001b[39m\u001b[38;5;124m\"\u001b[39m))\n\u001b[0;32m     13\u001b[0m )\n\u001b[0;32m     14\u001b[0m \u001b[38;5;66;03m# 判断翻页成功\u001b[39;00m\n\u001b[1;32m---> 15\u001b[0m \u001b[43mwait\u001b[49m\u001b[38;5;241;43m.\u001b[39;49m\u001b[43muntil\u001b[49m\u001b[43m(\u001b[49m\n\u001b[0;32m     16\u001b[0m \u001b[43m    \u001b[49m\u001b[43mEC\u001b[49m\u001b[38;5;241;43m.\u001b[39;49m\u001b[43mtext_to_be_present_in_element\u001b[49m\u001b[43m(\u001b[49m\u001b[43m(\u001b[49m\u001b[43mBy\u001b[49m\u001b[38;5;241;43m.\u001b[39;49m\u001b[43mCSS_SELECTOR\u001b[49m\u001b[43m,\u001b[49m\u001b[43m \u001b[49m\u001b[38;5;124;43m\"\u001b[39;49m\u001b[38;5;124;43m#J_bottomPage > span.p-num > a.curr\u001b[39;49m\u001b[38;5;124;43m\"\u001b[39;49m\u001b[43m)\u001b[49m\u001b[43m,\u001b[49m\u001b[43m \u001b[49m\u001b[38;5;28;43mstr\u001b[39;49m\u001b[43m(\u001b[49m\u001b[43mpage_number\u001b[49m\u001b[43m)\u001b[49m\u001b[43m)\u001b[49m\n\u001b[0;32m     17\u001b[0m \u001b[43m\u001b[49m\u001b[43m)\u001b[49m\n\u001b[0;32m     18\u001b[0m html \u001b[38;5;241m=\u001b[39m browser\u001b[38;5;241m.\u001b[39mpage_source\n\u001b[0;32m     19\u001b[0m prase_html(html)\n",
      "File \u001b[1;32mE:\\soft\\anaconda3\\envs\\Pytorch38\\lib\\site-packages\\selenium\\webdriver\\support\\wait.py:80\u001b[0m, in \u001b[0;36mWebDriverWait.until\u001b[1;34m(self, method, message)\u001b[0m\n\u001b[0;32m     78\u001b[0m     \u001b[38;5;28;01mif\u001b[39;00m time\u001b[38;5;241m.\u001b[39mtime() \u001b[38;5;241m>\u001b[39m end_time:\n\u001b[0;32m     79\u001b[0m         \u001b[38;5;28;01mbreak\u001b[39;00m\n\u001b[1;32m---> 80\u001b[0m \u001b[38;5;28;01mraise\u001b[39;00m TimeoutException(message, screen, stacktrace)\n",
      "\u001b[1;31mTimeoutException\u001b[0m: Message: \n"
     ]
    }
   ],
   "source": [
    "main()"
   ]
  },
  {
   "cell_type": "code",
   "execution_count": null,
   "id": "5df6a4df",
   "metadata": {},
   "outputs": [],
   "source": []
  },
  {
   "cell_type": "code",
   "execution_count": null,
   "id": "3cfb44fa",
   "metadata": {},
   "outputs": [],
   "source": []
  }
 ],
 "metadata": {
  "kernelspec": {
   "display_name": "Python 3 (ipykernel)",
   "language": "python",
   "name": "python3"
  },
  "language_info": {
   "codemirror_mode": {
    "name": "ipython",
    "version": 3
   },
   "file_extension": ".py",
   "mimetype": "text/x-python",
   "name": "python",
   "nbconvert_exporter": "python",
   "pygments_lexer": "ipython3",
   "version": "3.8.13"
  }
 },
 "nbformat": 4,
 "nbformat_minor": 5
}
