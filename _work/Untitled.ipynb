{
 "cells": [
  {
   "cell_type": "code",
   "execution_count": 3,
   "id": "59d8cd20",
   "metadata": {},
   "outputs": [],
   "source": [
    "import cv2\n",
    "import numpy as np\n",
    "import pandas as pd\n",
    "import scipy.misc\n",
    "from PIL import Image\n",
    "from scipy import misc\n",
    "import imageio\n",
    "import matplotlib.pyplot as plt\n",
    "from sklearn.cluster import KMeans\n",
    "from sklearn.neighbors import KNeighborsClassifier\n",
    "\n",
    "# 处理这个尺寸的图像\n",
    "# 如果更改此数字，则整个模型架构将更改，并且任何模型都需要重新训练\n",
    "\n",
    "IMG_SIZE = 48\n",
    "# 数据集标签和描述\n",
    "CLASSES_DICT = {\n",
    "    0: \"Angry\",\n",
    "    1: \"Disgust\",\n",
    "    2: \"Fear\",\n",
    "    3: \"Happy\",\n",
    "    4: \"Sad\",\n",
    "    5: \"Surprise\",\n",
    "    6: \"Neutral\"\n",
    "}\n",
    "# 数据类别数\n",
    "CLASSES_NUM = 7\n",
    "# 样本数量\n",
    "TRAIN_EXAMPLES_NUM = 10000\n",
    "TEST_EXAMPLES_NUM = 3000\n",
    "# 转化为 one hot 标签\n",
    "ONE_HOT = False\n",
    "\n",
    "# 测试集, 训练集存储路径\n",
    "TRAIN_DATA_SRC = r\"E:\\DataBase\\faceEmotion\\_Modify\\train1w.csv\"\n",
    "TEST_DATA_SRC = r\"E:\\DataBase\\faceEmotion\\_Modify\\test3k.csv\"\n",
    "\n",
    "\n",
    "def load_data(src,\n",
    "              mode,\n",
    "              train_index=TRAIN_EXAMPLES_NUM,\n",
    "              img_size=IMG_SIZE,\n",
    "              one_hot=ONE_HOT,\n",
    "              classes=CLASSES_NUM):\n",
    "    \"\"\"\n",
    "    读取整合数据\n",
    "    训练和测试数据不重复，数据内部不重复\n",
    "    \"\"\"\n",
    "\n",
    "    images = np.array([], dtype=np.float32)\n",
    "    labels = np.array([], dtype=np.float32)\n",
    "\n",
    "    # 有第一行描述行，跳过 header\n",
    "    data = pd.read_csv(src, header=0)\n",
    "\n",
    "    # 0~28708  28709个训练 28709~35886  3589个测试\n",
    "    if mode == \"train\":\n",
    "        data_train = data[:train_index]\n",
    "        labels = data_train[\"emotion\"].values\n",
    "        images = data_train[\"pixels\"].str.split(\" \").values\n",
    "        images = np.concatenate(images)\n",
    "    elif mode == \"test\":\n",
    "        data_test = data[:train_index]\n",
    "        labels = data_test[\"emotion\"].values\n",
    "        images = data_test[\"pixels\"].str.split(\" \").values\n",
    "        images = np.concatenate(images)\n",
    "\n",
    "    images = np.reshape(images, (-1, img_size**2))\n",
    "\n",
    "    if one_hot:\n",
    "        # 转换为 one hot 标签\n",
    "        labels = pd.get_dummies(labels)\n",
    "        labels = labels.values\n",
    "        labels = np.reshape(labels, (-1, classes))\n",
    "\n",
    "    # print(\"data shape:{}\".format(images.shape))\n",
    "    # print(\"label shape:{}\".format(labels.shape))\n",
    "\n",
    "    return images, labels"
   ]
  },
  {
   "cell_type": "code",
   "execution_count": 5,
   "id": "3c83c94f",
   "metadata": {},
   "outputs": [],
   "source": [
    "def next_batch(batch_size):\n",
    "    batch_index=0\n",
    "    \"\"\"随机获得一批数据\"\"\"\n",
    "    max_data = images.shape[0]\n",
    "\n",
    "    if batch_index * batch_size > max_data:\n",
    "        batch_index = 0\n",
    "\n",
    "    if batch_index == 0:\n",
    "        indices = np.arange(max_data)\n",
    "        np.random.shuffle(indices)\n",
    "\n",
    "    start_idx = batch_index * batch_size\n",
    "    rand_x = images[start_idx:start_idx + batch_size]\n",
    "    rand_y = labels[start_idx:start_idx + batch_size]\n",
    "\n",
    "    return rand_x, rand_y"
   ]
  },
  {
   "cell_type": "code",
   "execution_count": 63,
   "id": "c5d28a47",
   "metadata": {},
   "outputs": [],
   "source": [
    "import numpy as np\n",
    "\n",
    "# import get_data\n",
    "from sklearn.cluster import KMeans\n",
    "from matplotlib import pyplot as plt\n",
    "\n",
    "\n",
    "\n",
    "def kmeans(data,s2):\n",
    "    s = KMeans(init='random', n_clusters=7).fit(data)\n",
    "    \n",
    "#     print(s)\n",
    "    label_predict = s.labels_\n",
    "\n",
    "    # print clf.cluster_centers_\n",
    "    # 每个样本所属的簇\n",
    "    # print(s.labels_)\n",
    "    # 用来评估簇的个数是否合适距离越小说明簇分的越好\n",
    "    print(f\"inertia is {s.inertia_}\")\n",
    "    s1 = \"inertia is \" + str(s.inertia_) + s2\n",
    "    logs(s1)\n",
    "    return label_predict"
   ]
  },
  {
   "cell_type": "code",
   "execution_count": 81,
   "id": "4b354726",
   "metadata": {},
   "outputs": [],
   "source": [
    "from tensorflow.keras.models import Sequential\n",
    "from tensorflow.keras.layers import Dense, Flatten, Conv2D, MaxPooling2D, Dropout\n",
    "from tensorflow.keras.losses import sparse_categorical_crossentropy\n",
    "from tensorflow.keras.optimizers import Adam"
   ]
  },
  {
   "cell_type": "markdown",
   "id": "6bb7df3f",
   "metadata": {},
   "source": [
    "### RUNNING"
   ]
  },
  {
   "cell_type": "code",
   "execution_count": 8,
   "id": "a6b3f841",
   "metadata": {},
   "outputs": [],
   "source": [
    "images, labels = load_data(TRAIN_DATA_SRC, \"train\", TRAIN_EXAMPLES_NUM, IMG_SIZE, ONE_HOT, CLASSES_NUM)"
   ]
  },
  {
   "cell_type": "code",
   "execution_count": 122,
   "id": "e1338c66",
   "metadata": {},
   "outputs": [
    {
     "data": {
      "text/plain": [
       "(10000, 2304)"
      ]
     },
     "execution_count": 122,
     "metadata": {},
     "output_type": "execute_result"
    }
   ],
   "source": [
    "images.shape"
   ]
  },
  {
   "cell_type": "code",
   "execution_count": 123,
   "id": "c8bed514",
   "metadata": {},
   "outputs": [],
   "source": [
    "randx1, randy1 = next_batch(8000)"
   ]
  },
  {
   "cell_type": "code",
   "execution_count": 136,
   "id": "c72f044e",
   "metadata": {},
   "outputs": [],
   "source": [
    "def getModel(): \n",
    "    model=Sequential()\n",
    "\n",
    "    #Convolution blocks\n",
    "    model.add(Conv2D(48, kernel_size = (3,3), \n",
    "                     padding='same',\n",
    "                     input_shape=(48,48,1),\n",
    "                     activation='relu'))\n",
    "    model.add(MaxPooling2D(pool_size=2)) \n",
    "\n",
    "    model.add(Conv2D(64, kernel_size = (3,3), \n",
    "                     padding='same',\n",
    "                     activation='relu'))\n",
    "    model.add(MaxPooling2D(pool_size=2)) \n",
    "\n",
    "    model.add(Conv2D(32, kernel_size = (3,3), \n",
    "                     padding='same',\n",
    "                     activation='relu'))\n",
    "    model.add(MaxPooling2D(pool_size=2))\n",
    "\n",
    "    #Classification layers\n",
    "    model.add(Flatten())\n",
    "\n",
    "    model.add(Dense(64,activation='relu'))\n",
    "    model.add(Dropout(0.2))\n",
    "    model.add(Dense(32,activation='relu'))\n",
    "\n",
    "    model.add(Dropout(0.2))\n",
    "    model.add(Dense(7,activation='softmax'))\n",
    "    return model\n",
    "\n",
    "# model.summary()"
   ]
  },
  {
   "cell_type": "code",
   "execution_count": 130,
   "id": "492d9080",
   "metadata": {},
   "outputs": [],
   "source": [
    "floatData = floatData.reshape(8000,48,48)"
   ]
  },
  {
   "cell_type": "code",
   "execution_count": 131,
   "id": "a3fc14e3",
   "metadata": {},
   "outputs": [
    {
     "data": {
      "text/plain": [
       "(8000, 48, 48)"
      ]
     },
     "execution_count": 131,
     "metadata": {},
     "output_type": "execute_result"
    }
   ],
   "source": [
    "floatData.shape"
   ]
  },
  {
   "cell_type": "code",
   "execution_count": 120,
   "id": "5eb1f9dc",
   "metadata": {},
   "outputs": [],
   "source": []
  },
  {
   "cell_type": "code",
   "execution_count": 124,
   "id": "06055703",
   "metadata": {},
   "outputs": [
    {
     "data": {
      "text/plain": [
       "(8000, 2304)"
      ]
     },
     "execution_count": 124,
     "metadata": {},
     "output_type": "execute_result"
    }
   ],
   "source": [
    "type(randx1[2])\n",
    "randx1.shape"
   ]
  },
  {
   "cell_type": "code",
   "execution_count": 151,
   "id": "2a25b833",
   "metadata": {},
   "outputs": [],
   "source": [
    "m1 = getModel()"
   ]
  },
  {
   "cell_type": "code",
   "execution_count": 150,
   "id": "d01c97d9",
   "metadata": {},
   "outputs": [],
   "source": [
    "EP = 50"
   ]
  },
  {
   "cell_type": "code",
   "execution_count": 153,
   "id": "81b0c4d9",
   "metadata": {},
   "outputs": [],
   "source": [
    "m1.compile(optimizer = 'Adam', \n",
    "              loss = 'sparse_categorical_crossentropy', \n",
    "              metrics = ['accuracy'])\n",
    "history = m1.fit(floatData, randy1, batch_size=1000, epochs=EP, shuffle=True, verbose=0,\n",
    "              validation_split=0.1)"
   ]
  },
  {
   "cell_type": "code",
   "execution_count": 154,
   "id": "43b681f3",
   "metadata": {},
   "outputs": [
    {
     "data": {
      "image/png": "[encoded data removed]",
      "text/plain": [
       "<Figure size 1080x1080 with 2 Axes>"
      ]
     },
     "metadata": {
      "needs_background": "light"
     },
     "output_type": "display_data"
    }
   ],
   "source": [
    "history = history.history\n",
    "acc = history['accuracy']\n",
    "val_acc = history['val_accuracy']\n",
    "loss = history['loss']\n",
    "val_loss = history['val_loss']\n",
    "\n",
    "epochs_range = range(EP)\n",
    "\n",
    "plt.figure(figsize=(15, 15))\n",
    "plt.subplot(2, 2, 1)\n",
    "plt.plot(epochs_range, acc, label='Training Accuracy')\n",
    "plt.plot(epochs_range, val_acc, label='Validation Accuracy')\n",
    "plt.legend(loc='lower right')\n",
    "plt.title('Training and Validation Accuracy')\n",
    "\n",
    "plt.subplot(2, 2, 2)\n",
    "plt.plot(epochs_range, loss, label='Training Loss')\n",
    "plt.plot(epochs_range, val_loss, label='Validation Loss')\n",
    "plt.legend(loc='upper right')\n",
    "plt.title('Training and Validation Loss')\n",
    "plt.show()"
   ]
  },
  {
   "cell_type": "markdown",
   "id": "b6205d8f",
   "metadata": {},
   "source": [
    "## ========================================"
   ]
  },
  {
   "cell_type": "code",
   "execution_count": 18,
   "id": "11e72016",
   "metadata": {},
   "outputs": [],
   "source": [
    "s = type(randx1[2][2])"
   ]
  },
  {
   "cell_type": "code",
   "execution_count": 125,
   "id": "6a1e780d",
   "metadata": {},
   "outputs": [],
   "source": [
    "floatData = randx1.astype(np.float64)"
   ]
  },
  {
   "cell_type": "code",
   "execution_count": 79,
   "id": "7f731c40",
   "metadata": {},
   "outputs": [
    {
     "data": {
      "text/plain": [
       "numpy.ndarray"
      ]
     },
     "execution_count": 79,
     "metadata": {},
     "output_type": "execute_result"
    }
   ],
   "source": [
    "type(randx1)"
   ]
  },
  {
   "cell_type": "code",
   "execution_count": null,
   "id": "e82b9dde",
   "metadata": {},
   "outputs": [],
   "source": []
  },
  {
   "cell_type": "code",
   "execution_count": 77,
   "id": "aefb3c8c",
   "metadata": {},
   "outputs": [
    {
     "name": "stdout",
     "output_type": "stream",
     "text": [
      "acc: 13.80 %\n"
     ]
    }
   ],
   "source": [
    "accNum = 0\n",
    "for i in range(len(randy1)):\n",
    "    if(randy1[i]==label_predict[i]):\n",
    "        accNum += 1\n",
    "print('acc: %.2f'%(accNum/len(randy1)*100),'%')"
   ]
  },
  {
   "cell_type": "code",
   "execution_count": 73,
   "id": "352bfb28",
   "metadata": {},
   "outputs": [
    {
     "data": {
      "text/plain": [
       "1"
      ]
     },
     "execution_count": 73,
     "metadata": {},
     "output_type": "execute_result"
    }
   ],
   "source": [
    "label_predict[2]"
   ]
  },
  {
   "cell_type": "code",
   "execution_count": 76,
   "id": "86dac2c6",
   "metadata": {},
   "outputs": [
    {
     "name": "stdout",
     "output_type": "stream",
     "text": [
      "inertia is 24311251979.987434\n"
     ]
    }
   ],
   "source": [
    "label_predict = kmeans(floatData,' floatData')"
   ]
  },
  {
   "cell_type": "code",
   "execution_count": 32,
   "id": "bed449b0",
   "metadata": {},
   "outputs": [],
   "source": [
    "logsList = []"
   ]
  },
  {
   "cell_type": "code",
   "execution_count": 67,
   "id": "bf3d2f68",
   "metadata": {},
   "outputs": [
    {
     "data": {
      "text/plain": [
       "' 2022-09-29 23:01:29 inertia is 24309580861.235424'"
      ]
     },
     "execution_count": 67,
     "metadata": {},
     "output_type": "execute_result"
    }
   ],
   "source": [
    "logsList.pop(0)"
   ]
  },
  {
   "cell_type": "code",
   "execution_count": 38,
   "id": "2a3720f5",
   "metadata": {},
   "outputs": [],
   "source": [
    "def logs(info):\n",
    "    tt = time.strftime(\" %Y-%m-%d %H:%M:%S \", time.localtime())\n",
    "    logsList.append(tt+info)"
   ]
  },
  {
   "cell_type": "code",
   "execution_count": 39,
   "id": "2710cb93",
   "metadata": {},
   "outputs": [],
   "source": [
    "logs('这是第2个信息')"
   ]
  },
  {
   "cell_type": "code",
   "execution_count": 70,
   "id": "b97acf73",
   "metadata": {},
   "outputs": [
    {
     "name": "stdout",
     "output_type": "stream",
     "text": [
      " 2022-09-29 23:02:41 inertia is 24308381112.493477 floatData\n",
      " 2022-09-29 23:03:16 inertia is 24309448350.106155 randx1\n"
     ]
    }
   ],
   "source": [
    "for log in logsList:\n",
    "    print(log)"
   ]
  },
  {
   "cell_type": "code",
   "execution_count": null,
   "id": "fe06d5de",
   "metadata": {},
   "outputs": [],
   "source": []
  },
  {
   "cell_type": "code",
   "execution_count": 35,
   "id": "0c896e64",
   "metadata": {},
   "outputs": [],
   "source": [
    "import time"
   ]
  }
 ],
 "metadata": {
  "kernelspec": {
   "display_name": "Python 3 (ipykernel)",
   "language": "python",
   "name": "python3"
  },
  "language_info": {
   "codemirror_mode": {
    "name": "ipython",
    "version": 3
   },
   "file_extension": ".py",
   "mimetype": "text/x-python",
   "name": "python",
   "nbconvert_exporter": "python",
   "pygments_lexer": "ipython3",
   "version": "3.8.13"
  }
 },
 "nbformat": 4,
 "nbformat_minor": 5
}
