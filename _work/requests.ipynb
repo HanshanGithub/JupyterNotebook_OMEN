{
 "cells": [
  {
   "cell_type": "code",
   "execution_count": 4,
   "id": "04a12cfe",
   "metadata": {},
   "outputs": [],
   "source": [
    "import requests\n",
    "import os"
   ]
  },
  {
   "cell_type": "code",
   "execution_count": 14,
   "id": "0d432f7b",
   "metadata": {},
   "outputs": [],
   "source": [
    "path2 = 'E:\\_Files\\pc\\\\report.csv'"
   ]
  },
  {
   "cell_type": "code",
   "execution_count": 10,
   "id": "dff00f97",
   "metadata": {},
   "outputs": [],
   "source": [
    "path = 'E:\\_Files\\pc\\\\report.xlsx'"
   ]
  },
  {
   "cell_type": "code",
   "execution_count": 20,
   "id": "4da9148d",
   "metadata": {},
   "outputs": [
    {
     "data": {
      "text/plain": [
       "'{\\n  \"args\": {}, \\n  \"data\": \"\", \\n  \"files\": {\\n    \"file\": \"data:application/octet-stream;base64,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\"\\n  }, \\n  \"form\": {}, \\n  \"headers\": {\\n    \"Accept\": \"*/*\", \\n    \"Accept-Encoding\": \"gzip, deflate, br\", \\n    \"Content-Length\": \"6746\", \\n    \"Content-Type\": \"multipart/form-data; boundary=32c7b2896a3546179ed30cf66437a832\", \\n    \"Host\": \"httpbin.org\", \\n    \"User-Agent\": \"python-requests/2.28.1\", \\n    \"X-Amzn-Trace-Id\": \"Root=1-6336fb08-7ad9ce5e2fd59d064e780b48\"\\n  }, \\n  \"json\": null, \\n  \"origin\": \"183.222.198.208\", \\n  \"url\": \"https://httpbin.org/post\"\\n}\\n'"
      ]
     },
     "execution_count": 20,
     "metadata": {},
     "output_type": "execute_result"
    }
   ],
   "source": [
    "url = 'https://httpbin.org/post'\n",
    "files = {'file': open('E:\\_Files\\pc\\\\report.xlsx','rb')}\n",
    "r = requests.post(url,files=files)\n",
    "r.text"
   ]
  },
  {
   "cell_type": "code",
   "execution_count": 18,
   "id": "649fbc5d",
   "metadata": {},
   "outputs": [
    {
     "data": {
      "text/plain": [
       "'{\\n  \"args\": {}, \\n  \"data\": \"\", \\n  \"files\": {\\n    \"file\": \"data:application/vnd.ms-excel;base64,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\"\\n  }, \\n  \"form\": {}, \\n  \"headers\": {\\n    \"Accept\": \"*/*\", \\n    \"Accept-Encoding\": \"gzip, deflate, br\", \\n    \"Content-Length\": \"6814\", \\n    \"Content-Type\": \"multipart/form-data; boundary=935b58b3107e8a9bb548a1224b8b3927\", \\n    \"Host\": \"httpbin.org\", \\n    \"User-Agent\": \"python-requests/2.28.1\", \\n    \"X-Amzn-Trace-Id\": \"Root=1-6336fafb-07b0932827a6ae644d35c16d\"\\n  }, \\n  \"json\": null, \\n  \"origin\": \"183.222.198.208\", \\n  \"url\": \"https://httpbin.org/post\"\\n}\\n'"
      ]
     },
     "execution_count": 18,
     "metadata": {},
     "output_type": "execute_result"
    }
   ],
   "source": [
    "files = {'file':(path,open(path,'rb'),'application/vnd.ms-excel',{'Expires':'0'})}\n",
    "r = requests.post(url,files=files)\n",
    "r.text"
   ]
  },
  {
   "cell_type": "code",
   "execution_count": 17,
   "id": "0ae5304d",
   "metadata": {},
   "outputs": [
    {
     "data": {
      "text/plain": [
       "'{\\n  \"args\": {}, \\n  \"data\": \"\", \\n  \"files\": {\\n    \"file\": \"some,data,to,send\\\\nanother,row,to,send\\\\n\"\\n  }, \\n  \"form\": {}, \\n  \"headers\": {\\n    \"Accept\": \"*/*\", \\n    \"Accept-Encoding\": \"gzip, deflate, br\", \\n    \"Content-Length\": \"201\", \\n    \"Content-Type\": \"multipart/form-data; boundary=b8810ca0712d9afa962caa16b74ededa\", \\n    \"Host\": \"httpbin.org\", \\n    \"User-Agent\": \"python-requests/2.28.1\", \\n    \"X-Amzn-Trace-Id\": \"Root=1-6336faf3-3c59b5fd45dbf8f744f0d38d\"\\n  }, \\n  \"json\": null, \\n  \"origin\": \"183.222.198.208\", \\n  \"url\": \"https://httpbin.org/post\"\\n}\\n'"
      ]
     },
     "execution_count": 17,
     "metadata": {},
     "output_type": "execute_result"
    }
   ],
   "source": [
    "files = {'file':(path,'some,data,to,send\\nanother,row,to,send\\n')}\n",
    "r = requests.post(url,files=files)\n",
    "r.text"
   ]
  },
  {
   "cell_type": "code",
   "execution_count": 24,
   "id": "e926fd29",
   "metadata": {},
   "outputs": [],
   "source": [
    "url = 'https://httpbin.org/get'"
   ]
  },
  {
   "cell_type": "code",
   "execution_count": 26,
   "id": "7da8eb27",
   "metadata": {},
   "outputs": [
    {
     "name": "stdout",
     "output_type": "stream",
     "text": [
      "200\n"
     ]
    },
    {
     "data": {
      "text/plain": [
       "True"
      ]
     },
     "execution_count": 26,
     "metadata": {},
     "output_type": "execute_result"
    }
   ],
   "source": [
    "r = requests.get(url)\n",
    "print(r.status_code)\n",
    "r.status_code == requests.codes.ok"
   ]
  },
  {
   "cell_type": "code",
   "execution_count": 36,
   "id": "64269c1d",
   "metadata": {},
   "outputs": [],
   "source": [
    "bad_r = requests.get('https://httpbin.org/get')\n",
    "bad_r.status_code\n",
    "bad_r.raise_for_status()"
   ]
  },
  {
   "cell_type": "code",
   "execution_count": 39,
   "id": "43444422",
   "metadata": {},
   "outputs": [
    {
     "data": {
      "text/plain": [
       "{'Date': 'Fri, 30 Sep 2022 14:24:41 GMT', 'Content-Type': 'application/json', 'Content-Length': '313', 'Connection': 'keep-alive', 'Server': 'gunicorn/19.9.0', 'Access-Control-Allow-Origin': '*', 'Access-Control-Allow-Credentials': 'true'}"
      ]
     },
     "execution_count": 39,
     "metadata": {},
     "output_type": "execute_result"
    }
   ],
   "source": [
    "bad_r.headers"
   ]
  },
  {
   "cell_type": "code",
   "execution_count": 35,
   "id": "5c440c58",
   "metadata": {},
   "outputs": [
    {
     "data": {
      "text/plain": [
       "'Fri, 30 Sep 2022 14:21:49 GMT'"
      ]
     },
     "execution_count": 35,
     "metadata": {},
     "output_type": "execute_result"
    }
   ],
   "source": [
    "r.headers['date']"
   ]
  },
  {
   "cell_type": "code",
   "execution_count": 43,
   "id": "d22e4383",
   "metadata": {},
   "outputs": [],
   "source": [
    "r = requests.get('https://www.baidu.com/')"
   ]
  },
  {
   "cell_type": "code",
   "execution_count": 45,
   "id": "71cc45e8",
   "metadata": {},
   "outputs": [
    {
     "data": {
      "text/plain": [
       "{'User-Agent': 'python-requests/2.28.1', 'Accept-Encoding': 'gzip, deflate, br', 'Accept': '*/*', 'Connection': 'keep-alive'}"
      ]
     },
     "execution_count": 45,
     "metadata": {},
     "output_type": "execute_result"
    }
   ],
   "source": [
    "r.request.headers"
   ]
  },
  {
   "cell_type": "code",
   "execution_count": 49,
   "id": "757c037c",
   "metadata": {},
   "outputs": [
    {
     "data": {
      "text/plain": [
       "{'Cache-Control': 'private, no-cache, no-store, proxy-revalidate, no-transform', 'Connection': 'keep-alive', 'Content-Encoding': 'gzip', 'Content-Type': 'text/html', 'Date': 'Fri, 30 Sep 2022 14:35:55 GMT', 'Last-Modified': 'Mon, 23 Jan 2017 13:23:55 GMT', 'Pragma': 'no-cache', 'Server': 'bfe/1.0.8.18', 'Set-Cookie': 'BDORZ=27315; max-age=86400; domain=.baidu.com; path=/', 'Transfer-Encoding': 'chunked'}"
      ]
     },
     "execution_count": 49,
     "metadata": {},
     "output_type": "execute_result"
    }
   ],
   "source": [
    "r.headers"
   ]
  },
  {
   "cell_type": "code",
   "execution_count": 52,
   "id": "c6fbbb6e",
   "metadata": {},
   "outputs": [
    {
     "name": "stdout",
     "output_type": "stream",
     "text": [
      "ValuesView({'Cache-Control': 'private, no-cache, no-store, proxy-revalidate, no-transform', 'Connection': 'keep-alive', 'Content-Encoding': 'gzip', 'Content-Type': 'text/html', 'Date': 'Fri, 30 Sep 2022 14:35:55 GMT', 'Last-Modified': 'Mon, 23 Jan 2017 13:23:55 GMT', 'Pragma': 'no-cache', 'Server': 'bfe/1.0.8.18', 'Set-Cookie': 'BDORZ=27315; max-age=86400; domain=.baidu.com; path=/', 'Transfer-Encoding': 'chunked'})\n"
     ]
    }
   ],
   "source": [
    "print(dict1.values())"
   ]
  },
  {
   "cell_type": "code",
   "execution_count": null,
   "id": "bd6ae7ac",
   "metadata": {},
   "outputs": [],
   "source": []
  },
  {
   "cell_type": "code",
   "execution_count": null,
   "id": "7938adcb",
   "metadata": {},
   "outputs": [],
   "source": []
  },
  {
   "cell_type": "code",
   "execution_count": null,
   "id": "a5fa87a9",
   "metadata": {},
   "outputs": [],
   "source": []
  },
  {
   "cell_type": "code",
   "execution_count": null,
   "id": "48dcc3c0",
   "metadata": {},
   "outputs": [],
   "source": []
  },
  {
   "cell_type": "code",
   "execution_count": null,
   "id": "fe8ef241",
   "metadata": {},
   "outputs": [],
   "source": []
  },
  {
   "cell_type": "code",
   "execution_count": null,
   "id": "a0f6a784",
   "metadata": {},
   "outputs": [],
   "source": []
  },
  {
   "cell_type": "code",
   "execution_count": null,
   "id": "b3f313f3",
   "metadata": {},
   "outputs": [],
   "source": []
  },
  {
   "cell_type": "code",
   "execution_count": null,
   "id": "588d4529",
   "metadata": {},
   "outputs": [],
   "source": []
  },
  {
   "cell_type": "code",
   "execution_count": null,
   "id": "fbf564f0",
   "metadata": {},
   "outputs": [],
   "source": []
  },
  {
   "cell_type": "code",
   "execution_count": null,
   "id": "9af122d0",
   "metadata": {},
   "outputs": [],
   "source": []
  }
 ],
 "metadata": {
  "kernelspec": {
   "display_name": "Python 3 (ipykernel)",
   "language": "python",
   "name": "python3"
  },
  "language_info": {
   "codemirror_mode": {
    "name": "ipython",
    "version": 3
   },
   "file_extension": ".py",
   "mimetype": "text/x-python",
   "name": "python",
   "nbconvert_exporter": "python",
   "pygments_lexer": "ipython3",
   "version": "3.8.13"
  }
 },
 "nbformat": 4,
 "nbformat_minor": 5
}
